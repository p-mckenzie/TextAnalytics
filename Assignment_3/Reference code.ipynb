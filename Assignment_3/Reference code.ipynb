{
 "cells": [
  {
   "cell_type": "code",
   "execution_count": 6,
   "metadata": {},
   "outputs": [],
   "source": [
    "import pandas as pd\n",
    "import nltk.sentiment.sentiment_analyzer\n",
    "from nltk.sentiment.vader import SentimentIntensityAnalyzer\n",
    "\n",
    "reviews = pd.read_excel('Edmunds Reviews.xlsx')\n",
    "\n",
    "reviews = reviews.drop_duplicates()\n",
    "\n",
    "from nltk.tokenize import RegexpTokenizer\n",
    "tokenizer = RegexpTokenizer(r'\\w+')\n",
    "reviews['Review'] = reviews['Review'].str.lower()\n",
    "reviews[\"Tokens\"] = reviews[\"Review\"].dropna().map(tokenizer.tokenize)\n",
    "\n",
    "models = ['es','ls','rx','a8','a6','3series','5series','7series','xj','sclass']\n",
    "model_set = set(models)\n",
    "reviews['Intersection'] = reviews['Tokens'].map(lambda x: set(x))\n",
    "\n",
    "reviews['Intersection'] = reviews.Intersection.map(lambda x: set.intersection(x,model_set))\n",
    "reviews['Intersection'] = reviews['Intersection'].map(lambda x: list(x))\n",
    "\n",
    "mask = reviews['Intersection'].str.len() != 0\n",
    "has_models = pd.DataFrame(reviews[mask])\n",
    "\n",
    "import re\n",
    "ten_words = []\n",
    "for index, row in has_models.iterrows():\n",
    "    for i in row['Intersection']:\n",
    "        position = row['Tokens'].index(i) \n",
    "        mod_sent = row['Tokens'][(position-5):(position+6)]\n",
    "        ten_words.append(mod_sent)\n",
    "\t\t\n",
    "models_sentences = []\n",
    "for i in ten_words:\n",
    "    models_sentences.append(\" \".join(i))\n",
    "\n",
    "has_models['Decagrams'] = pd.Series(models_sentences)\n",
    "\n",
    "mod_sents = []\n",
    "analyzer = SentimentIntensityAnalyzer()\n",
    "for sentence in has_models['Decagrams']:\n",
    "    vs = analyzer.polarity_scores(sentence)\n",
    "    mod_sents.append(str(vs))\n",
    "\n",
    "# When you add it to the dataframe it doesn't match up correctly for me, can someone troubleshoot this?\n",
    "has_models['Model Sentiments'] = mod_sents\n"
   ]
  }
 ],
 "metadata": {
  "kernelspec": {
   "display_name": "Python 2",
   "language": "python",
   "name": "python2"
  },
  "language_info": {
   "codemirror_mode": {
    "name": "ipython",
    "version": 2
   },
   "file_extension": ".py",
   "mimetype": "text/x-python",
   "name": "python",
   "nbconvert_exporter": "python",
   "pygments_lexer": "ipython2",
   "version": "2.7.13"
  }
 },
 "nbformat": 4,
 "nbformat_minor": 2
}
