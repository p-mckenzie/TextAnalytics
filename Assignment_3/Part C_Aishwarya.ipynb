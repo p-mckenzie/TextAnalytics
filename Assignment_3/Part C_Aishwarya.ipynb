{
 "cells": [
  {
   "cell_type": "code",
   "execution_count": 120,
   "metadata": {},
   "outputs": [],
   "source": [
    "#VADER Sentiment Analysis\n",
    "\n",
    "import pandas as pd\n",
    "import nltk.sentiment.sentiment_analyzer\n",
    "from nltk.sentiment.vader import SentimentIntensityAnalyzer\n",
    "\n",
    "reviews = pd.read_excel('Edmunds Reviews.xlsx')\n",
    "\n",
    "reviews = reviews.drop_duplicates()\n",
    "\n",
    "from nltk.tokenize import RegexpTokenizer\n",
    "tokenizer = RegexpTokenizer(r'\\w+')\n",
    "reviews['Review'] = reviews['Review'].str.lower()\n",
    "reviews[\"Tokens\"] = reviews[\"Review\"].dropna().map(tokenizer.tokenize)\n",
    "\n",
    "models = ['es','ls','rx','a8','a6','3series','5series','7series','xj','sclass']\n",
    "model_set = set(models)\n",
    "reviews['Intersection'] = reviews['Tokens'].map(lambda x: set(x))\n",
    "\n",
    "reviews['Intersection'] = reviews.Intersection.map(lambda x: set.intersection(x,model_set))\n",
    "reviews['Intersection'] = reviews['Intersection'].map(lambda x: list(x))\n",
    "\n",
    "mask = reviews['Intersection'].str.len() != 0\n",
    "has_models = pd.DataFrame(reviews[mask])\n",
    "\n",
    "import re\n",
    "ten_words = []\n",
    "for index, row in has_models.iterrows():\n",
    "    for i in row['Intersection']:\n",
    "        position = row['Tokens'].index(i) \n",
    "        mod_sent = row['Tokens'][(position-5):(position+6)]\n",
    "        ten_words.append(mod_sent)\n",
    "\t\t\n",
    "models_sentences = []\n",
    "for i in ten_words:\n",
    "    models_sentences.append(\" \".join(i))\n",
    "\n",
    "has_models['Decagrams'] = pd.Series(models_sentences)\n",
    "\n",
    "mod_sents = []\n",
    "analyzer = SentimentIntensityAnalyzer()\n",
    "for sentence in has_models['Decagrams']:\n",
    "    vs = analyzer.polarity_scores(sentence)\n",
    "    mod_sents.append(str(vs))\n",
    "\n",
    "# When you add it to the dataframe it doesn't match up correctly for me, can someone troubleshoot this?\n",
    "has_models['Model Sentiments'] = mod_sents\n"
   ]
  },
  {
   "cell_type": "code",
   "execution_count": 121,
   "metadata": {},
   "outputs": [],
   "source": [
    "#Get compound sentiment \n",
    "def getSentiment(s):\n",
    "    import ast\n",
    "    sent = ast.literal_eval(s)['compound']\n",
    "    return sent\n",
    "\n",
    "has_models['Sentiment'] = has_models['Model Sentiments'].apply(getSentiment)\n"
   ]
  },
  {
   "cell_type": "code",
   "execution_count": 122,
   "metadata": {},
   "outputs": [
    {
     "data": {
      "text/html": [
       "<div>\n",
       "<style>\n",
       "    .dataframe thead tr:only-child th {\n",
       "        text-align: right;\n",
       "    }\n",
       "\n",
       "    .dataframe thead th {\n",
       "        text-align: left;\n",
       "    }\n",
       "\n",
       "    .dataframe tbody tr th {\n",
       "        vertical-align: top;\n",
       "    }\n",
       "</style>\n",
       "<table border=\"1\" class=\"dataframe\">\n",
       "  <thead>\n",
       "    <tr style=\"text-align: right;\">\n",
       "      <th></th>\n",
       "      <th>Review</th>\n",
       "      <th>Tokens</th>\n",
       "      <th>Intersection</th>\n",
       "      <th>Decagrams</th>\n",
       "      <th>Model Sentiments</th>\n",
       "      <th>Sentiment</th>\n",
       "    </tr>\n",
       "  </thead>\n",
       "  <tbody>\n",
       "    <tr>\n",
       "      <th>0</th>\n",
       "      <td>:p i like you, merc. you make me laugh! if mat...</td>\n",
       "      <td>[p, i, like, you, merc, you, make, me, laugh, ...</td>\n",
       "      <td>[rx, ls]</td>\n",
       "      <td>road what was that 2003 rx competing engineers...</td>\n",
       "      <td>{'neg': 0.0, 'neu': 1.0, 'pos': 0.0, 'compound...</td>\n",
       "      <td>0.0000</td>\n",
       "    </tr>\n",
       "    <tr>\n",
       "      <th>1</th>\n",
       "      <td>i am surprised that i did not find any discuss...</td>\n",
       "      <td>[i, am, surprised, that, i, did, not, find, an...</td>\n",
       "      <td>[a8, 7series]</td>\n",
       "      <td>memorable gs and macbeth original ls champaign...</td>\n",
       "      <td>{'neg': 0.0, 'neu': 0.72, 'pos': 0.28, 'compou...</td>\n",
       "      <td>0.3612</td>\n",
       "    </tr>\n",
       "    <tr>\n",
       "      <th>3</th>\n",
       "      <td>. . .let me see if i am following along correc...</td>\n",
       "      <td>[let, me, see, if, i, am, following, along, co...</td>\n",
       "      <td>[a8, a6]</td>\n",
       "      <td>my main candidates are bmw 7series l and audi ...</td>\n",
       "      <td>{'neg': 0.0, 'neu': 1.0, 'pos': 0.0, 'compound...</td>\n",
       "      <td>0.0000</td>\n",
       "    </tr>\n",
       "    <tr>\n",
       "      <th>4</th>\n",
       "      <td>. . .now hold on a minute. a \"current\" a6 4.2 ...</td>\n",
       "      <td>[now, hold, on, a, minute, a, current, a6, 4, ...</td>\n",
       "      <td>[a8, a6]</td>\n",
       "      <td>phaeton v8 or the audi a8 or perhaps even the a8</td>\n",
       "      <td>{'neg': 0.0, 'neu': 1.0, 'pos': 0.0, 'compound...</td>\n",
       "      <td>0.0000</td>\n",
       "    </tr>\n",
       "    <tr>\n",
       "      <th>5</th>\n",
       "      <td>but has anyone noticed the front oh the new ac...</td>\n",
       "      <td>[but, has, anyone, noticed, the, front, oh, th...</td>\n",
       "      <td>[a8]</td>\n",
       "      <td>i assume the new audi a6 will come to i would</td>\n",
       "      <td>{'neg': 0.0, 'neu': 1.0, 'pos': 0.0, 'compound...</td>\n",
       "      <td>0.0000</td>\n",
       "    </tr>\n",
       "  </tbody>\n",
       "</table>\n",
       "</div>"
      ],
      "text/plain": [
       "                                              Review  \\\n",
       "0  :p i like you, merc. you make me laugh! if mat...   \n",
       "1  i am surprised that i did not find any discuss...   \n",
       "3  . . .let me see if i am following along correc...   \n",
       "4  . . .now hold on a minute. a \"current\" a6 4.2 ...   \n",
       "5  but has anyone noticed the front oh the new ac...   \n",
       "\n",
       "                                              Tokens   Intersection  \\\n",
       "0  [p, i, like, you, merc, you, make, me, laugh, ...       [rx, ls]   \n",
       "1  [i, am, surprised, that, i, did, not, find, an...  [a8, 7series]   \n",
       "3  [let, me, see, if, i, am, following, along, co...       [a8, a6]   \n",
       "4  [now, hold, on, a, minute, a, current, a6, 4, ...       [a8, a6]   \n",
       "5  [but, has, anyone, noticed, the, front, oh, th...           [a8]   \n",
       "\n",
       "                                           Decagrams  \\\n",
       "0  road what was that 2003 rx competing engineers...   \n",
       "1  memorable gs and macbeth original ls champaign...   \n",
       "3  my main candidates are bmw 7series l and audi ...   \n",
       "4   phaeton v8 or the audi a8 or perhaps even the a8   \n",
       "5      i assume the new audi a6 will come to i would   \n",
       "\n",
       "                                    Model Sentiments  Sentiment  \n",
       "0  {'neg': 0.0, 'neu': 1.0, 'pos': 0.0, 'compound...     0.0000  \n",
       "1  {'neg': 0.0, 'neu': 0.72, 'pos': 0.28, 'compou...     0.3612  \n",
       "3  {'neg': 0.0, 'neu': 1.0, 'pos': 0.0, 'compound...     0.0000  \n",
       "4  {'neg': 0.0, 'neu': 1.0, 'pos': 0.0, 'compound...     0.0000  \n",
       "5  {'neg': 0.0, 'neu': 1.0, 'pos': 0.0, 'compound...     0.0000  "
      ]
     },
     "execution_count": 122,
     "metadata": {},
     "output_type": "execute_result"
    }
   ],
   "source": [
    "has_models[:5]"
   ]
  },
  {
   "cell_type": "code",
   "execution_count": 123,
   "metadata": {},
   "outputs": [
    {
     "data": {
      "text/plain": [
       "0            [rx, ls, 0.0]\n",
       "1    [a8, 7series, 0.3612]\n",
       "3            [a8, a6, 0.0]\n",
       "4            [a8, a6, 0.0]\n",
       "5                [a8, 0.0]\n",
       "Name: Intersection, dtype: object"
      ]
     },
     "execution_count": 123,
     "metadata": {},
     "output_type": "execute_result"
    }
   ],
   "source": [
    "#concatenate model pairs and associated score\n",
    "def getTuple(x,y):\n",
    "    return x.append(y)\n",
    "    \n",
    "has_models.apply(lambda row: getTuple(row['Intersection'], row['Sentiment']), axis=1)\n",
    "\n",
    "has_models['Intersection'][:5]\n"
   ]
  },
  {
   "cell_type": "code",
   "execution_count": 124,
   "metadata": {},
   "outputs": [
    {
     "ename": "TypeError",
     "evalue": "unhashable type: 'list'",
     "output_type": "error",
     "traceback": [
      "\u001b[1;31m---------------------------------------------------------------------------\u001b[0m",
      "\u001b[1;31mTypeError\u001b[0m                                 Traceback (most recent call last)",
      "\u001b[1;32m<ipython-input-124-bac094132926>\u001b[0m in \u001b[0;36m<module>\u001b[1;34m()\u001b[0m\n\u001b[0;32m      3\u001b[0m \u001b[1;33m\u001b[0m\u001b[0m\n\u001b[0;32m      4\u001b[0m \u001b[1;32mfor\u001b[0m \u001b[0mitem\u001b[0m \u001b[1;32min\u001b[0m \u001b[0mhas_models\u001b[0m\u001b[1;33m[\u001b[0m\u001b[1;34m'Intersection'\u001b[0m\u001b[1;33m]\u001b[0m\u001b[1;33m:\u001b[0m\u001b[1;33m\u001b[0m\u001b[0m\n\u001b[1;32m----> 5\u001b[1;33m     \u001b[0medge_set\u001b[0m\u001b[1;33m.\u001b[0m\u001b[0madd\u001b[0m\u001b[1;33m(\u001b[0m\u001b[0mitem\u001b[0m\u001b[1;33m)\u001b[0m\u001b[1;33m\u001b[0m\u001b[0m\n\u001b[0m",
      "\u001b[1;31mTypeError\u001b[0m: unhashable type: 'list'"
     ]
    }
   ],
   "source": [
    "#Create edge set\n",
    "edge_set = set()\n",
    "\n",
    "for item in has_models['Intersection']:\n",
    "    edge_set.add(item)"
   ]
  }
 ],
 "metadata": {
  "kernelspec": {
   "display_name": "Python 2",
   "language": "python",
   "name": "python2"
  },
  "language_info": {
   "codemirror_mode": {
    "name": "ipython",
    "version": 2
   },
   "file_extension": ".py",
   "mimetype": "text/x-python",
   "name": "python",
   "nbconvert_exporter": "python",
   "pygments_lexer": "ipython2",
   "version": "2.7.13"
  }
 },
 "nbformat": 4,
 "nbformat_minor": 2
}
