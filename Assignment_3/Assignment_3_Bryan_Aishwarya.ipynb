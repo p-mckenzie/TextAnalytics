{
 "cells": [
  {
   "cell_type": "code",
   "execution_count": 10,
   "metadata": {},
   "outputs": [
    {
     "data": {
      "text/html": [
       "<div>\n",
       "<style>\n",
       "    .dataframe thead tr:only-child th {\n",
       "        text-align: right;\n",
       "    }\n",
       "\n",
       "    .dataframe thead th {\n",
       "        text-align: left;\n",
       "    }\n",
       "\n",
       "    .dataframe tbody tr th {\n",
       "        vertical-align: top;\n",
       "    }\n",
       "</style>\n",
       "<table border=\"1\" class=\"dataframe\">\n",
       "  <thead>\n",
       "    <tr style=\"text-align: right;\">\n",
       "      <th></th>\n",
       "      <th>ES</th>\n",
       "      <th>LS</th>\n",
       "      <th>RX</th>\n",
       "      <th>A8</th>\n",
       "      <th>A6</th>\n",
       "      <th>3series</th>\n",
       "      <th>5series</th>\n",
       "      <th>7series</th>\n",
       "      <th>XJ</th>\n",
       "      <th>Sclass</th>\n",
       "    </tr>\n",
       "  </thead>\n",
       "  <tbody>\n",
       "    <tr>\n",
       "      <th>0</th>\n",
       "      <td>NaN</td>\n",
       "      <td>NaN</td>\n",
       "      <td>4.0</td>\n",
       "      <td>3.0</td>\n",
       "      <td>NaN</td>\n",
       "      <td>NaN</td>\n",
       "      <td>NaN</td>\n",
       "      <td>5.0</td>\n",
       "      <td>2.0</td>\n",
       "      <td>1.0</td>\n",
       "    </tr>\n",
       "    <tr>\n",
       "      <th>1</th>\n",
       "      <td>NaN</td>\n",
       "      <td>NaN</td>\n",
       "      <td>3.0</td>\n",
       "      <td>2.0</td>\n",
       "      <td>2.0</td>\n",
       "      <td>2.0</td>\n",
       "      <td>2.0</td>\n",
       "      <td>2.0</td>\n",
       "      <td>NaN</td>\n",
       "      <td>NaN</td>\n",
       "    </tr>\n",
       "    <tr>\n",
       "      <th>2</th>\n",
       "      <td>NaN</td>\n",
       "      <td>4.0</td>\n",
       "      <td>NaN</td>\n",
       "      <td>NaN</td>\n",
       "      <td>NaN</td>\n",
       "      <td>3.0</td>\n",
       "      <td>NaN</td>\n",
       "      <td>3.0</td>\n",
       "      <td>NaN</td>\n",
       "      <td>3.0</td>\n",
       "    </tr>\n",
       "    <tr>\n",
       "      <th>3</th>\n",
       "      <td>NaN</td>\n",
       "      <td>2.0</td>\n",
       "      <td>NaN</td>\n",
       "      <td>2.0</td>\n",
       "      <td>NaN</td>\n",
       "      <td>NaN</td>\n",
       "      <td>NaN</td>\n",
       "      <td>2.0</td>\n",
       "      <td>4.0</td>\n",
       "      <td>2.0</td>\n",
       "    </tr>\n",
       "    <tr>\n",
       "      <th>4</th>\n",
       "      <td>NaN</td>\n",
       "      <td>3.0</td>\n",
       "      <td>3.0</td>\n",
       "      <td>NaN</td>\n",
       "      <td>NaN</td>\n",
       "      <td>NaN</td>\n",
       "      <td>2.0</td>\n",
       "      <td>NaN</td>\n",
       "      <td>NaN</td>\n",
       "      <td>3.0</td>\n",
       "    </tr>\n",
       "  </tbody>\n",
       "</table>\n",
       "</div>"
      ],
      "text/plain": [
       "   ES   LS   RX   A8   A6  3series  5series  7series   XJ  Sclass\n",
       "0 NaN  NaN  4.0  3.0  NaN      NaN      NaN      5.0  2.0     1.0\n",
       "1 NaN  NaN  3.0  2.0  2.0      2.0      2.0      2.0  NaN     NaN\n",
       "2 NaN  4.0  NaN  NaN  NaN      3.0      NaN      3.0  NaN     3.0\n",
       "3 NaN  2.0  NaN  2.0  NaN      NaN      NaN      2.0  4.0     2.0\n",
       "4 NaN  3.0  3.0  NaN  NaN      NaN      2.0      NaN  NaN     3.0"
      ]
     },
     "execution_count": 10,
     "metadata": {},
     "output_type": "execute_result"
    }
   ],
   "source": [
    "import pandas as pd\n",
    "from networkx import to_networkx_graph\n",
    "\n",
    "sent_df = pd.read_csv('Assignment 3 Sentiment Scores.csv')\n",
    "sent_df.head()\n",
    "\n",
    "# to_networkx_graph(sent_df)"
   ]
  },
  {
   "cell_type": "code",
   "execution_count": 11,
   "metadata": {
    "collapsed": true
   },
   "outputs": [],
   "source": [
    "## Convert all brands into 'ES', 'LS', ect. \n",
    "def sentiment_score(reviews_data, brand_list):\n",
    "    sent_scores = {}\n",
    "    for item in brand_list:\n",
    "        sent_scores[item] = list()\n",
    "    for review_id in range(0, len(reviews_data)):\n",
    "        sent_values = sentiment_review(reviews_data.iloc[review_id, 0], brand_list)\n",
    "        for item in brand_list:\n",
    "            sent_scores[item].append(sent_values[item])\n",
    "    fin = pd.DataFrame.from_dict(sent_scores, oreint='columns')\n",
    "    fin.to_csv('Sentiment_Scores.csv', index=False)\n",
    "    return sent_scores"
   ]
  },
  {
   "cell_type": "code",
   "execution_count": 12,
   "metadata": {
    "collapsed": true
   },
   "outputs": [],
   "source": [
    "## ask for sentiment_review code from Aditya"
   ]
  },
  {
   "cell_type": "code",
   "execution_count": 14,
   "metadata": {
    "collapsed": true
   },
   "outputs": [],
   "source": [
    "def form_network(edge_list):\n",
    "    \n",
    "    import networkx as nx\n",
    "    import pylab \n",
    "    directed_graph = nx.DiGraph()\n",
    "    directed_graph.add_weighted_edges_from(edge_list, weight = 'weight')\n",
    "    nx.draw(directed_graph)\n",
    "    pylab.show()\n",
    "    \n",
    "    pagerank_unweighted = nx.pagerank(directed_graph, alpha=0.99, weight=1)\n",
    "    \n",
    "    print pagerank_unweighted\n",
    "    print(len(pagerank_unweighted))\n",
    "    "
   ]
  },
  {
   "cell_type": "code",
   "execution_count": 15,
   "metadata": {
    "collapsed": true
   },
   "outputs": [],
   "source": [
    "def create_edges(sent_scores):\n",
    "    \n",
    "    edge_list = []\n",
    "    brand_list = sent_scores.keys()\n",
    "    for x in range(0, len(brand_list)):\n",
    "        for y in range(x+1, len(brand_list)):\n",
    "            positive_sent = []\n",
    "            negative_sent = []\n",
    "            for i in range(0, len(sent_scores[brand_list[0]])):\n",
    "                sent_x = sent_scores[brand_list[x]][i]\n",
    "                sent_y = sent_scores[brand_list[y]][i]\n",
    "                if ((not(np.isnan(sent_x))) & (not(np.isnan(sent_x)))):\n",
    "                    edge_weight = sent_x - sent_y\n",
    "                    if edge_weight >=0:\n",
    "                        positive_sent.append(edge_weight)\n",
    "                    else:\n",
    "                        negative_sent.append(edge_weight)\n",
    "            if len(positive_sent) >0:\n",
    "                edge_list.append([brand_list[x],brand_list[y],np.mean(positive_sent)])\n",
    "            if len(negative_sent) >0:\n",
    "                edge_list.append([brand_list[x],brand_list[y],abs(np.mean(negative_sent))])\n",
    "    return edge_list"
   ]
  },
  {
   "cell_type": "code",
   "execution_count": 16,
   "metadata": {},
   "outputs": [
    {
     "ename": "NameError",
     "evalue": "global name 'sentiment_review' is not defined",
     "output_type": "error",
     "traceback": [
      "\u001b[1;31m---------------------------------------------------------------------------\u001b[0m",
      "\u001b[1;31mNameError\u001b[0m                                 Traceback (most recent call last)",
      "\u001b[1;32m<ipython-input-16-2afd3d855a25>\u001b[0m in \u001b[0;36m<module>\u001b[1;34m()\u001b[0m\n\u001b[0;32m      1\u001b[0m \u001b[0mreviews_data\u001b[0m \u001b[1;33m=\u001b[0m \u001b[0mpd\u001b[0m\u001b[1;33m.\u001b[0m\u001b[0mread_excel\u001b[0m\u001b[1;33m(\u001b[0m\u001b[1;34m'Edmunds Reviews.xlsx'\u001b[0m\u001b[1;33m,\u001b[0m \u001b[0mencoding\u001b[0m \u001b[1;33m=\u001b[0m \u001b[1;34m'latin1'\u001b[0m\u001b[1;33m)\u001b[0m\u001b[1;33m\u001b[0m\u001b[0m\n\u001b[0;32m      2\u001b[0m \u001b[0mbrand_list\u001b[0m \u001b[1;33m=\u001b[0m \u001b[1;33m[\u001b[0m\u001b[1;34m'A6'\u001b[0m\u001b[1;33m,\u001b[0m\u001b[1;34m'A8'\u001b[0m\u001b[1;33m,\u001b[0m\u001b[1;34m'3-series'\u001b[0m\u001b[1;33m,\u001b[0m\u001b[1;34m'5-series'\u001b[0m\u001b[1;33m,\u001b[0m\u001b[1;34m'7-series'\u001b[0m\u001b[1;33m,\u001b[0m\u001b[1;34m'XJ'\u001b[0m\u001b[1;33m,\u001b[0m\u001b[1;34m'ES'\u001b[0m\u001b[1;33m,\u001b[0m\u001b[1;34m'LS'\u001b[0m\u001b[1;33m,\u001b[0m\u001b[1;34m'RX'\u001b[0m\u001b[1;33m,\u001b[0m\u001b[1;34m'S-class'\u001b[0m\u001b[1;33m]\u001b[0m\u001b[1;33m\u001b[0m\u001b[0m\n\u001b[1;32m----> 3\u001b[1;33m \u001b[0msentiment_scores\u001b[0m \u001b[1;33m=\u001b[0m \u001b[0msentiment_score\u001b[0m\u001b[1;33m(\u001b[0m\u001b[0mreviews_data\u001b[0m\u001b[1;33m,\u001b[0m \u001b[0mbrand_list\u001b[0m\u001b[1;33m)\u001b[0m\u001b[1;33m\u001b[0m\u001b[0m\n\u001b[0m\u001b[0;32m      4\u001b[0m \u001b[0medge_list\u001b[0m \u001b[1;33m=\u001b[0m \u001b[0mcreate_edges\u001b[0m\u001b[1;33m(\u001b[0m\u001b[0msentiment_scores\u001b[0m\u001b[1;33m)\u001b[0m\u001b[1;33m\u001b[0m\u001b[0m\n\u001b[0;32m      5\u001b[0m \u001b[0mpagerank\u001b[0m \u001b[1;33m=\u001b[0m \u001b[0mform_network\u001b[0m\u001b[1;33m(\u001b[0m\u001b[0medge_list\u001b[0m\u001b[1;33m)\u001b[0m\u001b[1;33m\u001b[0m\u001b[0m\n",
      "\u001b[1;32m<ipython-input-11-4587d2e676ff>\u001b[0m in \u001b[0;36msentiment_score\u001b[1;34m(reviews_data, brand_list)\u001b[0m\n\u001b[0;32m      5\u001b[0m         \u001b[0msent_scores\u001b[0m\u001b[1;33m[\u001b[0m\u001b[0mitem\u001b[0m\u001b[1;33m]\u001b[0m \u001b[1;33m=\u001b[0m \u001b[0mlist\u001b[0m\u001b[1;33m(\u001b[0m\u001b[1;33m)\u001b[0m\u001b[1;33m\u001b[0m\u001b[0m\n\u001b[0;32m      6\u001b[0m     \u001b[1;32mfor\u001b[0m \u001b[0mreview_id\u001b[0m \u001b[1;32min\u001b[0m \u001b[0mrange\u001b[0m\u001b[1;33m(\u001b[0m\u001b[1;36m0\u001b[0m\u001b[1;33m,\u001b[0m \u001b[0mlen\u001b[0m\u001b[1;33m(\u001b[0m\u001b[0mreviews_data\u001b[0m\u001b[1;33m)\u001b[0m\u001b[1;33m)\u001b[0m\u001b[1;33m:\u001b[0m\u001b[1;33m\u001b[0m\u001b[0m\n\u001b[1;32m----> 7\u001b[1;33m         \u001b[0msent_values\u001b[0m \u001b[1;33m=\u001b[0m \u001b[0msentiment_review\u001b[0m\u001b[1;33m(\u001b[0m\u001b[0mreviews_data\u001b[0m\u001b[1;33m.\u001b[0m\u001b[0miloc\u001b[0m\u001b[1;33m[\u001b[0m\u001b[0mreview_id\u001b[0m\u001b[1;33m,\u001b[0m \u001b[1;36m0\u001b[0m\u001b[1;33m]\u001b[0m\u001b[1;33m,\u001b[0m \u001b[0mbrand_list\u001b[0m\u001b[1;33m)\u001b[0m\u001b[1;33m\u001b[0m\u001b[0m\n\u001b[0m\u001b[0;32m      8\u001b[0m         \u001b[1;32mfor\u001b[0m \u001b[0mitem\u001b[0m \u001b[1;32min\u001b[0m \u001b[0mbrand_list\u001b[0m\u001b[1;33m:\u001b[0m\u001b[1;33m\u001b[0m\u001b[0m\n\u001b[0;32m      9\u001b[0m             \u001b[0msent_scores\u001b[0m\u001b[1;33m[\u001b[0m\u001b[0mitem\u001b[0m\u001b[1;33m]\u001b[0m\u001b[1;33m.\u001b[0m\u001b[0mappend\u001b[0m\u001b[1;33m(\u001b[0m\u001b[0msent_values\u001b[0m\u001b[1;33m[\u001b[0m\u001b[0mitem\u001b[0m\u001b[1;33m]\u001b[0m\u001b[1;33m)\u001b[0m\u001b[1;33m\u001b[0m\u001b[0m\n",
      "\u001b[1;31mNameError\u001b[0m: global name 'sentiment_review' is not defined"
     ]
    }
   ],
   "source": [
    "reviews_data = pd.read_excel('Edmunds Reviews.xlsx', encoding = 'latin1')\n",
    "brand_list = ['A6','A8','3-series','5-series','7-series','XJ','ES','LS','RX','S-class']\n",
    "sentiment_scores = sentiment_score(reviews_data, brand_list)\n",
    "edge_list = create_edges(sentiment_scores)\n",
    "pagerank = form_network(edge_list)"
   ]
  },
  {
   "cell_type": "code",
   "execution_count": null,
   "metadata": {
    "collapsed": true
   },
   "outputs": [],
   "source": []
  },
  {
   "cell_type": "code",
   "execution_count": null,
   "metadata": {
    "collapsed": true
   },
   "outputs": [],
   "source": []
  },
  {
   "cell_type": "code",
   "execution_count": null,
   "metadata": {
    "collapsed": true
   },
   "outputs": [],
   "source": []
  }
 ],
 "metadata": {
  "kernelspec": {
   "display_name": "Python 2",
   "language": "python",
   "name": "python2"
  },
  "language_info": {
   "codemirror_mode": {
    "name": "ipython",
    "version": 2
   },
   "file_extension": ".py",
   "mimetype": "text/x-python",
   "name": "python",
   "nbconvert_exporter": "python",
   "pygments_lexer": "ipython2",
   "version": "2.7.13"
  }
 },
 "nbformat": 4,
 "nbformat_minor": 2
}
