{
 "cells": [
  {
   "cell_type": "code",
   "execution_count": 2,
   "metadata": {},
   "outputs": [
    {
     "name": "stdout",
     "output_type": "stream",
     "text": [
      "Populating the interactive namespace from numpy and matplotlib\n"
     ]
    },
    {
     "name": "stderr",
     "output_type": "stream",
     "text": [
      "C:\\ProgramData\\Anaconda2\\lib\\site-packages\\IPython\\core\\magics\\pylab.py:161: UserWarning: pylab import has clobbered these variables: ['pylab']\n",
      "`%matplotlib` prevents importing * from pylab and numpy\n",
      "  \"\\n`%matplotlib` prevents importing * from pylab and numpy\"\n"
     ]
    }
   ],
   "source": [
    "from pandas import Series, DataFrame\n",
    "import pandas as pd\n",
    "import networkx as nx\n",
    "import matplotlib.pyplot as plt\n",
    "import pylab\n",
    "%pylab inline"
   ]
  },
  {
   "cell_type": "markdown",
   "metadata": {},
   "source": [
    "## Task A"
   ]
  },
  {
   "cell_type": "code",
   "execution_count": 3,
   "metadata": {},
   "outputs": [
    {
     "data": {
      "text/html": [
       "<div>\n",
       "<style>\n",
       "    .dataframe thead tr:only-child th {\n",
       "        text-align: right;\n",
       "    }\n",
       "\n",
       "    .dataframe thead th {\n",
       "        text-align: left;\n",
       "    }\n",
       "\n",
       "    .dataframe tbody tr th {\n",
       "        vertical-align: top;\n",
       "    }\n",
       "</style>\n",
       "<table border=\"1\" class=\"dataframe\">\n",
       "  <thead>\n",
       "    <tr style=\"text-align: right;\">\n",
       "      <th></th>\n",
       "      <th>ES</th>\n",
       "      <th>LS</th>\n",
       "      <th>RX</th>\n",
       "      <th>A8</th>\n",
       "      <th>A6</th>\n",
       "      <th>3series</th>\n",
       "      <th>5series</th>\n",
       "      <th>7series</th>\n",
       "      <th>XJ</th>\n",
       "      <th>Sclass</th>\n",
       "    </tr>\n",
       "  </thead>\n",
       "  <tbody>\n",
       "    <tr>\n",
       "      <th>0</th>\n",
       "      <td>NaN</td>\n",
       "      <td>NaN</td>\n",
       "      <td>4.0</td>\n",
       "      <td>3.0</td>\n",
       "      <td>NaN</td>\n",
       "      <td>NaN</td>\n",
       "      <td>NaN</td>\n",
       "      <td>5.0</td>\n",
       "      <td>2.0</td>\n",
       "      <td>1.0</td>\n",
       "    </tr>\n",
       "    <tr>\n",
       "      <th>1</th>\n",
       "      <td>NaN</td>\n",
       "      <td>NaN</td>\n",
       "      <td>3.0</td>\n",
       "      <td>2.0</td>\n",
       "      <td>2.0</td>\n",
       "      <td>2.0</td>\n",
       "      <td>2.0</td>\n",
       "      <td>2.0</td>\n",
       "      <td>NaN</td>\n",
       "      <td>NaN</td>\n",
       "    </tr>\n",
       "    <tr>\n",
       "      <th>2</th>\n",
       "      <td>NaN</td>\n",
       "      <td>4.0</td>\n",
       "      <td>NaN</td>\n",
       "      <td>NaN</td>\n",
       "      <td>NaN</td>\n",
       "      <td>3.0</td>\n",
       "      <td>NaN</td>\n",
       "      <td>3.0</td>\n",
       "      <td>NaN</td>\n",
       "      <td>3.0</td>\n",
       "    </tr>\n",
       "    <tr>\n",
       "      <th>3</th>\n",
       "      <td>NaN</td>\n",
       "      <td>2.0</td>\n",
       "      <td>NaN</td>\n",
       "      <td>2.0</td>\n",
       "      <td>NaN</td>\n",
       "      <td>NaN</td>\n",
       "      <td>NaN</td>\n",
       "      <td>2.0</td>\n",
       "      <td>4.0</td>\n",
       "      <td>2.0</td>\n",
       "    </tr>\n",
       "    <tr>\n",
       "      <th>4</th>\n",
       "      <td>NaN</td>\n",
       "      <td>3.0</td>\n",
       "      <td>3.0</td>\n",
       "      <td>NaN</td>\n",
       "      <td>NaN</td>\n",
       "      <td>NaN</td>\n",
       "      <td>2.0</td>\n",
       "      <td>NaN</td>\n",
       "      <td>NaN</td>\n",
       "      <td>3.0</td>\n",
       "    </tr>\n",
       "  </tbody>\n",
       "</table>\n",
       "</div>"
      ],
      "text/plain": [
       "   ES   LS   RX   A8   A6  3series  5series  7series   XJ  Sclass\n",
       "0 NaN  NaN  4.0  3.0  NaN      NaN      NaN      5.0  2.0     1.0\n",
       "1 NaN  NaN  3.0  2.0  2.0      2.0      2.0      2.0  NaN     NaN\n",
       "2 NaN  4.0  NaN  NaN  NaN      3.0      NaN      3.0  NaN     3.0\n",
       "3 NaN  2.0  NaN  2.0  NaN      NaN      NaN      2.0  4.0     2.0\n",
       "4 NaN  3.0  3.0  NaN  NaN      NaN      2.0      NaN  NaN     3.0"
      ]
     },
     "execution_count": 3,
     "metadata": {},
     "output_type": "execute_result"
    }
   ],
   "source": [
    "#read in data\n",
    "scores = pd.read_csv('assignment 3 sentiment scores.csv')\n",
    "scores.head()"
   ]
  },
  {
   "cell_type": "code",
   "execution_count": 4,
   "metadata": {
    "collapsed": true
   },
   "outputs": [],
   "source": [
    "#initialize function to calculate directional switching\n",
    "\n",
    "def diff_func(a,b):\n",
    "    #find rows where a and b are directly compared\n",
    "    filtered = scores[scores[a].notnull()]\n",
    "    filtered = filtered[filtered[b].notnull()]\n",
    "    \n",
    "    #find the link weight, using Dichotomic-link graph formula from slides\n",
    "    diff = sum(filtered[a]-filtered[b])/len(filtered)\n",
    "    \n",
    "    #determine direction of link, and return appropriate tuple\n",
    "    if diff>0:\n",
    "        #a has more positive sentiment when compared to b\n",
    "        return (a, b, diff)\n",
    "    elif diff<0:\n",
    "        #b has more positive sentiment when compared to a\n",
    "        return (b, a, -diff)\n",
    "    else:\n",
    "        #a and b have the same average sentiment when compared\n",
    "        return"
   ]
  },
  {
   "cell_type": "code",
   "execution_count": 5,
   "metadata": {},
   "outputs": [
    {
     "name": "stdout",
     "output_type": "stream",
     "text": [
      "set([('LS', 'Sclass', 0.15333333333333332), ('LS', 'A6', 1.1666666666666667), ('3series', '7series', 0.1), ('RX', 'XJ', 2.0), ('RX', 'Sclass', 1.6666666666666667), ('A8', '3series', 1.1428571428571428), ('LS', 'ES', 0.3939393939393939), ('RX', '7series', 2.8), ('A8', '5series', 0.8333333333333334), ('A6', 'XJ', 1.0), ('LS', '3series', 0.75), ('LS', 'A8', 0.17045454545454544), ('ES', '7series', 0.36363636363636365), ('A6', '3series', 0.14285714285714285), ('5series', 'A6', 0.5), ('LS', 'RX', 0.375), ('A8', '7series', 0.075), ('ES', 'A6', 1.4), ('LS', '7series', 0.34545454545454546), ('Sclass', '7series', 0.2391304347826087), ('XJ', '7series', 0.5714285714285714), ('7series', 'A6', 1.6666666666666667), ('XJ', 'LS', 0.2), ('XJ', '3series', 3.0), ('RX', 'A6', 3.6666666666666665), ('ES', 'A8', 0.18181818181818182), ('RX', '5series', 3.6), ('ES', 'Sclass', 0.4444444444444444), ('Sclass', 'XJ', 0.375), ('RX', '3series', 2.6666666666666665), ('ES', '5series', 1.75), ('5series', 'LS', 0.19047619047619047), ('A8', 'Sclass', 0.21052631578947367), ('RX', 'A8', 1.6666666666666667), ('ES', '3series', 2.2222222222222223), ('A6', 'A8', 0.3333333333333333), ('XJ', 'A8', 0.5), ('3series', 'Sclass', 0.375), ('ES', 'RX', 0.26666666666666666), ('Sclass', '5series', 0.625), ('XJ', '5series', 2.0), ('Sclass', 'A6', 0.8333333333333334), ('5series', '7series', 0.45454545454545453), None])\n"
     ]
    }
   ],
   "source": [
    "#cartesian product for unique directional tuples\n",
    "#each tuple (a, b, weight) indicates that, when a and b are compared, the average sentiment is directed from b to a\n",
    "\n",
    "edge_set = set()\n",
    "for i in range(len(scores.columns)):\n",
    "    for j in range(i+1, len(scores.columns)):\n",
    "        edge_set.add(diff_func(scores.columns[i], scores.columns[j]))\n",
    "        \n",
    "print edge_set"
   ]
  },
  {
   "cell_type": "code",
   "execution_count": 6,
   "metadata": {},
   "outputs": [
    {
     "data": {
      "image/png": "[encoded data removed]",
      "text/plain": [
       "<matplotlib.figure.Figure at 0xa444f98>"
      ]
     },
     "metadata": {},
     "output_type": "display_data"
    }
   ],
   "source": [
    "#make the ugly graph AKA option 1\n",
    "\n",
    "G = nx.MultiDiGraph()\n",
    "\n",
    "edge_set.discard(None)\n",
    "for item in edge_set:\n",
    "    G.add_edge(item[1], item[0], weight=item[2])\n",
    "\n",
    "elarge=[(u,v) for (u,v,d) in G.edges(data=True) if d['weight'] >1]\n",
    "esmall=[(u,v) for (u,v,d) in G.edges(data=True) if d['weight'] <=1]\n",
    "\n",
    "pos=nx.spring_layout(G)\n",
    "\n",
    "# nodes\n",
    "nx.draw_networkx_nodes(G, pos, node_size=700, node_color='#581845', alpha=0.5)\n",
    "\n",
    "# edges\n",
    "nx.draw_networkx_edges(G, pos, edgelist=elarge, width=1, edge_color='#C70039')\n",
    "nx.draw_networkx_edges(G, pos, edgelist=esmall, width=1, alpha=0.5, edge_color='#FFC300')\n",
    "\n",
    "# labels\n",
    "nx.draw_networkx_labels(G, pos, font_size=12)\n",
    "\n",
    "plt.axis('off')\n",
    "plt.show() # display"
   ]
  },
  {
   "cell_type": "markdown",
   "metadata": {
    "collapsed": true
   },
   "source": [
    "## Task B"
   ]
  },
  {
   "cell_type": "code",
   "execution_count": 8,
   "metadata": {},
   "outputs": [
    {
     "data": {
      "text/html": [
       "<div>\n",
       "<style>\n",
       "    .dataframe thead tr:only-child th {\n",
       "        text-align: right;\n",
       "    }\n",
       "\n",
       "    .dataframe thead th {\n",
       "        text-align: left;\n",
       "    }\n",
       "\n",
       "    .dataframe tbody tr th {\n",
       "        vertical-align: top;\n",
       "    }\n",
       "</style>\n",
       "<table border=\"1\" class=\"dataframe\">\n",
       "  <thead>\n",
       "    <tr style=\"text-align: right;\">\n",
       "      <th></th>\n",
       "      <th>Sales</th>\n",
       "    </tr>\n",
       "    <tr>\n",
       "      <th>Model</th>\n",
       "      <th></th>\n",
       "    </tr>\n",
       "  </thead>\n",
       "  <tbody>\n",
       "    <tr>\n",
       "      <th>3series</th>\n",
       "      <td>220000</td>\n",
       "    </tr>\n",
       "    <tr>\n",
       "      <th>ES</th>\n",
       "      <td>135000</td>\n",
       "    </tr>\n",
       "    <tr>\n",
       "      <th>RX</th>\n",
       "      <td>120000</td>\n",
       "    </tr>\n",
       "    <tr>\n",
       "      <th>5series</th>\n",
       "      <td>60000</td>\n",
       "    </tr>\n",
       "    <tr>\n",
       "      <th>LS</th>\n",
       "      <td>30000</td>\n",
       "    </tr>\n",
       "    <tr>\n",
       "      <th>Sclass</th>\n",
       "      <td>25000</td>\n",
       "    </tr>\n",
       "    <tr>\n",
       "      <th>A6</th>\n",
       "      <td>20000</td>\n",
       "    </tr>\n",
       "    <tr>\n",
       "      <th>7series</th>\n",
       "      <td>14000</td>\n",
       "    </tr>\n",
       "    <tr>\n",
       "      <th>A8</th>\n",
       "      <td>12000</td>\n",
       "    </tr>\n",
       "    <tr>\n",
       "      <th>XJ</th>\n",
       "      <td>6600</td>\n",
       "    </tr>\n",
       "  </tbody>\n",
       "</table>\n",
       "</div>"
      ],
      "text/plain": [
       "          Sales\n",
       "Model          \n",
       "3series  220000\n",
       "ES       135000\n",
       "RX       120000\n",
       "5series   60000\n",
       "LS        30000\n",
       "Sclass    25000\n",
       "A6        20000\n",
       "7series   14000\n",
       "A8        12000\n",
       "XJ         6600"
      ]
     },
     "execution_count": 8,
     "metadata": {},
     "output_type": "execute_result"
    }
   ],
   "source": [
    "models = ['A6','A8','3series','5series','7series','XJ','ES','LS','RX','Sclass']\n",
    "sales = [20000,12000,220000,60000,14000,6600,135000,30000,120000,25000]\n",
    "data = pd.DataFrame({\n",
    "    'Model':models,\n",
    "    'Sales':sales\n",
    "})\n",
    "\n",
    "data.sort_values('Sales',ascending=False,inplace=True)\n",
    "data.set_index('Model', inplace=True)\n",
    "data"
   ]
  },
  {
   "cell_type": "markdown",
   "metadata": {},
   "source": [
    "#### Notes:\n",
    "Convert the NetworkX multigraph to a regular graph to run page rank.  \n",
    "\n",
    "Link: https://stackoverflow.com/questions/28560876/is-there-a-way-to-run-pagerank-algorithm-on-networkxs-multigraph"
   ]
  },
  {
   "cell_type": "code",
   "execution_count": 9,
   "metadata": {
    "collapsed": true
   },
   "outputs": [],
   "source": [
    "H = nx.Graph()\n",
    "for u,v,d in G.edges(data=True):\n",
    "    w = d['weight']\n",
    "    if H.has_edge(u,v):\n",
    "        H[u][v]['weight'] += w\n",
    "    else:\n",
    "        H.add_edge(u,v,weight=w)"
   ]
  },
  {
   "cell_type": "markdown",
   "metadata": {},
   "source": [
    "### Weighted Network Graph"
   ]
  },
  {
   "cell_type": "code",
   "execution_count": 10,
   "metadata": {},
   "outputs": [
    {
     "data": {
      "text/plain": [
       "{'3series': 0.11785983099161096,\n",
       " '5series': 0.1118399560554508,\n",
       " '7series': 0.07835174761424891,\n",
       " 'A6': 0.1212702813830892,\n",
       " 'A8': 0.06384818582345443,\n",
       " 'ES': 0.083873379861035,\n",
       " 'LS': 0.051584713126335384,\n",
       " 'RX': 0.20065576470465735,\n",
       " 'Sclass': 0.06238278738529829,\n",
       " 'XJ': 0.10833335305481956}"
      ]
     },
     "execution_count": 10,
     "metadata": {},
     "output_type": "execute_result"
    }
   ],
   "source": [
    "w_ng = nx.pagerank(H)\n",
    "w_ng"
   ]
  },
  {
   "cell_type": "code",
   "execution_count": 11,
   "metadata": {},
   "outputs": [
    {
     "data": {
      "text/html": [
       "<div>\n",
       "<style>\n",
       "    .dataframe thead tr:only-child th {\n",
       "        text-align: right;\n",
       "    }\n",
       "\n",
       "    .dataframe thead th {\n",
       "        text-align: left;\n",
       "    }\n",
       "\n",
       "    .dataframe tbody tr th {\n",
       "        vertical-align: top;\n",
       "    }\n",
       "</style>\n",
       "<table border=\"1\" class=\"dataframe\">\n",
       "  <thead>\n",
       "    <tr style=\"text-align: right;\">\n",
       "      <th></th>\n",
       "      <th>Sales</th>\n",
       "      <th>w_ng</th>\n",
       "    </tr>\n",
       "    <tr>\n",
       "      <th>Model</th>\n",
       "      <th></th>\n",
       "      <th></th>\n",
       "    </tr>\n",
       "  </thead>\n",
       "  <tbody>\n",
       "    <tr>\n",
       "      <th>3series</th>\n",
       "      <td>220000</td>\n",
       "      <td>0.117860</td>\n",
       "    </tr>\n",
       "    <tr>\n",
       "      <th>ES</th>\n",
       "      <td>135000</td>\n",
       "      <td>0.083873</td>\n",
       "    </tr>\n",
       "    <tr>\n",
       "      <th>RX</th>\n",
       "      <td>120000</td>\n",
       "      <td>0.200656</td>\n",
       "    </tr>\n",
       "    <tr>\n",
       "      <th>5series</th>\n",
       "      <td>60000</td>\n",
       "      <td>0.111840</td>\n",
       "    </tr>\n",
       "    <tr>\n",
       "      <th>LS</th>\n",
       "      <td>30000</td>\n",
       "      <td>0.051585</td>\n",
       "    </tr>\n",
       "    <tr>\n",
       "      <th>Sclass</th>\n",
       "      <td>25000</td>\n",
       "      <td>0.062383</td>\n",
       "    </tr>\n",
       "    <tr>\n",
       "      <th>A6</th>\n",
       "      <td>20000</td>\n",
       "      <td>0.121270</td>\n",
       "    </tr>\n",
       "    <tr>\n",
       "      <th>7series</th>\n",
       "      <td>14000</td>\n",
       "      <td>0.078352</td>\n",
       "    </tr>\n",
       "    <tr>\n",
       "      <th>A8</th>\n",
       "      <td>12000</td>\n",
       "      <td>0.063848</td>\n",
       "    </tr>\n",
       "    <tr>\n",
       "      <th>XJ</th>\n",
       "      <td>6600</td>\n",
       "      <td>0.108333</td>\n",
       "    </tr>\n",
       "  </tbody>\n",
       "</table>\n",
       "</div>"
      ],
      "text/plain": [
       "          Sales      w_ng\n",
       "Model                    \n",
       "3series  220000  0.117860\n",
       "ES       135000  0.083873\n",
       "RX       120000  0.200656\n",
       "5series   60000  0.111840\n",
       "LS        30000  0.051585\n",
       "Sclass    25000  0.062383\n",
       "A6        20000  0.121270\n",
       "7series   14000  0.078352\n",
       "A8        12000  0.063848\n",
       "XJ         6600  0.108333"
      ]
     },
     "execution_count": 11,
     "metadata": {},
     "output_type": "execute_result"
    }
   ],
   "source": [
    "data['w_ng']=pd.Series(w_ng)\n",
    "data"
   ]
  },
  {
   "cell_type": "markdown",
   "metadata": {},
   "source": [
    "#### Correlation Coefficient "
   ]
  },
  {
   "cell_type": "code",
   "execution_count": 12,
   "metadata": {},
   "outputs": [
    {
     "data": {
      "text/plain": [
       "0.42809040071415633"
      ]
     },
     "execution_count": 12,
     "metadata": {},
     "output_type": "execute_result"
    }
   ],
   "source": [
    "import numpy as np\n",
    "## Extract values from the pandas dataframe and the dictionary. \n",
    "np.corrcoef(data['w_ng'],data['Sales'])[0,1]"
   ]
  },
  {
   "cell_type": "markdown",
   "metadata": {},
   "source": [
    "### Unweighted Network Graph"
   ]
  },
  {
   "cell_type": "code",
   "execution_count": 13,
   "metadata": {},
   "outputs": [
    {
     "data": {
      "text/plain": [
       "{'3series': 0.09392145882928798,\n",
       " '5series': 0.09392145882928797,\n",
       " '7series': 0.10405236078047467,\n",
       " 'A6': 0.10405236078047467,\n",
       " 'A8': 0.10405236078047467,\n",
       " 'ES': 0.09392145882928798,\n",
       " 'LS': 0.10405236078047467,\n",
       " 'RX': 0.10405236078047467,\n",
       " 'Sclass': 0.10405236078047467,\n",
       " 'XJ': 0.09392145882928798}"
      ]
     },
     "execution_count": 13,
     "metadata": {},
     "output_type": "execute_result"
    }
   ],
   "source": [
    "un_ng = nx.pagerank(H,weight='None')\n",
    "un_ng"
   ]
  },
  {
   "cell_type": "code",
   "execution_count": 14,
   "metadata": {},
   "outputs": [
    {
     "data": {
      "text/html": [
       "<div>\n",
       "<style>\n",
       "    .dataframe thead tr:only-child th {\n",
       "        text-align: right;\n",
       "    }\n",
       "\n",
       "    .dataframe thead th {\n",
       "        text-align: left;\n",
       "    }\n",
       "\n",
       "    .dataframe tbody tr th {\n",
       "        vertical-align: top;\n",
       "    }\n",
       "</style>\n",
       "<table border=\"1\" class=\"dataframe\">\n",
       "  <thead>\n",
       "    <tr style=\"text-align: right;\">\n",
       "      <th></th>\n",
       "      <th>Sales</th>\n",
       "      <th>w_ng</th>\n",
       "      <th>un_ng</th>\n",
       "    </tr>\n",
       "    <tr>\n",
       "      <th>Model</th>\n",
       "      <th></th>\n",
       "      <th></th>\n",
       "      <th></th>\n",
       "    </tr>\n",
       "  </thead>\n",
       "  <tbody>\n",
       "    <tr>\n",
       "      <th>3series</th>\n",
       "      <td>220000</td>\n",
       "      <td>0.117860</td>\n",
       "      <td>0.093921</td>\n",
       "    </tr>\n",
       "    <tr>\n",
       "      <th>ES</th>\n",
       "      <td>135000</td>\n",
       "      <td>0.083873</td>\n",
       "      <td>0.093921</td>\n",
       "    </tr>\n",
       "    <tr>\n",
       "      <th>RX</th>\n",
       "      <td>120000</td>\n",
       "      <td>0.200656</td>\n",
       "      <td>0.104052</td>\n",
       "    </tr>\n",
       "    <tr>\n",
       "      <th>5series</th>\n",
       "      <td>60000</td>\n",
       "      <td>0.111840</td>\n",
       "      <td>0.093921</td>\n",
       "    </tr>\n",
       "    <tr>\n",
       "      <th>LS</th>\n",
       "      <td>30000</td>\n",
       "      <td>0.051585</td>\n",
       "      <td>0.104052</td>\n",
       "    </tr>\n",
       "    <tr>\n",
       "      <th>Sclass</th>\n",
       "      <td>25000</td>\n",
       "      <td>0.062383</td>\n",
       "      <td>0.104052</td>\n",
       "    </tr>\n",
       "    <tr>\n",
       "      <th>A6</th>\n",
       "      <td>20000</td>\n",
       "      <td>0.121270</td>\n",
       "      <td>0.104052</td>\n",
       "    </tr>\n",
       "    <tr>\n",
       "      <th>7series</th>\n",
       "      <td>14000</td>\n",
       "      <td>0.078352</td>\n",
       "      <td>0.104052</td>\n",
       "    </tr>\n",
       "    <tr>\n",
       "      <th>A8</th>\n",
       "      <td>12000</td>\n",
       "      <td>0.063848</td>\n",
       "      <td>0.104052</td>\n",
       "    </tr>\n",
       "    <tr>\n",
       "      <th>XJ</th>\n",
       "      <td>6600</td>\n",
       "      <td>0.108333</td>\n",
       "      <td>0.093921</td>\n",
       "    </tr>\n",
       "  </tbody>\n",
       "</table>\n",
       "</div>"
      ],
      "text/plain": [
       "          Sales      w_ng     un_ng\n",
       "Model                              \n",
       "3series  220000  0.117860  0.093921\n",
       "ES       135000  0.083873  0.093921\n",
       "RX       120000  0.200656  0.104052\n",
       "5series   60000  0.111840  0.093921\n",
       "LS        30000  0.051585  0.104052\n",
       "Sclass    25000  0.062383  0.104052\n",
       "A6        20000  0.121270  0.104052\n",
       "7series   14000  0.078352  0.104052\n",
       "A8        12000  0.063848  0.104052\n",
       "XJ         6600  0.108333  0.093921"
      ]
     },
     "execution_count": 14,
     "metadata": {},
     "output_type": "execute_result"
    }
   ],
   "source": [
    "data['un_ng']=pd.Series(un_ng)\n",
    "data"
   ]
  },
  {
   "cell_type": "markdown",
   "metadata": {},
   "source": [
    "#### Correlation Coefficient "
   ]
  },
  {
   "cell_type": "code",
   "execution_count": 15,
   "metadata": {},
   "outputs": [
    {
     "data": {
      "text/plain": [
       "-0.49721639483409935"
      ]
     },
     "execution_count": 15,
     "metadata": {},
     "output_type": "execute_result"
    }
   ],
   "source": [
    "np.corrcoef(data['un_ng'],data['Sales'])[0,1]"
   ]
  },
  {
   "cell_type": "markdown",
   "metadata": {},
   "source": [
    "### Task C"
   ]
  },
  {
   "cell_type": "code",
   "execution_count": 16,
   "metadata": {},
   "outputs": [
    {
     "data": {
      "text/html": [
       "<div>\n",
       "<style>\n",
       "    .dataframe thead tr:only-child th {\n",
       "        text-align: right;\n",
       "    }\n",
       "\n",
       "    .dataframe thead th {\n",
       "        text-align: left;\n",
       "    }\n",
       "\n",
       "    .dataframe tbody tr th {\n",
       "        vertical-align: top;\n",
       "    }\n",
       "</style>\n",
       "<table border=\"1\" class=\"dataframe\">\n",
       "  <thead>\n",
       "    <tr style=\"text-align: right;\">\n",
       "      <th></th>\n",
       "      <th>ES</th>\n",
       "      <th>LS</th>\n",
       "      <th>RX</th>\n",
       "      <th>A8</th>\n",
       "      <th>A6</th>\n",
       "      <th>3series</th>\n",
       "      <th>5series</th>\n",
       "      <th>7series</th>\n",
       "      <th>XJ</th>\n",
       "      <th>Sclass</th>\n",
       "    </tr>\n",
       "  </thead>\n",
       "  <tbody>\n",
       "    <tr>\n",
       "      <th>0</th>\n",
       "      <td>NaN</td>\n",
       "      <td>NaN</td>\n",
       "      <td>4.0</td>\n",
       "      <td>3.0</td>\n",
       "      <td>NaN</td>\n",
       "      <td>NaN</td>\n",
       "      <td>NaN</td>\n",
       "      <td>5.0</td>\n",
       "      <td>2.0</td>\n",
       "      <td>1.0</td>\n",
       "    </tr>\n",
       "    <tr>\n",
       "      <th>1</th>\n",
       "      <td>NaN</td>\n",
       "      <td>NaN</td>\n",
       "      <td>3.0</td>\n",
       "      <td>2.0</td>\n",
       "      <td>2.0</td>\n",
       "      <td>2.0</td>\n",
       "      <td>2.0</td>\n",
       "      <td>2.0</td>\n",
       "      <td>NaN</td>\n",
       "      <td>NaN</td>\n",
       "    </tr>\n",
       "    <tr>\n",
       "      <th>2</th>\n",
       "      <td>NaN</td>\n",
       "      <td>4.0</td>\n",
       "      <td>NaN</td>\n",
       "      <td>NaN</td>\n",
       "      <td>NaN</td>\n",
       "      <td>3.0</td>\n",
       "      <td>NaN</td>\n",
       "      <td>3.0</td>\n",
       "      <td>NaN</td>\n",
       "      <td>3.0</td>\n",
       "    </tr>\n",
       "    <tr>\n",
       "      <th>3</th>\n",
       "      <td>NaN</td>\n",
       "      <td>2.0</td>\n",
       "      <td>NaN</td>\n",
       "      <td>2.0</td>\n",
       "      <td>NaN</td>\n",
       "      <td>NaN</td>\n",
       "      <td>NaN</td>\n",
       "      <td>2.0</td>\n",
       "      <td>4.0</td>\n",
       "      <td>2.0</td>\n",
       "    </tr>\n",
       "    <tr>\n",
       "      <th>4</th>\n",
       "      <td>NaN</td>\n",
       "      <td>3.0</td>\n",
       "      <td>3.0</td>\n",
       "      <td>NaN</td>\n",
       "      <td>NaN</td>\n",
       "      <td>NaN</td>\n",
       "      <td>2.0</td>\n",
       "      <td>NaN</td>\n",
       "      <td>NaN</td>\n",
       "      <td>3.0</td>\n",
       "    </tr>\n",
       "  </tbody>\n",
       "</table>\n",
       "</div>"
      ],
      "text/plain": [
       "   ES   LS   RX   A8   A6  3series  5series  7series   XJ  Sclass\n",
       "0 NaN  NaN  4.0  3.0  NaN      NaN      NaN      5.0  2.0     1.0\n",
       "1 NaN  NaN  3.0  2.0  2.0      2.0      2.0      2.0  NaN     NaN\n",
       "2 NaN  4.0  NaN  NaN  NaN      3.0      NaN      3.0  NaN     3.0\n",
       "3 NaN  2.0  NaN  2.0  NaN      NaN      NaN      2.0  4.0     2.0\n",
       "4 NaN  3.0  3.0  NaN  NaN      NaN      2.0      NaN  NaN     3.0"
      ]
     },
     "execution_count": 16,
     "metadata": {},
     "output_type": "execute_result"
    }
   ],
   "source": [
    "sent_df = pd.read_csv('Assignment 3 Sentiment Scores.csv')\n",
    "sent_df.head()"
   ]
  },
  {
   "cell_type": "code",
   "execution_count": 17,
   "metadata": {
    "collapsed": true
   },
   "outputs": [],
   "source": [
    "def sentiment_review(review, brand_list):\n",
    "    import re \n",
    "    from nltk.sentiment.vader import SentimentIntensityAnalyzer\n",
    "    sid = SentimentIntensityAnalyzer()\n",
    "    sent_score_fin = {}\n",
    "    review = re.sub(\"\\\"\", \"\", review)\n",
    "    review = re.sub(\"\\$+\", \" \", review)\n",
    "    for item in brand_list:\n",
    "        iter = re.finditer(item, review)\n",
    "        if iter:\n",
    "            sentiment = []\n",
    "            for m in iter:\n",
    "                sentence = review[max(0, m.start(0)-70):min((m.start(0) + len(item)+70), len(review))]\n",
    "                ss = sid.polarity_scores(str(sentence))\n",
    "                sentiment.append(ss['compound'])\n",
    "            if sentiment:\n",
    "                sent_score_fin[item] = np.mean(sentiment)\n",
    "            else:\n",
    "                sent_score_fin[item] = np.nan\n",
    "    return sent_score_fin"
   ]
  },
  {
   "cell_type": "code",
   "execution_count": 18,
   "metadata": {
    "collapsed": true
   },
   "outputs": [],
   "source": [
    "def sentiment_score(reviews_data, brand_list):\n",
    "    sent_scores = {}\n",
    "    for item in brand_list:\n",
    "        sent_scores[item] = list()\n",
    "    for review_id in range(0, len(reviews_data)):\n",
    "        sent_values = sentiment_review(reviews_data.iloc[review_id, 0], brand_list)\n",
    "        for item in brand_list:\n",
    "            sent_scores[item].append(sent_values[item])\n",
    "    fin = pd.DataFrame.from_dict(sent_scores, orient='columns')\n",
    "    fin.to_csv('Sentiment_Scores.csv', index=False)\n",
    "    return sent_scores"
   ]
  },
  {
   "cell_type": "code",
   "execution_count": 19,
   "metadata": {
    "collapsed": true
   },
   "outputs": [],
   "source": [
    "def form_network(edge_list):\n",
    "    \n",
    "    import networkx as nx\n",
    "    import pylab \n",
    "    directed_graph = nx.DiGraph()\n",
    "    directed_graph.add_weighted_edges_from(edge_list, weight = 'weight')\n",
    "    nx.draw(directed_graph)\n",
    "    pylab.show()\n",
    "    \n",
    "    pagerank_unweighted = nx.pagerank(directed_graph, alpha=0.99, weight=1)\n",
    "    \n",
    "    print(pagerank_unweighted)\n",
    "    print(len(pagerank_unweighted))\n",
    "    return pagerank_unweighted "
   ]
  },
  {
   "cell_type": "code",
   "execution_count": 20,
   "metadata": {
    "collapsed": true
   },
   "outputs": [],
   "source": [
    "def create_edges(sent_scores):\n",
    "    \n",
    "    edge_list = []\n",
    "    brand_list = list(sent_scores.keys())\n",
    "    for x in range(0, len(brand_list)):\n",
    "        for y in range(x+1, len(brand_list)):\n",
    "            positive_sent = []\n",
    "            negative_sent = []\n",
    "            for i in range(0, len(sent_scores[brand_list[0]])):\n",
    "                sent_x = sent_scores[brand_list[x]][i]\n",
    "                sent_y = sent_scores[brand_list[y]][i]\n",
    "                if ((not(np.isnan(sent_x))) & (not(np.isnan(sent_x)))):\n",
    "                    edge_weight = sent_x - sent_y\n",
    "                    if edge_weight >=0:\n",
    "                        positive_sent.append(edge_weight)\n",
    "                    else:\n",
    "                        negative_sent.append(edge_weight)\n",
    "            if len(positive_sent) >0:\n",
    "                edge_list.append([brand_list[x],brand_list[y],np.mean(positive_sent)])\n",
    "            if len(negative_sent) >0:\n",
    "                edge_list.append([brand_list[x],brand_list[y],abs(np.mean(negative_sent))])\n",
    "    return edge_list"
   ]
  },
  {
   "cell_type": "code",
   "execution_count": 21,
   "metadata": {},
   "outputs": [
    {
     "name": "stderr",
     "output_type": "stream",
     "text": [
      "C:\\ProgramData\\Anaconda2\\lib\\site-packages\\nltk\\twitter\\__init__.py:20: UserWarning: The twython library has not been installed. Some functionality from the twitter package will not be available.\n",
      "  warnings.warn(\"The twython library has not been installed. \"\n"
     ]
    },
    {
     "data": {
      "image/png": "[encoded data removed]",
      "text/plain": [
       "<matplotlib.figure.Figure at 0xf49da58>"
      ]
     },
     "metadata": {},
     "output_type": "display_data"
    },
    {
     "name": "stdout",
     "output_type": "stream",
     "text": [
      "{'XJ': 0.046521214619178665, '7series': 0.05163865158013185, 'Sclass': 0.0580290201089569, 'RX': 0.0580290201089569, '5series': 0.06760386467545898, 'A6': 0.08098939586726214, 'A8': 0.10103408393050282, '3series': 0.13437492038960747, 'ES': 0.13437492038960747, 'LS': 0.26740490833033725}\n",
      "10\n"
     ]
    }
   ],
   "source": [
    "reviews_data = pd.read_excel('Edmunds Reviews.xlsx', encoding = 'latin1')\n",
    "brand_list = ['A6','A8','3series','5series','7series','XJ','ES','LS','RX','Sclass']\n",
    "sentiment_scores = sentiment_score(reviews_data, brand_list)\n",
    "edge_list = create_edges(sentiment_scores)\n",
    "pagerank = form_network(edge_list)"
   ]
  },
  {
   "cell_type": "code",
   "execution_count": 22,
   "metadata": {},
   "outputs": [
    {
     "data": {
      "text/html": [
       "<div>\n",
       "<style>\n",
       "    .dataframe thead tr:only-child th {\n",
       "        text-align: right;\n",
       "    }\n",
       "\n",
       "    .dataframe thead th {\n",
       "        text-align: left;\n",
       "    }\n",
       "\n",
       "    .dataframe tbody tr th {\n",
       "        vertical-align: top;\n",
       "    }\n",
       "</style>\n",
       "<table border=\"1\" class=\"dataframe\">\n",
       "  <thead>\n",
       "    <tr style=\"text-align: right;\">\n",
       "      <th></th>\n",
       "      <th>Sales</th>\n",
       "      <th>w_ng</th>\n",
       "      <th>un_ng</th>\n",
       "      <th>pagerank_c</th>\n",
       "    </tr>\n",
       "    <tr>\n",
       "      <th>Model</th>\n",
       "      <th></th>\n",
       "      <th></th>\n",
       "      <th></th>\n",
       "      <th></th>\n",
       "    </tr>\n",
       "  </thead>\n",
       "  <tbody>\n",
       "    <tr>\n",
       "      <th>3series</th>\n",
       "      <td>220000</td>\n",
       "      <td>0.117860</td>\n",
       "      <td>0.093921</td>\n",
       "      <td>0.134375</td>\n",
       "    </tr>\n",
       "    <tr>\n",
       "      <th>ES</th>\n",
       "      <td>135000</td>\n",
       "      <td>0.083873</td>\n",
       "      <td>0.093921</td>\n",
       "      <td>0.134375</td>\n",
       "    </tr>\n",
       "    <tr>\n",
       "      <th>RX</th>\n",
       "      <td>120000</td>\n",
       "      <td>0.200656</td>\n",
       "      <td>0.104052</td>\n",
       "      <td>0.058029</td>\n",
       "    </tr>\n",
       "    <tr>\n",
       "      <th>5series</th>\n",
       "      <td>60000</td>\n",
       "      <td>0.111840</td>\n",
       "      <td>0.093921</td>\n",
       "      <td>0.067604</td>\n",
       "    </tr>\n",
       "    <tr>\n",
       "      <th>LS</th>\n",
       "      <td>30000</td>\n",
       "      <td>0.051585</td>\n",
       "      <td>0.104052</td>\n",
       "      <td>0.267405</td>\n",
       "    </tr>\n",
       "    <tr>\n",
       "      <th>Sclass</th>\n",
       "      <td>25000</td>\n",
       "      <td>0.062383</td>\n",
       "      <td>0.104052</td>\n",
       "      <td>0.058029</td>\n",
       "    </tr>\n",
       "    <tr>\n",
       "      <th>A6</th>\n",
       "      <td>20000</td>\n",
       "      <td>0.121270</td>\n",
       "      <td>0.104052</td>\n",
       "      <td>0.080989</td>\n",
       "    </tr>\n",
       "    <tr>\n",
       "      <th>7series</th>\n",
       "      <td>14000</td>\n",
       "      <td>0.078352</td>\n",
       "      <td>0.104052</td>\n",
       "      <td>0.051639</td>\n",
       "    </tr>\n",
       "    <tr>\n",
       "      <th>A8</th>\n",
       "      <td>12000</td>\n",
       "      <td>0.063848</td>\n",
       "      <td>0.104052</td>\n",
       "      <td>0.101034</td>\n",
       "    </tr>\n",
       "    <tr>\n",
       "      <th>XJ</th>\n",
       "      <td>6600</td>\n",
       "      <td>0.108333</td>\n",
       "      <td>0.093921</td>\n",
       "      <td>0.046521</td>\n",
       "    </tr>\n",
       "  </tbody>\n",
       "</table>\n",
       "</div>"
      ],
      "text/plain": [
       "          Sales      w_ng     un_ng  pagerank_c\n",
       "Model                                          \n",
       "3series  220000  0.117860  0.093921    0.134375\n",
       "ES       135000  0.083873  0.093921    0.134375\n",
       "RX       120000  0.200656  0.104052    0.058029\n",
       "5series   60000  0.111840  0.093921    0.067604\n",
       "LS        30000  0.051585  0.104052    0.267405\n",
       "Sclass    25000  0.062383  0.104052    0.058029\n",
       "A6        20000  0.121270  0.104052    0.080989\n",
       "7series   14000  0.078352  0.104052    0.051639\n",
       "A8        12000  0.063848  0.104052    0.101034\n",
       "XJ         6600  0.108333  0.093921    0.046521"
      ]
     },
     "execution_count": 22,
     "metadata": {},
     "output_type": "execute_result"
    }
   ],
   "source": [
    "### Correlation\n",
    "data['pagerank_c'] = pd.Series(pagerank)\n",
    "data"
   ]
  },
  {
   "cell_type": "code",
   "execution_count": 23,
   "metadata": {},
   "outputs": [
    {
     "data": {
      "text/plain": [
       "0.18132559894359127"
      ]
     },
     "execution_count": 23,
     "metadata": {},
     "output_type": "execute_result"
    }
   ],
   "source": [
    "np.corrcoef(data['pagerank_c'],data['Sales'])[0,1]"
   ]
  }
 ],
 "metadata": {
  "kernelspec": {
   "display_name": "Python 2",
   "language": "python",
   "name": "python2"
  },
  "language_info": {
   "codemirror_mode": {
    "name": "ipython",
    "version": 2
   },
   "file_extension": ".py",
   "mimetype": "text/x-python",
   "name": "python",
   "nbconvert_exporter": "python",
   "pygments_lexer": "ipython2",
   "version": "2.7.13"
  }
 },
 "nbformat": 4,
 "nbformat_minor": 2
}
