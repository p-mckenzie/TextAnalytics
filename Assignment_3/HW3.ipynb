{
 "cells": [
  {
   "cell_type": "code",
   "execution_count": 1,
   "metadata": {},
   "outputs": [
    {
     "name": "stdout",
     "output_type": "stream",
     "text": [
      "Populating the interactive namespace from numpy and matplotlib\n"
     ]
    }
   ],
   "source": [
    "from pandas import Series, DataFrame\n",
    "import pandas as pd\n",
    "import networkx as nx\n",
    "import matplotlib.pyplot as plt\n",
    "%pylab inline"
   ]
  },
  {
   "cell_type": "markdown",
   "metadata": {},
   "source": [
    "## Task A"
   ]
  },
  {
   "cell_type": "code",
   "execution_count": 2,
   "metadata": {},
   "outputs": [
    {
     "data": {
      "text/html": [
       "<div>\n",
       "<style>\n",
       "    .dataframe thead tr:only-child th {\n",
       "        text-align: right;\n",
       "    }\n",
       "\n",
       "    .dataframe thead th {\n",
       "        text-align: left;\n",
       "    }\n",
       "\n",
       "    .dataframe tbody tr th {\n",
       "        vertical-align: top;\n",
       "    }\n",
       "</style>\n",
       "<table border=\"1\" class=\"dataframe\">\n",
       "  <thead>\n",
       "    <tr style=\"text-align: right;\">\n",
       "      <th></th>\n",
       "      <th>ES</th>\n",
       "      <th>LS</th>\n",
       "      <th>RX</th>\n",
       "      <th>A8</th>\n",
       "      <th>A6</th>\n",
       "      <th>3series</th>\n",
       "      <th>5series</th>\n",
       "      <th>7series</th>\n",
       "      <th>XJ</th>\n",
       "      <th>Sclass</th>\n",
       "    </tr>\n",
       "  </thead>\n",
       "  <tbody>\n",
       "    <tr>\n",
       "      <th>0</th>\n",
       "      <td>NaN</td>\n",
       "      <td>NaN</td>\n",
       "      <td>4.0</td>\n",
       "      <td>3.0</td>\n",
       "      <td>NaN</td>\n",
       "      <td>NaN</td>\n",
       "      <td>NaN</td>\n",
       "      <td>5.0</td>\n",
       "      <td>2.0</td>\n",
       "      <td>1.0</td>\n",
       "    </tr>\n",
       "    <tr>\n",
       "      <th>1</th>\n",
       "      <td>NaN</td>\n",
       "      <td>NaN</td>\n",
       "      <td>3.0</td>\n",
       "      <td>2.0</td>\n",
       "      <td>2.0</td>\n",
       "      <td>2.0</td>\n",
       "      <td>2.0</td>\n",
       "      <td>2.0</td>\n",
       "      <td>NaN</td>\n",
       "      <td>NaN</td>\n",
       "    </tr>\n",
       "    <tr>\n",
       "      <th>2</th>\n",
       "      <td>NaN</td>\n",
       "      <td>4.0</td>\n",
       "      <td>NaN</td>\n",
       "      <td>NaN</td>\n",
       "      <td>NaN</td>\n",
       "      <td>3.0</td>\n",
       "      <td>NaN</td>\n",
       "      <td>3.0</td>\n",
       "      <td>NaN</td>\n",
       "      <td>3.0</td>\n",
       "    </tr>\n",
       "    <tr>\n",
       "      <th>3</th>\n",
       "      <td>NaN</td>\n",
       "      <td>2.0</td>\n",
       "      <td>NaN</td>\n",
       "      <td>2.0</td>\n",
       "      <td>NaN</td>\n",
       "      <td>NaN</td>\n",
       "      <td>NaN</td>\n",
       "      <td>2.0</td>\n",
       "      <td>4.0</td>\n",
       "      <td>2.0</td>\n",
       "    </tr>\n",
       "    <tr>\n",
       "      <th>4</th>\n",
       "      <td>NaN</td>\n",
       "      <td>3.0</td>\n",
       "      <td>3.0</td>\n",
       "      <td>NaN</td>\n",
       "      <td>NaN</td>\n",
       "      <td>NaN</td>\n",
       "      <td>2.0</td>\n",
       "      <td>NaN</td>\n",
       "      <td>NaN</td>\n",
       "      <td>3.0</td>\n",
       "    </tr>\n",
       "  </tbody>\n",
       "</table>\n",
       "</div>"
      ],
      "text/plain": [
       "   ES   LS   RX   A8   A6  3series  5series  7series   XJ  Sclass\n",
       "0 NaN  NaN  4.0  3.0  NaN      NaN      NaN      5.0  2.0     1.0\n",
       "1 NaN  NaN  3.0  2.0  2.0      2.0      2.0      2.0  NaN     NaN\n",
       "2 NaN  4.0  NaN  NaN  NaN      3.0      NaN      3.0  NaN     3.0\n",
       "3 NaN  2.0  NaN  2.0  NaN      NaN      NaN      2.0  4.0     2.0\n",
       "4 NaN  3.0  3.0  NaN  NaN      NaN      2.0      NaN  NaN     3.0"
      ]
     },
     "execution_count": 2,
     "metadata": {},
     "output_type": "execute_result"
    }
   ],
   "source": [
    "#read in data\n",
    "scores = pd.read_csv('assignment 3 sentiment scores.csv')\n",
    "scores.head()"
   ]
  },
  {
   "cell_type": "code",
   "execution_count": 3,
   "metadata": {
    "collapsed": true
   },
   "outputs": [],
   "source": [
    "#initialize function to calculate directional switching\n",
    "\n",
    "def diff_func(a,b):\n",
    "    filtered = scores[scores[a].notnull()]\n",
    "    filtered = filtered[filtered[b].notnull()]\n",
    "    diff = sum(filtered[a]-filtered[b])/len(filtered)\n",
    "    if diff>0:\n",
    "        return (a, b, diff)\n",
    "    elif diff<0:\n",
    "        return (b, a, -diff)\n",
    "    else:\n",
    "        return"
   ]
  },
  {
   "cell_type": "code",
   "execution_count": 4,
   "metadata": {},
   "outputs": [
    {
     "name": "stdout",
     "output_type": "stream",
     "text": [
      "set([('LS', 'Sclass', 0.15333333333333332), ('LS', 'A6', 1.1666666666666667), ('3series', '7series', 0.1), ('RX', 'XJ', 2.0), ('RX', 'Sclass', 1.6666666666666667), ('A8', '3series', 1.1428571428571428), ('LS', 'ES', 0.3939393939393939), ('RX', '7series', 2.8), ('A8', '5series', 0.8333333333333334), ('A6', 'XJ', 1.0), ('LS', '3series', 0.75), ('LS', 'A8', 0.17045454545454544), ('ES', '7series', 0.36363636363636365), ('A6', '3series', 0.14285714285714285), ('5series', 'A6', 0.5), ('LS', 'RX', 0.375), ('A8', '7series', 0.075), ('ES', 'A6', 1.4), ('LS', '7series', 0.34545454545454546), ('Sclass', '7series', 0.2391304347826087), ('XJ', '7series', 0.5714285714285714), ('7series', 'A6', 1.6666666666666667), ('XJ', 'LS', 0.2), ('XJ', '3series', 3.0), ('RX', 'A6', 3.6666666666666665), ('ES', 'A8', 0.18181818181818182), ('RX', '5series', 3.6), ('ES', 'Sclass', 0.4444444444444444), ('Sclass', 'XJ', 0.375), ('RX', '3series', 2.6666666666666665), ('ES', '5series', 1.75), ('5series', 'LS', 0.19047619047619047), ('A8', 'Sclass', 0.21052631578947367), ('RX', 'A8', 1.6666666666666667), ('ES', '3series', 2.2222222222222223), ('A6', 'A8', 0.3333333333333333), ('XJ', 'A8', 0.5), ('ES', 'RX', 0.26666666666666666), ('Sclass', '5series', 0.625), ('XJ', '5series', 2.0), ('Sclass', 'A6', 0.8333333333333334), ('5series', '7series', 0.45454545454545453), None, ('3series', 'Sclass', 0.375)])\n"
     ]
    }
   ],
   "source": [
    "#cartesian product for unique directional tuples\n",
    "\n",
    "edge_set = set()\n",
    "for i in range(len(scores.columns)):\n",
    "    for j in range(i+1, len(scores.columns)):\n",
    "        edge_set.add(diff_func(scores.columns[i], scores.columns[j]))\n",
    "        \n",
    "print edge_set"
   ]
  },
  {
   "cell_type": "code",
   "execution_count": 12,
   "metadata": {},
   "outputs": [
    {
     "data": {
      "image/png": "[encoded data removed]",
      "text/plain": [
       "<matplotlib.figure.Figure at 0x118d97310>"
      ]
     },
     "metadata": {},
     "output_type": "display_data"
    }
   ],
   "source": [
    "#make the ugly graph\n",
    "\n",
    "G = nx.MultiDiGraph()\n",
    "\n",
    "edge_set.discard(None)\n",
    "for item in edge_set:\n",
    "    G.add_edge(item[0], item[1], weight=item[2])\n",
    "\n",
    "elarge=[(u,v) for (u,v,d) in G.edges(data=True) if d['weight'] >1]\n",
    "esmall=[(u,v) for (u,v,d) in G.edges(data=True) if d['weight'] <=1]\n",
    "\n",
    "pos=nx.spring_layout(G)\n",
    "\n",
    "# nodes\n",
    "nx.draw_networkx_nodes(G, pos, node_size=700, node_color='#581845', alpha=0.5)\n",
    "\n",
    "# edges\n",
    "nx.draw_networkx_edges(G, pos, edgelist=elarge, width=1, edge_color='#C70039')\n",
    "nx.draw_networkx_edges(G, pos, edgelist=esmall, width=1, alpha=0.5, edge_color='#FFC300')\n",
    "\n",
    "# labels\n",
    "nx.draw_networkx_labels(G, pos, font_size=12)\n",
    "\n",
    "plt.axis('off')\n",
    "plt.show() # display"
   ]
  },
  {
   "cell_type": "markdown",
   "metadata": {
    "collapsed": true
   },
   "source": [
    "## Task B"
   ]
  },
  {
   "cell_type": "code",
   "execution_count": 25,
   "metadata": {},
   "outputs": [
    {
     "data": {
      "text/html": [
       "<div>\n",
       "<style>\n",
       "    .dataframe thead tr:only-child th {\n",
       "        text-align: right;\n",
       "    }\n",
       "\n",
       "    .dataframe thead th {\n",
       "        text-align: left;\n",
       "    }\n",
       "\n",
       "    .dataframe tbody tr th {\n",
       "        vertical-align: top;\n",
       "    }\n",
       "</style>\n",
       "<table border=\"1\" class=\"dataframe\">\n",
       "  <thead>\n",
       "    <tr style=\"text-align: right;\">\n",
       "      <th></th>\n",
       "      <th>Model</th>\n",
       "      <th>Sales</th>\n",
       "    </tr>\n",
       "  </thead>\n",
       "  <tbody>\n",
       "    <tr>\n",
       "      <th>0</th>\n",
       "      <td>A6</td>\n",
       "      <td>20000</td>\n",
       "    </tr>\n",
       "    <tr>\n",
       "      <th>1</th>\n",
       "      <td>A8</td>\n",
       "      <td>12000</td>\n",
       "    </tr>\n",
       "    <tr>\n",
       "      <th>2</th>\n",
       "      <td>3-series</td>\n",
       "      <td>220000</td>\n",
       "    </tr>\n",
       "    <tr>\n",
       "      <th>3</th>\n",
       "      <td>5-series</td>\n",
       "      <td>60000</td>\n",
       "    </tr>\n",
       "    <tr>\n",
       "      <th>4</th>\n",
       "      <td>7-series</td>\n",
       "      <td>14000</td>\n",
       "    </tr>\n",
       "    <tr>\n",
       "      <th>5</th>\n",
       "      <td>XJ</td>\n",
       "      <td>6600</td>\n",
       "    </tr>\n",
       "    <tr>\n",
       "      <th>6</th>\n",
       "      <td>ES</td>\n",
       "      <td>135000</td>\n",
       "    </tr>\n",
       "    <tr>\n",
       "      <th>7</th>\n",
       "      <td>LS</td>\n",
       "      <td>30000</td>\n",
       "    </tr>\n",
       "    <tr>\n",
       "      <th>8</th>\n",
       "      <td>RX</td>\n",
       "      <td>120000</td>\n",
       "    </tr>\n",
       "    <tr>\n",
       "      <th>9</th>\n",
       "      <td>S-class</td>\n",
       "      <td>25000</td>\n",
       "    </tr>\n",
       "  </tbody>\n",
       "</table>\n",
       "</div>"
      ],
      "text/plain": [
       "      Model   Sales\n",
       "0        A6   20000\n",
       "1        A8   12000\n",
       "2  3-series  220000\n",
       "3  5-series   60000\n",
       "4  7-series   14000\n",
       "5        XJ    6600\n",
       "6        ES  135000\n",
       "7        LS   30000\n",
       "8        RX  120000\n",
       "9   S-class   25000"
      ]
     },
     "execution_count": 25,
     "metadata": {},
     "output_type": "execute_result"
    }
   ],
   "source": [
    "models = ['A6','A8','3-series','5-series','7-series','XJ','ES','LS','RX','S-class']\n",
    "sales = [20000,12000,220000,60000,14000,6600,135000,30000,120000,25000]\n",
    "data = pd.DataFrame({\n",
    "    'Model':models,\n",
    "    'Sales':sales\n",
    "})\n",
    "data"
   ]
  },
  {
   "cell_type": "markdown",
   "metadata": {},
   "source": [
    "#### Notes:\n",
    "Convert the NetworkX multigraph to a regular graph to run page rank.  \n",
    "\n",
    "Link: https://stackoverflow.com/questions/28560876/is-there-a-way-to-run-pagerank-algorithm-on-networkxs-multigraph"
   ]
  },
  {
   "cell_type": "code",
   "execution_count": 14,
   "metadata": {},
   "outputs": [],
   "source": [
    "H = nx.Graph()\n",
    "for u,v,d in G.edges(data=True):\n",
    "    w = d['weight']\n",
    "    if H.has_edge(u,v):\n",
    "        H[u][v]['weight'] += w\n",
    "    else:\n",
    "        H.add_edge(u,v,weight=w)"
   ]
  },
  {
   "cell_type": "markdown",
   "metadata": {},
   "source": [
    "### Unweighted Network Graph"
   ]
  },
  {
   "cell_type": "code",
   "execution_count": 26,
   "metadata": {},
   "outputs": [
    {
     "data": {
      "text/plain": [
       "{'3series': 0.11785451842024434,\n",
       " '5series': 0.11187137090813651,\n",
       " '7series': 0.07840800416635953,\n",
       " 'A6': 0.12127193989117901,\n",
       " 'A8': 0.06399085895628849,\n",
       " 'ES': 0.08401729264678429,\n",
       " 'LS': 0.05154612833579224,\n",
       " 'RX': 0.20042572013899274,\n",
       " 'Sclass': 0.0623210452731237,\n",
       " 'XJ': 0.10829312126309945}"
      ]
     },
     "execution_count": 26,
     "metadata": {},
     "output_type": "execute_result"
    }
   ],
   "source": [
    "un_ng = nx.pagerank(H)\n",
    "un_ng"
   ]
  },
  {
   "cell_type": "markdown",
   "metadata": {},
   "source": [
    "##### Correlation Coefficient "
   ]
  },
  {
   "cell_type": "code",
   "execution_count": 38,
   "metadata": {},
   "outputs": [
    {
     "data": {
      "text/plain": [
       "-0.22208946764316029"
      ]
     },
     "execution_count": 38,
     "metadata": {},
     "output_type": "execute_result"
    }
   ],
   "source": [
    "import numpy as np\n",
    "## Extract values from the pandas dataframe and the dictionary. \n",
    "np.corrcoef(un_ng.values(),data['Sales'])[0,1]"
   ]
  },
  {
   "cell_type": "markdown",
   "metadata": {},
   "source": [
    "### Weighted Network Graph"
   ]
  },
  {
   "cell_type": "code",
   "execution_count": 36,
   "metadata": {},
   "outputs": [
    {
     "data": {
      "text/plain": [
       "{'3series': 0.09392145882928801,\n",
       " '5series': 0.09392145882928801,\n",
       " '7series': 0.10405236078047467,\n",
       " 'A6': 0.10405236078047467,\n",
       " 'A8': 0.1040523607804747,\n",
       " 'ES': 0.09392145882928801,\n",
       " 'LS': 0.10405236078047468,\n",
       " 'RX': 0.10405236078047467,\n",
       " 'Sclass': 0.10405236078047467,\n",
       " 'XJ': 0.09392145882928798}"
      ]
     },
     "execution_count": 36,
     "metadata": {},
     "output_type": "execute_result"
    }
   ],
   "source": [
    "w_ng = nx.pagerank(H,weight='None')\n",
    "w_ng"
   ]
  },
  {
   "cell_type": "markdown",
   "metadata": {},
   "source": [
    "##### Correlation Coefficient "
   ]
  },
  {
   "cell_type": "code",
   "execution_count": 39,
   "metadata": {},
   "outputs": [
    {
     "data": {
      "text/plain": [
       "0.22068962979267567"
      ]
     },
     "execution_count": 39,
     "metadata": {},
     "output_type": "execute_result"
    }
   ],
   "source": [
    "np.corrcoef(w_ng.values(),data['Sales'])[0,1]"
   ]
  }
 ],
 "metadata": {
  "kernelspec": {
   "display_name": "Python 2",
   "language": "python",
   "name": "python2"
  },
  "language_info": {
   "codemirror_mode": {
    "name": "ipython",
    "version": 2
   },
   "file_extension": ".py",
   "mimetype": "text/x-python",
   "name": "python",
   "nbconvert_exporter": "python",
   "pygments_lexer": "ipython2",
   "version": "2.7.13"
  }
 },
 "nbformat": 4,
 "nbformat_minor": 2
}
