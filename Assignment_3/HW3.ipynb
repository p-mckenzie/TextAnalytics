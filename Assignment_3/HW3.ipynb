{
 "cells": [
  {
   "cell_type": "code",
   "execution_count": 52,
   "metadata": {},
   "outputs": [
    {
     "name": "stdout",
     "output_type": "stream",
     "text": [
      "Populating the interactive namespace from numpy and matplotlib\n"
     ]
    }
   ],
   "source": [
    "from pandas import Series, DataFrame\n",
    "import pandas as pd\n",
    "import networkx as nx\n",
    "import matplotlib.pyplot as plt\n",
    "import pylab\n",
    "%pylab inline"
   ]
  },
  {
   "cell_type": "markdown",
   "metadata": {},
   "source": [
    "## Task A"
   ]
  },
  {
   "cell_type": "code",
   "execution_count": 53,
   "metadata": {},
   "outputs": [
    {
     "data": {
      "text/html": [
       "<div>\n",
       "<style>\n",
       "    .dataframe thead tr:only-child th {\n",
       "        text-align: right;\n",
       "    }\n",
       "\n",
       "    .dataframe thead th {\n",
       "        text-align: left;\n",
       "    }\n",
       "\n",
       "    .dataframe tbody tr th {\n",
       "        vertical-align: top;\n",
       "    }\n",
       "</style>\n",
       "<table border=\"1\" class=\"dataframe\">\n",
       "  <thead>\n",
       "    <tr style=\"text-align: right;\">\n",
       "      <th></th>\n",
       "      <th>ES</th>\n",
       "      <th>LS</th>\n",
       "      <th>RX</th>\n",
       "      <th>A8</th>\n",
       "      <th>A6</th>\n",
       "      <th>3series</th>\n",
       "      <th>5series</th>\n",
       "      <th>7series</th>\n",
       "      <th>XJ</th>\n",
       "      <th>Sclass</th>\n",
       "    </tr>\n",
       "  </thead>\n",
       "  <tbody>\n",
       "    <tr>\n",
       "      <th>0</th>\n",
       "      <td>NaN</td>\n",
       "      <td>NaN</td>\n",
       "      <td>4.0</td>\n",
       "      <td>3.0</td>\n",
       "      <td>NaN</td>\n",
       "      <td>NaN</td>\n",
       "      <td>NaN</td>\n",
       "      <td>5.0</td>\n",
       "      <td>2.0</td>\n",
       "      <td>1.0</td>\n",
       "    </tr>\n",
       "    <tr>\n",
       "      <th>1</th>\n",
       "      <td>NaN</td>\n",
       "      <td>NaN</td>\n",
       "      <td>3.0</td>\n",
       "      <td>2.0</td>\n",
       "      <td>2.0</td>\n",
       "      <td>2.0</td>\n",
       "      <td>2.0</td>\n",
       "      <td>2.0</td>\n",
       "      <td>NaN</td>\n",
       "      <td>NaN</td>\n",
       "    </tr>\n",
       "    <tr>\n",
       "      <th>2</th>\n",
       "      <td>NaN</td>\n",
       "      <td>4.0</td>\n",
       "      <td>NaN</td>\n",
       "      <td>NaN</td>\n",
       "      <td>NaN</td>\n",
       "      <td>3.0</td>\n",
       "      <td>NaN</td>\n",
       "      <td>3.0</td>\n",
       "      <td>NaN</td>\n",
       "      <td>3.0</td>\n",
       "    </tr>\n",
       "    <tr>\n",
       "      <th>3</th>\n",
       "      <td>NaN</td>\n",
       "      <td>2.0</td>\n",
       "      <td>NaN</td>\n",
       "      <td>2.0</td>\n",
       "      <td>NaN</td>\n",
       "      <td>NaN</td>\n",
       "      <td>NaN</td>\n",
       "      <td>2.0</td>\n",
       "      <td>4.0</td>\n",
       "      <td>2.0</td>\n",
       "    </tr>\n",
       "    <tr>\n",
       "      <th>4</th>\n",
       "      <td>NaN</td>\n",
       "      <td>3.0</td>\n",
       "      <td>3.0</td>\n",
       "      <td>NaN</td>\n",
       "      <td>NaN</td>\n",
       "      <td>NaN</td>\n",
       "      <td>2.0</td>\n",
       "      <td>NaN</td>\n",
       "      <td>NaN</td>\n",
       "      <td>3.0</td>\n",
       "    </tr>\n",
       "  </tbody>\n",
       "</table>\n",
       "</div>"
      ],
      "text/plain": [
       "   ES   LS   RX   A8   A6  3series  5series  7series   XJ  Sclass\n",
       "0 NaN  NaN  4.0  3.0  NaN      NaN      NaN      5.0  2.0     1.0\n",
       "1 NaN  NaN  3.0  2.0  2.0      2.0      2.0      2.0  NaN     NaN\n",
       "2 NaN  4.0  NaN  NaN  NaN      3.0      NaN      3.0  NaN     3.0\n",
       "3 NaN  2.0  NaN  2.0  NaN      NaN      NaN      2.0  4.0     2.0\n",
       "4 NaN  3.0  3.0  NaN  NaN      NaN      2.0      NaN  NaN     3.0"
      ]
     },
     "execution_count": 53,
     "metadata": {},
     "output_type": "execute_result"
    }
   ],
   "source": [
    "#read in data\n",
    "scores = pd.read_csv('assignment 3 sentiment scores.csv')\n",
    "scores.head()"
   ]
  },
  {
   "cell_type": "code",
   "execution_count": 54,
   "metadata": {
    "collapsed": true
   },
   "outputs": [],
   "source": [
    "#initialize function to calculate directional switching\n",
    "\n",
    "def diff_func(a,b):\n",
    "    #find rows where a and b are directly compared\n",
    "    filtered = scores[scores[a].notnull()]\n",
    "    filtered = filtered[filtered[b].notnull()]\n",
    "    \n",
    "    #find the link weight, using Dichotomic-link graph formula from slides\n",
    "    diff = sum(filtered[a]-filtered[b])/len(filtered)\n",
    "    \n",
    "    #determine direction of link, and return appropriate tuple\n",
    "    if diff>0:\n",
    "        #a has more positive sentiment when compared to b\n",
    "        return (a, b, diff)\n",
    "    elif diff<0:\n",
    "        #b has more positive sentiment when compared to a\n",
    "        return (b, a, -diff)\n",
    "    else:\n",
    "        #a and b have the same average sentiment when compared\n",
    "        return"
   ]
  },
  {
   "cell_type": "code",
   "execution_count": 55,
   "metadata": {},
   "outputs": [
    {
     "name": "stdout",
     "output_type": "stream",
     "text": [
      "set([('LS', 'Sclass', 0.15333333333333332), ('LS', 'A6', 1.1666666666666667), ('3series', '7series', 0.1), ('RX', 'XJ', 2.0), ('RX', 'Sclass', 1.6666666666666667), ('A8', '3series', 1.1428571428571428), ('LS', 'ES', 0.3939393939393939), ('RX', '7series', 2.8), ('A8', '5series', 0.8333333333333334), ('A6', 'XJ', 1.0), ('LS', '3series', 0.75), ('LS', 'A8', 0.17045454545454544), ('ES', '7series', 0.36363636363636365), ('A6', '3series', 0.14285714285714285), ('5series', 'A6', 0.5), ('LS', 'RX', 0.375), ('A8', '7series', 0.075), ('ES', 'A6', 1.4), ('LS', '7series', 0.34545454545454546), ('Sclass', '7series', 0.2391304347826087), ('XJ', '7series', 0.5714285714285714), ('7series', 'A6', 1.6666666666666667), ('XJ', 'LS', 0.2), ('XJ', '3series', 3.0), ('RX', 'A6', 3.6666666666666665), ('ES', 'A8', 0.18181818181818182), ('RX', '5series', 3.6), ('ES', 'Sclass', 0.4444444444444444), ('Sclass', 'XJ', 0.375), ('RX', '3series', 2.6666666666666665), ('ES', '5series', 1.75), ('5series', 'LS', 0.19047619047619047), ('A8', 'Sclass', 0.21052631578947367), ('RX', 'A8', 1.6666666666666667), ('ES', '3series', 2.2222222222222223), ('A6', 'A8', 0.3333333333333333), ('XJ', 'A8', 0.5), ('3series', 'Sclass', 0.375), ('ES', 'RX', 0.26666666666666666), ('Sclass', '5series', 0.625), ('XJ', '5series', 2.0), ('Sclass', 'A6', 0.8333333333333334), ('5series', '7series', 0.45454545454545453), None])\n"
     ]
    }
   ],
   "source": [
    "#cartesian product for unique directional tuples\n",
    "#each tuple (a, b, weight) indicates that, when a and b are compared, the average sentiment is directed from b to a\n",
    "\n",
    "edge_set = set()\n",
    "for i in range(len(scores.columns)):\n",
    "    for j in range(i+1, len(scores.columns)):\n",
    "        edge_set.add(diff_func(scores.columns[i], scores.columns[j]))\n",
    "        \n",
    "print edge_set"
   ]
  },
  {
   "cell_type": "code",
   "execution_count": 56,
   "metadata": {},
   "outputs": [
    {
     "data": {
      "image/png": "[encoded data removed]",
      "text/plain": [
       "<matplotlib.figure.Figure at 0xc0500f0>"
      ]
     },
     "metadata": {},
     "output_type": "display_data"
    }
   ],
   "source": [
    "#make the ugly graph AKA option 1\n",
    "\n",
    "G = nx.MultiDiGraph()\n",
    "\n",
    "edge_set.discard(None)\n",
    "for item in edge_set:\n",
    "    G.add_edge(item[1], item[0], weight=item[2])\n",
    "\n",
    "elarge=[(u,v) for (u,v,d) in G.edges(data=True) if d['weight'] >1]\n",
    "esmall=[(u,v) for (u,v,d) in G.edges(data=True) if d['weight'] <=1]\n",
    "\n",
    "pos=nx.spring_layout(G)\n",
    "\n",
    "# nodes\n",
    "nx.draw_networkx_nodes(G, pos, node_size=700, node_color='#581845', alpha=0.5)\n",
    "\n",
    "# edges\n",
    "nx.draw_networkx_edges(G, pos, edgelist=elarge, width=1, edge_color='#C70039')\n",
    "nx.draw_networkx_edges(G, pos, edgelist=esmall, width=1, alpha=0.5, edge_color='#FFC300')\n",
    "\n",
    "# labels\n",
    "nx.draw_networkx_labels(G, pos, font_size=12)\n",
    "\n",
    "plt.axis('off')\n",
    "plt.show() # display"
   ]
  },
  {
   "cell_type": "code",
   "execution_count": 57,
   "metadata": {},
   "outputs": [
    {
     "data": {
      "image/png": "[encoded data removed]",
      "text/plain": [
       "<matplotlib.figure.Figure at 0xc248e10>"
      ]
     },
     "metadata": {},
     "output_type": "display_data"
    }
   ],
   "source": [
    "#even uglier graph AKA option 2\n",
    "\n",
    "G = nx.DiGraph()\n",
    "\n",
    "for item in edge_set:\n",
    "    G.add_edge(item[1], item[0], weight=round(item[2],2))\n",
    "\n",
    "red_edges = [(tup[1], tup[0]) for tup in edge_set if tup[2]>1]\n",
    "edge_colors = ['#FFC300' if not edge in red_edges else '#C70039' for edge in G.edges()]\n",
    "\n",
    "pos=nx.spring_layout(G)\n",
    "\n",
    "edge_labels=dict([((u,v,),d['weight']) for u,v,d in G.edges(data=True)])\n",
    "\n",
    "nx.draw_networkx_edge_labels(G,pos,edge_labels=edge_labels)\n",
    "nx.draw(G,pos, node_size=700, node_color='#581845', alpha=0.5, edge_color=edge_colors)\n",
    "\n",
    "# labels\n",
    "nx.draw_networkx_labels(G, pos, font_size=12)\n",
    "\n",
    "plt.axis('off')\n",
    "plt.show()"
   ]
  },
  {
   "cell_type": "markdown",
   "metadata": {
    "collapsed": true
   },
   "source": [
    "## Task B"
   ]
  },
  {
   "cell_type": "code",
   "execution_count": 69,
   "metadata": {},
   "outputs": [
    {
     "data": {
      "text/html": [
       "<div>\n",
       "<style>\n",
       "    .dataframe thead tr:only-child th {\n",
       "        text-align: right;\n",
       "    }\n",
       "\n",
       "    .dataframe thead th {\n",
       "        text-align: left;\n",
       "    }\n",
       "\n",
       "    .dataframe tbody tr th {\n",
       "        vertical-align: top;\n",
       "    }\n",
       "</style>\n",
       "<table border=\"1\" class=\"dataframe\">\n",
       "  <thead>\n",
       "    <tr style=\"text-align: right;\">\n",
       "      <th></th>\n",
       "      <th>Sales</th>\n",
       "    </tr>\n",
       "    <tr>\n",
       "      <th>Model</th>\n",
       "      <th></th>\n",
       "    </tr>\n",
       "  </thead>\n",
       "  <tbody>\n",
       "    <tr>\n",
       "      <th>3series</th>\n",
       "      <td>220000</td>\n",
       "    </tr>\n",
       "    <tr>\n",
       "      <th>ES</th>\n",
       "      <td>135000</td>\n",
       "    </tr>\n",
       "    <tr>\n",
       "      <th>RX</th>\n",
       "      <td>120000</td>\n",
       "    </tr>\n",
       "    <tr>\n",
       "      <th>5series</th>\n",
       "      <td>60000</td>\n",
       "    </tr>\n",
       "    <tr>\n",
       "      <th>LS</th>\n",
       "      <td>30000</td>\n",
       "    </tr>\n",
       "    <tr>\n",
       "      <th>Sclass</th>\n",
       "      <td>25000</td>\n",
       "    </tr>\n",
       "    <tr>\n",
       "      <th>A6</th>\n",
       "      <td>20000</td>\n",
       "    </tr>\n",
       "    <tr>\n",
       "      <th>7series</th>\n",
       "      <td>14000</td>\n",
       "    </tr>\n",
       "    <tr>\n",
       "      <th>A8</th>\n",
       "      <td>12000</td>\n",
       "    </tr>\n",
       "    <tr>\n",
       "      <th>XJ</th>\n",
       "      <td>6600</td>\n",
       "    </tr>\n",
       "  </tbody>\n",
       "</table>\n",
       "</div>"
      ],
      "text/plain": [
       "          Sales\n",
       "Model          \n",
       "3series  220000\n",
       "ES       135000\n",
       "RX       120000\n",
       "5series   60000\n",
       "LS        30000\n",
       "Sclass    25000\n",
       "A6        20000\n",
       "7series   14000\n",
       "A8        12000\n",
       "XJ         6600"
      ]
     },
     "execution_count": 69,
     "metadata": {},
     "output_type": "execute_result"
    }
   ],
   "source": [
    "models = ['A6','A8','3series','5series','7series','XJ','ES','LS','RX','Sclass']\n",
    "sales = [20000,12000,220000,60000,14000,6600,135000,30000,120000,25000]\n",
    "data = pd.DataFrame({\n",
    "    'Model':models,\n",
    "    'Sales':sales\n",
    "})\n",
    "\n",
    "data.sort_values('Sales',ascending=False,inplace=True)\n",
    "data.set_index('Model', inplace=True)\n",
    "data"
   ]
  },
  {
   "cell_type": "markdown",
   "metadata": {},
   "source": [
    "#### Notes:\n",
    "Convert the NetworkX multigraph to a regular graph to run page rank.  \n",
    "\n",
    "Link: https://stackoverflow.com/questions/28560876/is-there-a-way-to-run-pagerank-algorithm-on-networkxs-multigraph"
   ]
  },
  {
   "cell_type": "code",
   "execution_count": 70,
   "metadata": {
    "collapsed": true
   },
   "outputs": [],
   "source": [
    "H = nx.Graph()\n",
    "for u,v,d in G.edges(data=True):\n",
    "    w = d['weight']\n",
    "    if H.has_edge(u,v):\n",
    "        H[u][v]['weight'] += w\n",
    "    else:\n",
    "        H.add_edge(u,v,weight=w)"
   ]
  },
  {
   "cell_type": "markdown",
   "metadata": {},
   "source": [
    "### Weighted Network Graph"
   ]
  },
  {
   "cell_type": "code",
   "execution_count": 71,
   "metadata": {},
   "outputs": [
    {
     "data": {
      "text/plain": [
       "{'3series': 0.11785983099161096,\n",
       " '5series': 0.1118399560554508,\n",
       " '7series': 0.07835174761424891,\n",
       " 'A6': 0.1212702813830892,\n",
       " 'A8': 0.06384818582345443,\n",
       " 'ES': 0.083873379861035,\n",
       " 'LS': 0.051584713126335384,\n",
       " 'RX': 0.20065576470465735,\n",
       " 'Sclass': 0.06238278738529829,\n",
       " 'XJ': 0.10833335305481956}"
      ]
     },
     "execution_count": 71,
     "metadata": {},
     "output_type": "execute_result"
    }
   ],
   "source": [
    "un_ng = nx.pagerank(H)\n",
    "un_ng"
   ]
  },
  {
   "cell_type": "code",
   "execution_count": 72,
   "metadata": {},
   "outputs": [
    {
     "data": {
      "text/html": [
       "<div>\n",
       "<style>\n",
       "    .dataframe thead tr:only-child th {\n",
       "        text-align: right;\n",
       "    }\n",
       "\n",
       "    .dataframe thead th {\n",
       "        text-align: left;\n",
       "    }\n",
       "\n",
       "    .dataframe tbody tr th {\n",
       "        vertical-align: top;\n",
       "    }\n",
       "</style>\n",
       "<table border=\"1\" class=\"dataframe\">\n",
       "  <thead>\n",
       "    <tr style=\"text-align: right;\">\n",
       "      <th></th>\n",
       "      <th>Sales</th>\n",
       "      <th>un_ng</th>\n",
       "    </tr>\n",
       "    <tr>\n",
       "      <th>Model</th>\n",
       "      <th></th>\n",
       "      <th></th>\n",
       "    </tr>\n",
       "  </thead>\n",
       "  <tbody>\n",
       "    <tr>\n",
       "      <th>3series</th>\n",
       "      <td>220000</td>\n",
       "      <td>0.117860</td>\n",
       "    </tr>\n",
       "    <tr>\n",
       "      <th>ES</th>\n",
       "      <td>135000</td>\n",
       "      <td>0.083873</td>\n",
       "    </tr>\n",
       "    <tr>\n",
       "      <th>RX</th>\n",
       "      <td>120000</td>\n",
       "      <td>0.200656</td>\n",
       "    </tr>\n",
       "    <tr>\n",
       "      <th>5series</th>\n",
       "      <td>60000</td>\n",
       "      <td>0.111840</td>\n",
       "    </tr>\n",
       "    <tr>\n",
       "      <th>LS</th>\n",
       "      <td>30000</td>\n",
       "      <td>0.051585</td>\n",
       "    </tr>\n",
       "    <tr>\n",
       "      <th>Sclass</th>\n",
       "      <td>25000</td>\n",
       "      <td>0.062383</td>\n",
       "    </tr>\n",
       "    <tr>\n",
       "      <th>A6</th>\n",
       "      <td>20000</td>\n",
       "      <td>0.121270</td>\n",
       "    </tr>\n",
       "    <tr>\n",
       "      <th>7series</th>\n",
       "      <td>14000</td>\n",
       "      <td>0.078352</td>\n",
       "    </tr>\n",
       "    <tr>\n",
       "      <th>A8</th>\n",
       "      <td>12000</td>\n",
       "      <td>0.063848</td>\n",
       "    </tr>\n",
       "    <tr>\n",
       "      <th>XJ</th>\n",
       "      <td>6600</td>\n",
       "      <td>0.108333</td>\n",
       "    </tr>\n",
       "  </tbody>\n",
       "</table>\n",
       "</div>"
      ],
      "text/plain": [
       "          Sales     un_ng\n",
       "Model                    \n",
       "3series  220000  0.117860\n",
       "ES       135000  0.083873\n",
       "RX       120000  0.200656\n",
       "5series   60000  0.111840\n",
       "LS        30000  0.051585\n",
       "Sclass    25000  0.062383\n",
       "A6        20000  0.121270\n",
       "7series   14000  0.078352\n",
       "A8        12000  0.063848\n",
       "XJ         6600  0.108333"
      ]
     },
     "execution_count": 72,
     "metadata": {},
     "output_type": "execute_result"
    }
   ],
   "source": [
    "data['un_ng']=pd.Series(un_ng)\n",
    "data"
   ]
  },
  {
   "cell_type": "markdown",
   "metadata": {},
   "source": [
    "##### Correlation Coefficient "
   ]
  },
  {
   "cell_type": "code",
   "execution_count": 73,
   "metadata": {},
   "outputs": [
    {
     "data": {
      "text/plain": [
       "0.42809040071415633"
      ]
     },
     "execution_count": 73,
     "metadata": {},
     "output_type": "execute_result"
    }
   ],
   "source": [
    "import numpy as np\n",
    "## Extract values from the pandas dataframe and the dictionary. \n",
    "np.corrcoef(data['un_ng'],data['Sales'])[0,1]"
   ]
  },
  {
   "cell_type": "markdown",
   "metadata": {},
   "source": [
    "### Unweighted Network Graph"
   ]
  },
  {
   "cell_type": "code",
   "execution_count": 74,
   "metadata": {},
   "outputs": [
    {
     "data": {
      "text/plain": [
       "{'3series': 0.09392145882928798,\n",
       " '5series': 0.09392145882928797,\n",
       " '7series': 0.10405236078047467,\n",
       " 'A6': 0.10405236078047467,\n",
       " 'A8': 0.10405236078047467,\n",
       " 'ES': 0.09392145882928798,\n",
       " 'LS': 0.10405236078047467,\n",
       " 'RX': 0.10405236078047467,\n",
       " 'Sclass': 0.10405236078047467,\n",
       " 'XJ': 0.09392145882928798}"
      ]
     },
     "execution_count": 74,
     "metadata": {},
     "output_type": "execute_result"
    }
   ],
   "source": [
    "w_ng = nx.pagerank(H,weight='None')\n",
    "w_ng"
   ]
  },
  {
   "cell_type": "code",
   "execution_count": 75,
   "metadata": {},
   "outputs": [
    {
     "data": {
      "text/html": [
       "<div>\n",
       "<style>\n",
       "    .dataframe thead tr:only-child th {\n",
       "        text-align: right;\n",
       "    }\n",
       "\n",
       "    .dataframe thead th {\n",
       "        text-align: left;\n",
       "    }\n",
       "\n",
       "    .dataframe tbody tr th {\n",
       "        vertical-align: top;\n",
       "    }\n",
       "</style>\n",
       "<table border=\"1\" class=\"dataframe\">\n",
       "  <thead>\n",
       "    <tr style=\"text-align: right;\">\n",
       "      <th></th>\n",
       "      <th>Sales</th>\n",
       "      <th>un_ng</th>\n",
       "      <th>w_ng</th>\n",
       "    </tr>\n",
       "    <tr>\n",
       "      <th>Model</th>\n",
       "      <th></th>\n",
       "      <th></th>\n",
       "      <th></th>\n",
       "    </tr>\n",
       "  </thead>\n",
       "  <tbody>\n",
       "    <tr>\n",
       "      <th>3series</th>\n",
       "      <td>220000</td>\n",
       "      <td>0.117860</td>\n",
       "      <td>0.093921</td>\n",
       "    </tr>\n",
       "    <tr>\n",
       "      <th>ES</th>\n",
       "      <td>135000</td>\n",
       "      <td>0.083873</td>\n",
       "      <td>0.093921</td>\n",
       "    </tr>\n",
       "    <tr>\n",
       "      <th>RX</th>\n",
       "      <td>120000</td>\n",
       "      <td>0.200656</td>\n",
       "      <td>0.104052</td>\n",
       "    </tr>\n",
       "    <tr>\n",
       "      <th>5series</th>\n",
       "      <td>60000</td>\n",
       "      <td>0.111840</td>\n",
       "      <td>0.093921</td>\n",
       "    </tr>\n",
       "    <tr>\n",
       "      <th>LS</th>\n",
       "      <td>30000</td>\n",
       "      <td>0.051585</td>\n",
       "      <td>0.104052</td>\n",
       "    </tr>\n",
       "    <tr>\n",
       "      <th>Sclass</th>\n",
       "      <td>25000</td>\n",
       "      <td>0.062383</td>\n",
       "      <td>0.104052</td>\n",
       "    </tr>\n",
       "    <tr>\n",
       "      <th>A6</th>\n",
       "      <td>20000</td>\n",
       "      <td>0.121270</td>\n",
       "      <td>0.104052</td>\n",
       "    </tr>\n",
       "    <tr>\n",
       "      <th>7series</th>\n",
       "      <td>14000</td>\n",
       "      <td>0.078352</td>\n",
       "      <td>0.104052</td>\n",
       "    </tr>\n",
       "    <tr>\n",
       "      <th>A8</th>\n",
       "      <td>12000</td>\n",
       "      <td>0.063848</td>\n",
       "      <td>0.104052</td>\n",
       "    </tr>\n",
       "    <tr>\n",
       "      <th>XJ</th>\n",
       "      <td>6600</td>\n",
       "      <td>0.108333</td>\n",
       "      <td>0.093921</td>\n",
       "    </tr>\n",
       "  </tbody>\n",
       "</table>\n",
       "</div>"
      ],
      "text/plain": [
       "          Sales     un_ng      w_ng\n",
       "Model                              \n",
       "3series  220000  0.117860  0.093921\n",
       "ES       135000  0.083873  0.093921\n",
       "RX       120000  0.200656  0.104052\n",
       "5series   60000  0.111840  0.093921\n",
       "LS        30000  0.051585  0.104052\n",
       "Sclass    25000  0.062383  0.104052\n",
       "A6        20000  0.121270  0.104052\n",
       "7series   14000  0.078352  0.104052\n",
       "A8        12000  0.063848  0.104052\n",
       "XJ         6600  0.108333  0.093921"
      ]
     },
     "execution_count": 75,
     "metadata": {},
     "output_type": "execute_result"
    }
   ],
   "source": [
    "data['w_ng']=pd.Series(w_ng)\n",
    "data"
   ]
  },
  {
   "cell_type": "markdown",
   "metadata": {},
   "source": [
    "##### Correlation Coefficient "
   ]
  },
  {
   "cell_type": "code",
   "execution_count": 76,
   "metadata": {},
   "outputs": [
    {
     "data": {
      "text/plain": [
       "-0.49721639483409935"
      ]
     },
     "execution_count": 76,
     "metadata": {},
     "output_type": "execute_result"
    }
   ],
   "source": [
    "np.corrcoef(data['w_ng'],data['Sales'])[0,1]"
   ]
  }
 ],
 "metadata": {
  "kernelspec": {
   "display_name": "Python 2",
   "language": "python",
   "name": "python2"
  },
  "language_info": {
   "codemirror_mode": {
    "name": "ipython",
    "version": 2
   },
   "file_extension": ".py",
   "mimetype": "text/x-python",
   "name": "python",
   "nbconvert_exporter": "python",
   "pygments_lexer": "ipython2",
   "version": "2.7.13"
  }
 },
 "nbformat": 4,
 "nbformat_minor": 2
}
