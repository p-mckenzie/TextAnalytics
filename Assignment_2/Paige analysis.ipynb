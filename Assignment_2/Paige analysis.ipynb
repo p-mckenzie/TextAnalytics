{
 "cells": [
  {
   "cell_type": "code",
   "execution_count": 1,
   "metadata": {},
   "outputs": [
    {
     "name": "stdout",
     "output_type": "stream",
     "text": [
      "Populating the interactive namespace from numpy and matplotlib\n"
     ]
    }
   ],
   "source": [
    "from pandas import Series, DataFrame\n",
    "import pandas as pd\n",
    "%pylab inline"
   ]
  },
  {
   "cell_type": "code",
   "execution_count": 2,
   "metadata": {},
   "outputs": [
    {
     "data": {
      "text/html": [
       "<div>\n",
       "<style>\n",
       "    .dataframe thead tr:only-child th {\n",
       "        text-align: right;\n",
       "    }\n",
       "\n",
       "    .dataframe thead th {\n",
       "        text-align: left;\n",
       "    }\n",
       "\n",
       "    .dataframe tbody tr th {\n",
       "        vertical-align: top;\n",
       "    }\n",
       "</style>\n",
       "<table border=\"1\" class=\"dataframe\">\n",
       "  <thead>\n",
       "    <tr style=\"text-align: right;\">\n",
       "      <th></th>\n",
       "      <th>date</th>\n",
       "      <th>message</th>\n",
       "      <th>time</th>\n",
       "      <th>username</th>\n",
       "    </tr>\n",
       "  </thead>\n",
       "  <tbody>\n",
       "    <tr>\n",
       "      <th>0</th>\n",
       "      <td>2002-03-23</td>\n",
       "      <td>Entry level performance luxury sedans are a ho...</td>\n",
       "      <td>19:04:32</td>\n",
       "      <td>cybersol</td>\n",
       "    </tr>\n",
       "    <tr>\n",
       "      <th>1</th>\n",
       "      <td>2002-03-25</td>\n",
       "      <td>I personally think that with a few tweaks the ...</td>\n",
       "      <td>05:54:02</td>\n",
       "      <td>merc1</td>\n",
       "    </tr>\n",
       "    <tr>\n",
       "      <th>2</th>\n",
       "      <td>2002-03-25</td>\n",
       "      <td>I am debating a new purchase and these two are...</td>\n",
       "      <td>07:06:29</td>\n",
       "      <td>fredvh</td>\n",
       "    </tr>\n",
       "    <tr>\n",
       "      <th>3</th>\n",
       "      <td>2002-03-25</td>\n",
       "      <td>Great handling, RWD, excellent engine and the ...</td>\n",
       "      <td>17:02:27</td>\n",
       "      <td>blueguydotcom</td>\n",
       "    </tr>\n",
       "    <tr>\n",
       "      <th>4</th>\n",
       "      <td>2002-03-25</td>\n",
       "      <td>And no manual tranny.  That may not matter to ...</td>\n",
       "      <td>23:04:37</td>\n",
       "      <td>hungrywhale</td>\n",
       "    </tr>\n",
       "  </tbody>\n",
       "</table>\n",
       "</div>"
      ],
      "text/plain": [
       "         date                                            message      time  \\\n",
       "0  2002-03-23  Entry level performance luxury sedans are a ho...  19:04:32   \n",
       "1  2002-03-25  I personally think that with a few tweaks the ...  05:54:02   \n",
       "2  2002-03-25  I am debating a new purchase and these two are...  07:06:29   \n",
       "3  2002-03-25  Great handling, RWD, excellent engine and the ...  17:02:27   \n",
       "4  2002-03-25  And no manual tranny.  That may not matter to ...  23:04:37   \n",
       "\n",
       "        username  \n",
       "0       cybersol  \n",
       "1          merc1  \n",
       "2         fredvh  \n",
       "3  blueguydotcom  \n",
       "4    hungrywhale  "
      ]
     },
     "execution_count": 2,
     "metadata": {},
     "output_type": "execute_result"
    }
   ],
   "source": [
    "#initialize dataframes\n",
    "df = pd.read_csv('General_Sedan.csv', index_col=0)\n",
    "df.head()"
   ]
  },
  {
   "cell_type": "code",
   "execution_count": 3,
   "metadata": {},
   "outputs": [
    {
     "data": {
      "text/html": [
       "<div>\n",
       "<style>\n",
       "    .dataframe thead tr:only-child th {\n",
       "        text-align: right;\n",
       "    }\n",
       "\n",
       "    .dataframe thead th {\n",
       "        text-align: left;\n",
       "    }\n",
       "\n",
       "    .dataframe tbody tr th {\n",
       "        vertical-align: top;\n",
       "    }\n",
       "</style>\n",
       "<table border=\"1\" class=\"dataframe\">\n",
       "  <thead>\n",
       "    <tr style=\"text-align: right;\">\n",
       "      <th></th>\n",
       "      <th>brand</th>\n",
       "      <th>model</th>\n",
       "    </tr>\n",
       "  </thead>\n",
       "  <tbody>\n",
       "    <tr>\n",
       "      <th>0</th>\n",
       "      <td>acura</td>\n",
       "      <td>integra</td>\n",
       "    </tr>\n",
       "    <tr>\n",
       "      <th>1</th>\n",
       "      <td>acura</td>\n",
       "      <td>legend</td>\n",
       "    </tr>\n",
       "    <tr>\n",
       "      <th>2</th>\n",
       "      <td>acura</td>\n",
       "      <td>vigor</td>\n",
       "    </tr>\n",
       "    <tr>\n",
       "      <th>3</th>\n",
       "      <td>acura</td>\n",
       "      <td>rlx</td>\n",
       "    </tr>\n",
       "    <tr>\n",
       "      <th>4</th>\n",
       "      <td>acura</td>\n",
       "      <td>ilx</td>\n",
       "    </tr>\n",
       "  </tbody>\n",
       "</table>\n",
       "</div>"
      ],
      "text/plain": [
       "   brand    model\n",
       "0  acura  integra\n",
       "1  acura  legend \n",
       "2  acura    vigor\n",
       "3  acura      rlx\n",
       "4  acura      ilx"
      ]
     },
     "execution_count": 3,
     "metadata": {},
     "output_type": "execute_result"
    }
   ],
   "source": [
    "#initialize brand data, remove weird values\n",
    "\n",
    "model_df = pd.read_csv('Cars make model list.csv', encoding='utf-8', names=['brand', 'model'])\n",
    "model_df['brand'] = model_df['brand'].str.lower()\n",
    "model_df['model'] = model_df['model'].str.lower()\n",
    "\n",
    "model_dict = model_df.set_index('model')['brand'].to_dict()\n",
    "model_df.head()"
   ]
  },
  {
   "cell_type": "code",
   "execution_count": 4,
   "metadata": {
    "collapsed": true
   },
   "outputs": [],
   "source": [
    "# Define function to remove unnecessary characters from words\n",
    "from nltk import pos_tag, word_tokenize\n",
    "def remove_weird_char(string):\n",
    "    import re\n",
    "    string = string.lower()\n",
    "    words = string.split()\n",
    "    refined = []\n",
    "    for i in words:\n",
    "        refined.append(re.sub(\"[^\\w]+\", \" \", i))\n",
    "    sentence = ' '.join([word for word in refined])\n",
    "    return(sentence)\n",
    "\n",
    "#define function to replace brand references with model references\n",
    "def replace_brand(text):\n",
    "    aset = set(text.split())\n",
    "    overlap = aset.intersection(set(model_dict.keys()))\n",
    "    aset = (aset-overlap).union(set([model_dict[x] for x in overlap]))\n",
    "    return ' '.join([word for word in aset])\n",
    "\n",
    "# Define function to remove stopwords from given text\n",
    "# also removes duplicate words in a single message\n",
    "from nltk.corpus import stopwords\n",
    "cachedStopWords = stopwords.words(\"english\")\n",
    "def rmStopWords(text):\n",
    "        text = ' '.join([word for word in set(text.split()) if word not in cachedStopWords])\n",
    "        return text\n",
    "    \n",
    "#define function to replace some punctuation with spaces\n",
    "def rep_punct(text):\n",
    "    return text.lower().replace('.',' ').replace('!',' ').replace(',',' ').replace('?',' ').replace(')',' ').replace('(',' ')\n",
    "\n",
    "# Define function to remove unnecessary characters from words\n",
    "from nltk import pos_tag, word_tokenize\n",
    "def remove_weird_char(string):\n",
    "    import re\n",
    "    string = string.lower()\n",
    "    words = string.split()\n",
    "    refined = []\n",
    "    for i in words:\n",
    "        refined.append(re.sub(\"[^\\w]+\", \" \", i))\n",
    "    sentence = ' '.join([word for word in refined])\n",
    "    return(sentence)"
   ]
  },
  {
   "cell_type": "code",
   "execution_count": 5,
   "metadata": {
    "collapsed": true
   },
   "outputs": [],
   "source": [
    "# process comments with above functions\n",
    "\n",
    "df['fixedmessage'] = df['message'].apply(rep_punct).apply(replace_brand).apply(rmStopWords).apply(remove_weird_char)"
   ]
  },
  {
   "cell_type": "code",
   "execution_count": 6,
   "metadata": {
    "collapsed": true
   },
   "outputs": [],
   "source": [
    "# Slice dataframe to get relevant column\n",
    "messages = df['fixedmessage'].str.cat(sep=\" \")\n",
    "\n",
    "# Tokenize, tag, and turn into a dataframe\n",
    "pos_df = pd.DataFrame(pos_tag(word_tokenize(messages)), columns = ['Word', 'POS'])"
   ]
  },
  {
   "cell_type": "code",
   "execution_count": 7,
   "metadata": {},
   "outputs": [
    {
     "data": {
      "text/plain": [
       "car         5083\n",
       "bmw         3887\n",
       "sedan       3588\n",
       "audi        2392\n",
       "infiniti    2392\n",
       "acura       1495\n",
       "cadillac     897\n",
       "toyota       897\n",
       "mercedes     897\n",
       "chrysler     598\n",
       "Name: Word, dtype: int64"
      ]
     },
     "execution_count": 7,
     "metadata": {},
     "output_type": "execute_result"
    }
   ],
   "source": [
    "# top brands by number of mentions (by message)\n",
    "brands = set(model_dict.values())\n",
    "relevant_brands = brands-{'car','seat','sedan','problem'}\n",
    "\n",
    "top_10_brands = pos_df[pos_df['Word'].isin(relevant_brands)]['Word'].value_counts()[:10].index\n",
    "pos_df[pos_df['Word'].isin(brands)]['Word'].value_counts()[:10]"
   ]
  },
  {
   "cell_type": "markdown",
   "metadata": {},
   "source": [
    "# Task A"
   ]
  },
  {
   "cell_type": "code",
   "execution_count": 8,
   "metadata": {
    "collapsed": true
   },
   "outputs": [],
   "source": [
    "#calculate lift values\n",
    "\n",
    "def calc_lift(a, b):\n",
    "    total_size = len(df)\n",
    "    filter_a = df[df['fixedmessage'].str.contains(a)]\n",
    "    num_a = len(filter_a)\n",
    "    num_b = len(df[df['fixedmessage'].str.contains(b)])\n",
    "    num_a_b = len(filter_a['fixedmessage'][filter_a['fixedmessage'].str.contains(b)])\n",
    "    if num_a_b==0:\n",
    "        return .2\n",
    "    return round(total_size*float(num_a_b)/float(num_a*num_b),2)"
   ]
  },
  {
   "cell_type": "code",
   "execution_count": 9,
   "metadata": {
    "collapsed": true
   },
   "outputs": [],
   "source": [
    "#function to uniquely combine relevant brands\n",
    "def permute(aset):\n",
    "    alist = []\n",
    "    for item1 in aset:\n",
    "        for item2 in aset-{item1}:\n",
    "            newset = {item1, item2}\n",
    "            if newset not in alist:\n",
    "                alist.append(newset)\n",
    "    \n",
    "    return alist"
   ]
  },
  {
   "cell_type": "code",
   "execution_count": 10,
   "metadata": {},
   "outputs": [
    {
     "data": {
      "text/html": [
       "<div>\n",
       "<style>\n",
       "    .dataframe thead tr:only-child th {\n",
       "        text-align: right;\n",
       "    }\n",
       "\n",
       "    .dataframe thead th {\n",
       "        text-align: left;\n",
       "    }\n",
       "\n",
       "    .dataframe tbody tr th {\n",
       "        vertical-align: top;\n",
       "    }\n",
       "</style>\n",
       "<table border=\"1\" class=\"dataframe\">\n",
       "  <thead>\n",
       "    <tr style=\"text-align: right;\">\n",
       "      <th></th>\n",
       "      <th>bmw</th>\n",
       "      <th>infiniti</th>\n",
       "      <th>audi</th>\n",
       "      <th>acura</th>\n",
       "      <th>toyota</th>\n",
       "      <th>mercedes</th>\n",
       "      <th>cadillac</th>\n",
       "      <th>buick</th>\n",
       "      <th>chrysler</th>\n",
       "      <th>volvo</th>\n",
       "    </tr>\n",
       "  </thead>\n",
       "  <tbody>\n",
       "    <tr>\n",
       "      <th>bmw</th>\n",
       "      <td>2.82</td>\n",
       "      <td>1.76</td>\n",
       "      <td>2.01</td>\n",
       "      <td>1.69</td>\n",
       "      <td>0.94</td>\n",
       "      <td>2.82</td>\n",
       "      <td>2.82</td>\n",
       "      <td>1.41</td>\n",
       "      <td>2.82</td>\n",
       "      <td>2.82</td>\n",
       "    </tr>\n",
       "    <tr>\n",
       "      <th>infiniti</th>\n",
       "      <td>1.76</td>\n",
       "      <td>3.88</td>\n",
       "      <td>1.66</td>\n",
       "      <td>1.55</td>\n",
       "      <td>0.2</td>\n",
       "      <td>1.94</td>\n",
       "      <td>2.58</td>\n",
       "      <td>0.2</td>\n",
       "      <td>1.94</td>\n",
       "      <td>3.88</td>\n",
       "    </tr>\n",
       "    <tr>\n",
       "      <th>audi</th>\n",
       "      <td>2.01</td>\n",
       "      <td>1.66</td>\n",
       "      <td>4.43</td>\n",
       "      <td>2.66</td>\n",
       "      <td>1.48</td>\n",
       "      <td>4.43</td>\n",
       "      <td>2.95</td>\n",
       "      <td>2.21</td>\n",
       "      <td>4.43</td>\n",
       "      <td>4.43</td>\n",
       "    </tr>\n",
       "    <tr>\n",
       "      <th>acura</th>\n",
       "      <td>1.69</td>\n",
       "      <td>1.55</td>\n",
       "      <td>2.66</td>\n",
       "      <td>6.2</td>\n",
       "      <td>2.07</td>\n",
       "      <td>6.2</td>\n",
       "      <td>2.07</td>\n",
       "      <td>3.1</td>\n",
       "      <td>6.2</td>\n",
       "      <td>6.2</td>\n",
       "    </tr>\n",
       "    <tr>\n",
       "      <th>toyota</th>\n",
       "      <td>0.94</td>\n",
       "      <td>0.2</td>\n",
       "      <td>1.48</td>\n",
       "      <td>2.07</td>\n",
       "      <td>10.33</td>\n",
       "      <td>5.17</td>\n",
       "      <td>0.2</td>\n",
       "      <td>5.17</td>\n",
       "      <td>5.17</td>\n",
       "      <td>0.2</td>\n",
       "    </tr>\n",
       "    <tr>\n",
       "      <th>mercedes</th>\n",
       "      <td>2.82</td>\n",
       "      <td>1.94</td>\n",
       "      <td>4.43</td>\n",
       "      <td>6.2</td>\n",
       "      <td>5.17</td>\n",
       "      <td>15.5</td>\n",
       "      <td>5.17</td>\n",
       "      <td>7.75</td>\n",
       "      <td>15.5</td>\n",
       "      <td>15.5</td>\n",
       "    </tr>\n",
       "    <tr>\n",
       "      <th>cadillac</th>\n",
       "      <td>2.82</td>\n",
       "      <td>2.58</td>\n",
       "      <td>2.95</td>\n",
       "      <td>2.07</td>\n",
       "      <td>0.2</td>\n",
       "      <td>5.17</td>\n",
       "      <td>10.33</td>\n",
       "      <td>0.2</td>\n",
       "      <td>5.17</td>\n",
       "      <td>10.33</td>\n",
       "    </tr>\n",
       "    <tr>\n",
       "      <th>buick</th>\n",
       "      <td>1.41</td>\n",
       "      <td>0.2</td>\n",
       "      <td>2.21</td>\n",
       "      <td>3.1</td>\n",
       "      <td>5.17</td>\n",
       "      <td>7.75</td>\n",
       "      <td>0.2</td>\n",
       "      <td>15.5</td>\n",
       "      <td>7.75</td>\n",
       "      <td>0.2</td>\n",
       "    </tr>\n",
       "    <tr>\n",
       "      <th>chrysler</th>\n",
       "      <td>2.82</td>\n",
       "      <td>1.94</td>\n",
       "      <td>4.43</td>\n",
       "      <td>6.2</td>\n",
       "      <td>5.17</td>\n",
       "      <td>15.5</td>\n",
       "      <td>5.17</td>\n",
       "      <td>7.75</td>\n",
       "      <td>15.5</td>\n",
       "      <td>15.5</td>\n",
       "    </tr>\n",
       "    <tr>\n",
       "      <th>volvo</th>\n",
       "      <td>2.82</td>\n",
       "      <td>3.88</td>\n",
       "      <td>4.43</td>\n",
       "      <td>6.2</td>\n",
       "      <td>0.2</td>\n",
       "      <td>15.5</td>\n",
       "      <td>10.33</td>\n",
       "      <td>0.2</td>\n",
       "      <td>15.5</td>\n",
       "      <td>31</td>\n",
       "    </tr>\n",
       "  </tbody>\n",
       "</table>\n",
       "</div>"
      ],
      "text/plain": [
       "           bmw infiniti  audi acura toyota mercedes cadillac buick chrysler  \\\n",
       "bmw       2.82     1.76  2.01  1.69   0.94     2.82     2.82  1.41     2.82   \n",
       "infiniti  1.76     3.88  1.66  1.55    0.2     1.94     2.58   0.2     1.94   \n",
       "audi      2.01     1.66  4.43  2.66   1.48     4.43     2.95  2.21     4.43   \n",
       "acura     1.69     1.55  2.66   6.2   2.07      6.2     2.07   3.1      6.2   \n",
       "toyota    0.94      0.2  1.48  2.07  10.33     5.17      0.2  5.17     5.17   \n",
       "mercedes  2.82     1.94  4.43   6.2   5.17     15.5     5.17  7.75     15.5   \n",
       "cadillac  2.82     2.58  2.95  2.07    0.2     5.17    10.33   0.2     5.17   \n",
       "buick     1.41      0.2  2.21   3.1   5.17     7.75      0.2  15.5     7.75   \n",
       "chrysler  2.82     1.94  4.43   6.2   5.17     15.5     5.17  7.75     15.5   \n",
       "volvo     2.82     3.88  4.43   6.2    0.2     15.5    10.33   0.2     15.5   \n",
       "\n",
       "          volvo  \n",
       "bmw        2.82  \n",
       "infiniti   3.88  \n",
       "audi       4.43  \n",
       "acura       6.2  \n",
       "toyota      0.2  \n",
       "mercedes   15.5  \n",
       "cadillac  10.33  \n",
       "buick       0.2  \n",
       "chrysler   15.5  \n",
       "volvo        31  "
      ]
     },
     "execution_count": 10,
     "metadata": {},
     "output_type": "execute_result"
    }
   ],
   "source": [
    "# make dataframe of lift values\n",
    "aset = list(top_10_brands)\n",
    "test_df = pd.DataFrame(columns=aset, index=aset)\n",
    "\n",
    "for brand1, series in list(test_df.iterrows()):\n",
    "    for brand2 in series.index:\n",
    "        test_df[brand2].loc[brand1] = calc_lift(brand1, brand2)\n",
    "\n",
    "test_df"
   ]
  },
  {
   "cell_type": "code",
   "execution_count": 11,
   "metadata": {},
   "outputs": [
    {
     "data": {
      "image/png": "[encoded data removed]",
      "text/plain": [
       "<matplotlib.figure.Figure at 0x14fa6a90>"
      ]
     },
     "metadata": {},
     "output_type": "display_data"
    }
   ],
   "source": [
    "#make dissimilarity matrix and plot\n",
    "dissimilarity = 1/test_df\n",
    "\n",
    "import csv\n",
    "import numpy as np\n",
    "import matplotlib.pyplot as plt\n",
    "from sklearn import manifold\n",
    "\n",
    "adist = np.array(dissimilarity)\n",
    "amax = np.amax(adist)\n",
    "adist /= amax\n",
    "\n",
    "mds = manifold.MDS(n_components=2, dissimilarity=\"precomputed\", random_state=6)\n",
    "results = mds.fit(adist)\n",
    "\n",
    "coords = results.embedding_\n",
    "\n",
    "plt.subplots_adjust(bottom = 0.1)\n",
    "plt.scatter(\n",
    "    coords[:, 0], coords[:, 1], marker = 'o'\n",
    "    )\n",
    "for label, x, y in zip(dissimilarity.columns.values, coords[:, 0], coords[:, 1]):\n",
    "    plt.annotate(\n",
    "        label,\n",
    "        xy = (x, y), xytext = (-20, 20),\n",
    "        textcoords = 'offset points', ha = 'left', va = 'bottom',\n",
    "        bbox = dict(boxstyle = 'round,pad=.3', fc = 'yellow', alpha = 0.5),\n",
    "        arrowprops = dict(arrowstyle = '->', connectionstyle = 'arc3,rad=0'))\n",
    "\n",
    "plt.show()"
   ]
  },
  {
   "cell_type": "markdown",
   "metadata": {},
   "source": [
    "# Task B\n",
    "Something"
   ]
  },
  {
   "cell_type": "markdown",
   "metadata": {},
   "source": [
    "# Task C"
   ]
  },
  {
   "cell_type": "code",
   "execution_count": 12,
   "metadata": {},
   "outputs": [
    {
     "data": {
      "text/plain": [
       "manual         4186\n",
       "drive          4186\n",
       "performance    3588\n",
       "g35            3588\n",
       "don            3289\n",
       "get            2990\n",
       "lexus          2691\n",
       "think          2392\n",
       "luxury         2392\n",
       "one            2392\n",
       "even           2392\n",
       "great          2093\n",
       "price          2093\n",
       "would          2093\n",
       "never          1794\n",
       "new            1794\n",
       "buy            1794\n",
       "handling       1794\n",
       "automatic      1794\n",
       "es300          1794\n",
       "Name: Word, dtype: int64"
      ]
     },
     "execution_count": 12,
     "metadata": {},
     "output_type": "execute_result"
    }
   ],
   "source": [
    "#find most frequent words which aren't brands, then inspect visually\n",
    "\n",
    "mask = pos_df['Word'].str.len()>2\n",
    "mask2 = ~pos_df['Word'].isin(brands)\n",
    "\n",
    "pos_df[mask&mask2]['Word'].value_counts()[:20]"
   ]
  },
  {
   "cell_type": "code",
   "execution_count": 13,
   "metadata": {
    "collapsed": true
   },
   "outputs": [],
   "source": [
    "top_5_attributes = ['manual', 'performance', 'luxury', 'price', 'handling']\n",
    "top_5_brands = pos_df[pos_df['Word'].isin(relevant_brands)]['Word'].value_counts()[:5].index"
   ]
  },
  {
   "cell_type": "code",
   "execution_count": 14,
   "metadata": {},
   "outputs": [
    {
     "data": {
      "text/html": [
       "<div>\n",
       "<style>\n",
       "    .dataframe thead tr:only-child th {\n",
       "        text-align: right;\n",
       "    }\n",
       "\n",
       "    .dataframe thead th {\n",
       "        text-align: left;\n",
       "    }\n",
       "\n",
       "    .dataframe tbody tr th {\n",
       "        vertical-align: top;\n",
       "    }\n",
       "</style>\n",
       "<table border=\"1\" class=\"dataframe\">\n",
       "  <thead>\n",
       "    <tr style=\"text-align: right;\">\n",
       "      <th></th>\n",
       "      <th>bmw</th>\n",
       "      <th>infiniti</th>\n",
       "      <th>audi</th>\n",
       "      <th>acura</th>\n",
       "      <th>toyota</th>\n",
       "    </tr>\n",
       "  </thead>\n",
       "  <tbody>\n",
       "    <tr>\n",
       "      <th>manual</th>\n",
       "      <td>1.41</td>\n",
       "      <td>1.11</td>\n",
       "      <td>0.63</td>\n",
       "      <td>0.44</td>\n",
       "      <td>0.2</td>\n",
       "    </tr>\n",
       "    <tr>\n",
       "      <th>performance</th>\n",
       "      <td>1.64</td>\n",
       "      <td>0.97</td>\n",
       "      <td>1.48</td>\n",
       "      <td>1.55</td>\n",
       "      <td>0.86</td>\n",
       "    </tr>\n",
       "    <tr>\n",
       "      <th>luxury</th>\n",
       "      <td>1.76</td>\n",
       "      <td>1.45</td>\n",
       "      <td>2.21</td>\n",
       "      <td>2.33</td>\n",
       "      <td>1.29</td>\n",
       "    </tr>\n",
       "    <tr>\n",
       "      <th>price</th>\n",
       "      <td>1.61</td>\n",
       "      <td>1.66</td>\n",
       "      <td>1.9</td>\n",
       "      <td>3.54</td>\n",
       "      <td>2.95</td>\n",
       "    </tr>\n",
       "    <tr>\n",
       "      <th>handling</th>\n",
       "      <td>2.25</td>\n",
       "      <td>1.55</td>\n",
       "      <td>3.54</td>\n",
       "      <td>3.72</td>\n",
       "      <td>2.07</td>\n",
       "    </tr>\n",
       "  </tbody>\n",
       "</table>\n",
       "</div>"
      ],
      "text/plain": [
       "              bmw infiniti  audi acura toyota\n",
       "manual       1.41     1.11  0.63  0.44    0.2\n",
       "performance  1.64     0.97  1.48  1.55   0.86\n",
       "luxury       1.76     1.45  2.21  2.33   1.29\n",
       "price        1.61     1.66   1.9  3.54   2.95\n",
       "handling     2.25     1.55  3.54  3.72   2.07"
      ]
     },
     "execution_count": 14,
     "metadata": {},
     "output_type": "execute_result"
    }
   ],
   "source": [
    "attribute_df = pd.DataFrame(columns=top_5_brands, index=top_5_attributes)\n",
    "\n",
    "for attribute, series in list(attribute_df.iterrows()):\n",
    "    for brand in series.index:\n",
    "        attribute_df[brand].loc[attribute] = calc_lift(brand, attribute)\n",
    "        \n",
    "attribute_df"
   ]
  },
  {
   "cell_type": "code",
   "execution_count": 15,
   "metadata": {},
   "outputs": [
    {
     "data": {
      "text/plain": [
       "bmw         handling\n",
       "infiniti       price\n",
       "audi        handling\n",
       "acura       handling\n",
       "toyota         price\n",
       "dtype: object"
      ]
     },
     "execution_count": 15,
     "metadata": {},
     "output_type": "execute_result"
    }
   ],
   "source": [
    "attribute_df.idxmax(axis=0)"
   ]
  },
  {
   "cell_type": "markdown",
   "metadata": {},
   "source": [
    "BMW is most associated with handling in the Edmunds messages, however they cannot claim to be the 'ultimate driving machine' as Audi's handling lift score is higher than BMW's, implying those on Edmunds.com are more likely to talk about Audi and handling than BMW and handling."
   ]
  }
 ],
 "metadata": {
  "kernelspec": {
   "display_name": "Python 2",
   "language": "python",
   "name": "python2"
  },
  "language_info": {
   "codemirror_mode": {
    "name": "ipython",
    "version": 2
   },
   "file_extension": ".py",
   "mimetype": "text/x-python",
   "name": "python",
   "nbconvert_exporter": "python",
   "pygments_lexer": "ipython2",
   "version": "2.7.13"
  }
 },
 "nbformat": 4,
 "nbformat_minor": 2
}
