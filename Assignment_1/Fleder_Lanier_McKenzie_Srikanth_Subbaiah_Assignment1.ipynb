{
 "cells": [
  {
   "cell_type": "markdown",
   "metadata": {},
   "source": [
    "# Text Analytics - Assignment 1 (Salary Prediction)\n",
    "\n",
    "## Nick Fleder, Bryan Lanier, Paige McKenzie, Aishwarya Srikanth, and Meyappan Subbaiah "
   ]
  },
  {
   "cell_type": "markdown",
   "metadata": {},
   "source": [
    "### Load Data"
   ]
  },
  {
   "cell_type": "code",
   "execution_count": 22,
   "metadata": {
    "ExecuteTime": {
     "end_time": "2017-09-11T17:30:30.899000Z",
     "start_time": "2017-09-11T17:30:25.147000Z"
    }
   },
   "outputs": [],
   "source": [
    "import pandas as pd\n",
    "data_raw = pd.read_csv(\"Train_rev1.csv\").sample(n=10000,random_state=1)\n",
    "# data_raw.head()"
   ]
  },
  {
   "cell_type": "code",
   "execution_count": 23,
   "metadata": {
    "ExecuteTime": {
     "end_time": "2017-09-11T17:30:30.926000Z",
     "start_time": "2017-09-11T17:30:30.903000Z"
    }
   },
   "outputs": [],
   "source": [
    "data_sel = data_raw[[\"FullDescription\",\"SalaryNormalized\"]]\n",
    "# data_sel.head()"
   ]
  },
  {
   "cell_type": "markdown",
   "metadata": {},
   "source": [
    "### A1. What are the top 5 parts of speech in this corpus of job descriptions? How frequently do they appear?"
   ]
  },
  {
   "cell_type": "markdown",
   "metadata": {},
   "source": [
    "The top five parts of speech are singular nouns, adjectives, prepositions, plural nouns, and determiners. The frequencies are displayed in the output."
   ]
  },
  {
   "cell_type": "code",
   "execution_count": 24,
   "metadata": {
    "ExecuteTime": {
     "end_time": "2017-09-11T17:30:30.945000Z",
     "start_time": "2017-09-11T17:30:30.932000Z"
    },
    "collapsed": true
   },
   "outputs": [],
   "source": [
    "# Define function to remove unnecessary characters from words\n",
    "\n",
    "from nltk import pos_tag, word_tokenize\n",
    "def remove_weird_char(string):\n",
    "    import re\n",
    "    string = string.lower()\n",
    "    words = string.split()\n",
    "    refined = []\n",
    "    for i in words:\n",
    "        refined.append(re.sub(\"[^\\w]+\", \" \", i))\n",
    "    sentence = ' '.join([word for word in refined])\n",
    "    return(sentence)"
   ]
  },
  {
   "cell_type": "code",
   "execution_count": 25,
   "metadata": {
    "ExecuteTime": {
     "end_time": "2017-09-11T17:30:30.960000Z",
     "start_time": "2017-09-11T17:30:30.949000Z"
    },
    "collapsed": true
   },
   "outputs": [],
   "source": [
    "# Define function to remove stopwords from given text\n",
    "\n",
    "from nltk.corpus import stopwords\n",
    "cachedStopWords = stopwords.words(\"english\")\n",
    "def rmStopWords(text):\n",
    "        text = ' '.join([word for word in text.split() if word not in cachedStopWords])\n",
    "        return(text)"
   ]
  },
  {
   "cell_type": "code",
   "execution_count": 26,
   "metadata": {
    "ExecuteTime": {
     "end_time": "2017-09-11T17:30:36.608000Z",
     "start_time": "2017-09-11T17:30:30.964000Z"
    }
   },
   "outputs": [],
   "source": [
    "# Remove unnecessary characters from job descriptions\n",
    "\n",
    "pd.options.mode.chained_assignment = None\n",
    "data_sel[\"FullDescription\"] = data_sel[\"FullDescription\"].apply(remove_weird_char)"
   ]
  },
  {
   "cell_type": "code",
   "execution_count": 27,
   "metadata": {
    "ExecuteTime": {
     "end_time": "2017-09-11T17:33:05.670000Z",
     "start_time": "2017-09-11T17:30:36.612000Z"
    }
   },
   "outputs": [
    {
     "data": {
      "text/plain": [
       "NN     642103\n",
       "JJ     285228\n",
       "IN     261208\n",
       "NNS    205464\n",
       "DT     202514\n",
       "Name: POS, dtype: int64"
      ]
     },
     "execution_count": 27,
     "metadata": {},
     "output_type": "execute_result"
    }
   ],
   "source": [
    "# Slice dataframe to get relevant column\n",
    "job_desc = data_sel['FullDescription'].str.cat(sep=\" \")\n",
    "\n",
    "# Tokenize, tag, and turn into a dataframe\n",
    "pos_df = pd.DataFrame(pos_tag(word_tokenize(job_desc)), columns = ['Word', 'POS'])\n",
    "pos_df['POS'].value_counts()[:5]"
   ]
  },
  {
   "cell_type": "markdown",
   "metadata": {},
   "source": [
    "### A2. Does this corpus support Zipf’s law? Plot the most common 100 words in the corpus against the theoretical prediction of the law. For this question, do not remove stopwords. Also do not perform stemming or lemmatization. "
   ]
  },
  {
   "cell_type": "markdown",
   "metadata": {},
   "source": [
    "Zipf's law states that given a large sample of words used, the frequency of any word is inversely proportional to its rank in the frequency table.\n",
    "\n",
    "From the plot obtained, we see that the corpus supports this law."
   ]
  },
  {
   "cell_type": "code",
   "execution_count": 28,
   "metadata": {
    "ExecuteTime": {
     "end_time": "2017-09-11T17:33:06.369000Z",
     "start_time": "2017-09-11T17:33:05.683000Z"
    }
   },
   "outputs": [
    {
     "data": {
      "image/png": "[encoded data removed]",
      "text/plain": [
       "<matplotlib.figure.Figure at 0x26352898>"
      ]
     },
     "metadata": {},
     "output_type": "display_data"
    }
   ],
   "source": [
    "# Create dataframe of words and their corresponding frequencies\n",
    "\n",
    "zipfs_df = pos_df[\"Word\"].value_counts()[:100].to_frame().reset_index()\n",
    "zipfs_df.columns = [\"word\",\"count\"]\n",
    "\n",
    "# Create column of predicted frequency by dividing max frequency by rank of each word\n",
    "zipfs_df[\"predicted_values\"] = max(zipfs_df[\"count\"])/(zipfs_df.index+1)\n",
    "\n",
    "# Plot rank against word frequency\n",
    "import matplotlib.pyplot as plt\n",
    "%matplotlib inline\n",
    "\n",
    "fig = zipfs_df[\"count\"].plot(color=\"blue\",label=\"Actual Count\")\n",
    "fig = zipfs_df[\"predicted_values\"].plot(color=\"red\",label=\"Zipfs Prediction\")\n",
    "plt.xlabel(\"Rank\")\n",
    "plt.ylabel(\"Count\")\n",
    "fig.legend()\n",
    "plt.show()"
   ]
  },
  {
   "cell_type": "markdown",
   "metadata": {},
   "source": [
    "### A3. If we remove stopwords and lemmatize the corpus, what are the 10 most common words? What are their frequencies?"
   ]
  },
  {
   "cell_type": "code",
   "execution_count": 29,
   "metadata": {
    "ExecuteTime": {
     "end_time": "2017-09-11T17:33:54.574000Z",
     "start_time": "2017-09-11T17:33:06.643000Z"
    },
    "collapsed": true
   },
   "outputs": [],
   "source": [
    "# Remove stopwords from job description\n",
    "job_desc_clean = rmStopWords(job_desc)"
   ]
  },
  {
   "cell_type": "code",
   "execution_count": 30,
   "metadata": {
    "ExecuteTime": {
     "end_time": "2017-09-11T17:33:54.600000Z",
     "start_time": "2017-09-11T17:33:54.577000Z"
    },
    "collapsed": true
   },
   "outputs": [],
   "source": [
    "# Define functions to return correct abbreviations of parts of speech\n",
    "\n",
    "from nltk.corpus import wordnet as wn\n",
    "\n",
    "def is_noun(tag):\n",
    "    return tag in ['NN', 'NNS', 'NNP', 'NNPS']\n",
    "\n",
    "\n",
    "def is_verb(tag):\n",
    "    return tag in ['VB', 'VBD', 'VBG', 'VBN', 'VBP', 'VBZ']\n",
    "\n",
    "\n",
    "def is_adverb(tag):\n",
    "    return tag in ['RB', 'RBR', 'RBS']\n",
    "\n",
    "\n",
    "def is_adjective(tag):\n",
    "    return tag in ['JJ', 'JJR', 'JJS']\n",
    "\n",
    "\n",
    "def penn_to_wn(tag):\n",
    "    if is_adjective(tag):\n",
    "        return wn.ADJ\n",
    "    elif is_noun(tag):\n",
    "        return wn.NOUN\n",
    "    elif is_adverb(tag):\n",
    "        return wn.ADV\n",
    "    elif is_verb(tag):\n",
    "        return wn.VERB\n",
    "    return None"
   ]
  },
  {
   "cell_type": "code",
   "execution_count": 31,
   "metadata": {
    "ExecuteTime": {
     "end_time": "2017-09-11T17:36:10.862000Z",
     "start_time": "2017-09-11T17:33:54.605000Z"
    },
    "collapsed": true
   },
   "outputs": [],
   "source": [
    "# Add 'wn' column with abbreviation for the part of speech\n",
    "\n",
    "from nltk.stem import WordNetLemmatizer\n",
    "\n",
    "job_desc_lem_df = pd.DataFrame(pos_tag(word_tokenize(job_desc_clean)), columns = ['Word', 'POS'])\n",
    "job_desc_lem_df[\"wn\"] = job_desc_lem_df[\"POS\"].apply(penn_to_wn)"
   ]
  },
  {
   "cell_type": "code",
   "execution_count": 32,
   "metadata": {
    "ExecuteTime": {
     "end_time": "2017-09-11T17:37:45.108000Z",
     "start_time": "2017-09-11T17:36:10.866000Z"
    },
    "collapsed": true
   },
   "outputs": [],
   "source": [
    "# Define function for lemmatization and apply to dataframe\n",
    "\n",
    "def lem(row):\n",
    "    lemma = WordNetLemmatizer()\n",
    "    if(row[2] == None):\n",
    "        return(lemma.lemmatize(row[0]))\n",
    "    return(lemma.lemmatize(row[0],row[2]))\n",
    "\n",
    "job_desc_lem_df[\"lem_word\"] = job_desc_lem_df.apply(lem,axis=1)"
   ]
  },
  {
   "cell_type": "code",
   "execution_count": 33,
   "metadata": {
    "ExecuteTime": {
     "end_time": "2017-09-11T17:37:45.655000Z",
     "start_time": "2017-09-11T17:37:45.111000Z"
    }
   },
   "outputs": [
    {
     "data": {
      "text/plain": [
       "work          21109\n",
       "experience    19437\n",
       "role          12467\n",
       "team          12360\n",
       "client        11344\n",
       "business      10836\n",
       "service       10080\n",
       "skill          9446\n",
       "manager        8698\n",
       "within         8627\n",
       "Name: lem_word, dtype: int64"
      ]
     },
     "execution_count": 33,
     "metadata": {},
     "output_type": "execute_result"
    }
   ],
   "source": [
    "# Generate 10 mosst common words and their frequencies\n",
    "\n",
    "job_desc_lem_df[\"lem_word\"].value_counts()[:10]"
   ]
  },
  {
   "cell_type": "markdown",
   "metadata": {},
   "source": [
    "### B1. Create a classification model with all words and the bag-of-words approach. How accurate is the model (show the confusion matrix)? "
   ]
  },
  {
   "cell_type": "markdown",
   "metadata": {},
   "source": [
    "The classification model is 79.85% accurate"
   ]
  },
  {
   "cell_type": "code",
   "execution_count": 34,
   "metadata": {
    "ExecuteTime": {
     "end_time": "2017-09-11T17:37:45.960000Z",
     "start_time": "2017-09-11T17:37:45.660000Z"
    }
   },
   "outputs": [],
   "source": [
    "# Create target variable with 'high' and 'low' labels\n",
    "\n",
    "import numpy as np\n",
    "\n",
    "data_sel['target'] = np.where(data_sel['SalaryNormalized']>=data_sel[\"SalaryNormalized\"].quantile(0.75), 'high', 'low')\n",
    "# data_sel.head()"
   ]
  },
  {
   "cell_type": "code",
   "execution_count": 35,
   "metadata": {
    "ExecuteTime": {
     "end_time": "2017-09-11T17:37:48.816000Z",
     "start_time": "2017-09-11T17:37:45.965000Z"
    },
    "collapsed": true
   },
   "outputs": [],
   "source": [
    "# Create Naive Bayes Multinomiak Classifier\n",
    "\n",
    "from sklearn.naive_bayes import MultinomialNB\n",
    "from sklearn.feature_extraction.text import CountVectorizer\n",
    "from sklearn import metrics\n",
    "from operator import itemgetter\n",
    "from sklearn.metrics import classification_report\n",
    "\n",
    "vectorizer = CountVectorizer()\n",
    "\n",
    "trainset_size = int(round(len(data_sel)*0.80))\n",
    "X_train = data_sel[\"FullDescription\"].iloc[1:trainset_size,]\n",
    "y_train = data_sel[\"target\"].iloc[1:trainset_size,]\n",
    "\n",
    "X_test = data_sel[\"FullDescription\"].iloc[trainset_size:,]\n",
    "y_test = data_sel[\"target\"].iloc[trainset_size:,]\n",
    "\n",
    "X_train = vectorizer.fit_transform(X_train)\n",
    "X_test = vectorizer.transform(X_test)\n",
    "\n",
    "nb_classifier = MultinomialNB().fit(X_train, y_train)\n",
    "\n",
    "y_nb_predicted = nb_classifier.predict(X_test)"
   ]
  },
  {
   "cell_type": "code",
   "execution_count": 36,
   "metadata": {
    "ExecuteTime": {
     "end_time": "2017-09-11T17:37:48.910000Z",
     "start_time": "2017-09-11T17:37:48.887000Z"
    }
   },
   "outputs": [
    {
     "name": "stdout",
     "output_type": "stream",
     "text": [
      "The accuracy for this classifier is 0.7985\n"
     ]
    },
    {
     "data": {
      "text/plain": [
       "array([[ 361,  146],\n",
       "       [ 257, 1236]])"
      ]
     },
     "execution_count": 36,
     "metadata": {},
     "output_type": "execute_result"
    }
   ],
   "source": [
    "# Generate confusion matrix\n",
    "\n",
    "print('The accuracy for this classifier is ' + str(metrics.accuracy_score(y_test, y_nb_predicted)))\n",
    "metrics.confusion_matrix(y_test, y_nb_predicted)"
   ]
  },
  {
   "cell_type": "markdown",
   "metadata": {},
   "source": [
    "### B2. Speculate before running the following analysis whether lemmatization would help improve the accuracy of classification. Now create a classification model after lemmatization. Did the classification accuracy increase relative to B1? Comment on your speculation versus the actual results you obtained. \n"
   ]
  },
  {
   "cell_type": "markdown",
   "metadata": {},
   "source": [
    "#### Speculation:\n",
    "Higher paying jobs would have more complex words in the job description. Since these would be lemmatized to simple words, it is likely that the classification model will not be able to capture the words that are deterministic of a high paying job. Hence, lemmatization may not improve the accuracy of the classification. \n",
    "\n",
    "#### Results:\n",
    "The accuracy decreased from 79.85% to 79.6%. This could be due to the reasons we speculated."
   ]
  },
  {
   "cell_type": "code",
   "execution_count": 37,
   "metadata": {
    "ExecuteTime": {
     "end_time": "2017-09-11T17:37:48.923000Z",
     "start_time": "2017-09-11T17:37:48.915000Z"
    },
    "collapsed": true
   },
   "outputs": [],
   "source": [
    "# Define lemmatization function\n",
    "\n",
    "def sent_lem(sentence):\n",
    "    lemma = WordNetLemmatizer()\n",
    "    lem_words = [lemma.lemmatize(i,j[0].lower()) if j[0].lower() in ['a','n','v'] else lemma.lemmatize(i) for i,j in pos_tag(word_tokenize(sentence))]\n",
    "    return(' '.join(lem_words))"
   ]
  },
  {
   "cell_type": "code",
   "execution_count": 38,
   "metadata": {
    "ExecuteTime": {
     "end_time": "2017-09-11T17:40:53.955000Z",
     "start_time": "2017-09-11T17:37:48.928000Z"
    }
   },
   "outputs": [],
   "source": [
    "# Lemmatize job descriptions\n",
    "\n",
    "data_sel[\"lem_desc\"] = data_sel[\"FullDescription\"].apply(sent_lem)"
   ]
  },
  {
   "cell_type": "code",
   "execution_count": 39,
   "metadata": {
    "ExecuteTime": {
     "end_time": "2017-09-11T17:40:56.988000Z",
     "start_time": "2017-09-11T17:40:53.961000Z"
    },
    "collapsed": true
   },
   "outputs": [],
   "source": [
    "# Implement Multinomial classifier\n",
    "\n",
    "vectorizer = CountVectorizer()\n",
    "\n",
    "trainset_size = int(round(len(data_sel)*0.80))\n",
    "X_train = data_sel[\"lem_desc\"].iloc[1:trainset_size,]\n",
    "y_train = data_sel[\"target\"].iloc[1:trainset_size,]\n",
    "\n",
    "X_test = data_sel[\"lem_desc\"].iloc[trainset_size:,]\n",
    "y_test = data_sel[\"target\"].iloc[trainset_size:,]\n",
    "\n",
    "X_train = vectorizer.fit_transform(X_train)\n",
    "X_test = vectorizer.transform(X_test)\n",
    "\n",
    "nb_classifier = MultinomialNB().fit(X_train, y_train)\n",
    "\n",
    "y_nb_predicted = nb_classifier.predict(X_test)"
   ]
  },
  {
   "cell_type": "code",
   "execution_count": 40,
   "metadata": {
    "ExecuteTime": {
     "end_time": "2017-09-11T17:40:57.080000Z",
     "start_time": "2017-09-11T17:40:57.054000Z"
    }
   },
   "outputs": [
    {
     "name": "stdout",
     "output_type": "stream",
     "text": [
      "The accuracy for this classifier is 0.796\n"
     ]
    },
    {
     "data": {
      "text/plain": [
       "array([[ 359,  148],\n",
       "       [ 260, 1233]])"
      ]
     },
     "execution_count": 40,
     "metadata": {},
     "output_type": "execute_result"
    }
   ],
   "source": [
    "# Generate confusion matrix\n",
    "\n",
    "print('The accuracy for this classifier is ' + str(metrics.accuracy_score(y_test, y_nb_predicted)))\n",
    "metrics.confusion_matrix(y_test, y_nb_predicted)"
   ]
  },
  {
   "cell_type": "markdown",
   "metadata": {},
   "source": [
    "### B3. Now speculate whether stopwords removal from the original data would help increase the accuracy of the model. Take out the stopwords (but do not lemmatize), build a classification model and check the accuracy, and compare with that in B1 & B2.   \n"
   ]
  },
  {
   "cell_type": "markdown",
   "metadata": {},
   "source": [
    "#### Speculation:\n",
    "Removal of stopwords will increase the accuracy of the model, since the words pertinent to job descriptions will gain more importance and the classification will be more relevant to the features that actually describe high or low paying jobs.\n",
    "\n",
    "#### Results:\n",
    "Contrary to what we expected, classification accuracy decreased from 79.85% to 79.65% by removing stopwords. This may be due to the fact that removing an entire list of stopwords reduces the utility fed into training the model, it may be better to remove a portion of the stopwords."
   ]
  },
  {
   "cell_type": "code",
   "execution_count": 41,
   "metadata": {
    "ExecuteTime": {
     "end_time": "2017-09-11T17:41:48.040000Z",
     "start_time": "2017-09-11T17:40:57.084000Z"
    }
   },
   "outputs": [],
   "source": [
    "# Remove stopwords from job descriptions\n",
    "\n",
    "data_sel[\"noSW_desc\"] = data_sel[\"FullDescription\"].apply(rmStopWords)"
   ]
  },
  {
   "cell_type": "code",
   "execution_count": 42,
   "metadata": {
    "ExecuteTime": {
     "end_time": "2017-09-11T17:41:50.196000Z",
     "start_time": "2017-09-11T17:41:48.045000Z"
    },
    "collapsed": true
   },
   "outputs": [],
   "source": [
    "# Implement Multinomial Classifier\n",
    "\n",
    "vectorizer = CountVectorizer()\n",
    "\n",
    "trainset_size = int(round(len(data_sel)*0.80))\n",
    "X_train = data_sel[\"noSW_desc\"].iloc[1:trainset_size,]\n",
    "y_train = data_sel[\"target\"].iloc[1:trainset_size,]\n",
    "\n",
    "X_test = data_sel[\"noSW_desc\"].iloc[trainset_size:,]\n",
    "y_test = data_sel[\"target\"].iloc[trainset_size:,]\n",
    "\n",
    "X_train = vectorizer.fit_transform(X_train)\n",
    "X_test = vectorizer.transform(X_test)\n",
    "\n",
    "nb_classifier = MultinomialNB().fit(X_train, y_train)\n",
    "\n",
    "y_nb_predicted = nb_classifier.predict(X_test)"
   ]
  },
  {
   "cell_type": "code",
   "execution_count": 43,
   "metadata": {
    "ExecuteTime": {
     "end_time": "2017-09-11T17:41:50.277000Z",
     "start_time": "2017-09-11T17:41:50.201000Z"
    }
   },
   "outputs": [
    {
     "name": "stdout",
     "output_type": "stream",
     "text": [
      "The accuracy for this classifier is 0.7965\n"
     ]
    },
    {
     "data": {
      "text/plain": [
       "array([[ 373,  134],\n",
       "       [ 273, 1220]])"
      ]
     },
     "execution_count": 43,
     "metadata": {},
     "output_type": "execute_result"
    }
   ],
   "source": [
    "# Generate confusion matrix\n",
    "\n",
    "print('The accuracy for this classifier is ' + str(metrics.accuracy_score(y_test, y_nb_predicted)))\n",
    "metrics.confusion_matrix(y_test, y_nb_predicted)"
   ]
  },
  {
   "cell_type": "markdown",
   "metadata": {},
   "source": [
    "### Show the top 10 words (excluding stopwords) that are most indicative of (i) high salary, and (ii) low salary. "
   ]
  },
  {
   "cell_type": "code",
   "execution_count": 50,
   "metadata": {
    "ExecuteTime": {
     "end_time": "2017-09-11T17:41:50.973000Z",
     "start_time": "2017-09-11T17:41:50.282000Z"
    }
   },
   "outputs": [
    {
     "name": "stdout",
     "output_type": "stream",
     "text": [
      "\n",
      "The top 10 most informative features for high salary: \n",
      "manager client within skills work management team role business experience\n"
     ]
    }
   ],
   "source": [
    "# Get top 10 words that are most indicative of high salary\n",
    "\n",
    "data_hi = data_sel.loc[data_sel[\"target\"] == 'high']\n",
    "data_low = data_sel.loc[data_sel['target'] == 'low']\n",
    "\n",
    "vectorizer = CountVectorizer()\n",
    "\n",
    "trainset_size = int(round(len(data_hi)*0.80))\n",
    "X_train = data_hi[\"noSW_desc\"].iloc[1:trainset_size,]\n",
    "y_train = data_hi[\"target\"].iloc[1:trainset_size,]\n",
    "\n",
    "X_test = data_hi[\"noSW_desc\"].iloc[trainset_size:,]\n",
    "y_test = data_hi[\"target\"].iloc[trainset_size:,]\n",
    "\n",
    "X_train = vectorizer.fit_transform(X_train)\n",
    "X_test = vectorizer.transform(X_test)\n",
    "nb_classifier = MultinomialNB().fit(X_train, y_train)\n",
    "\n",
    "N = 10\n",
    "vocabulary = np.array([t for t, i in sorted(vectorizer.vocabulary_.iteritems(), key=itemgetter(1))])\n",
    "topN = np.argsort(nb_classifier.coef_[0])[-N:]\n",
    "print(\"\\nThe top %d most informative features for high salary: \\n%s\" % (N, \" \".join(vocabulary[topN])))"
   ]
  },
  {
   "cell_type": "code",
   "execution_count": 51,
   "metadata": {
    "ExecuteTime": {
     "end_time": "2017-09-11T17:41:52.718000Z",
     "start_time": "2017-09-11T17:41:51.036000Z"
    }
   },
   "outputs": [
    {
     "name": "stdout",
     "output_type": "stream",
     "text": [
      "\n",
      "The top 10 most informative features for low salary: \n",
      "client within business working sales skills team role work experience\n"
     ]
    }
   ],
   "source": [
    "# Get top 10 words descriptive of low salary\n",
    "\n",
    "vectorizer = CountVectorizer()\n",
    "\n",
    "trainset_size = int(round(len(data_low)*0.80))\n",
    "X_train = data_low[\"noSW_desc\"].iloc[1:trainset_size,]\n",
    "y_train = data_low[\"target\"].iloc[1:trainset_size,]\n",
    "\n",
    "X_test = data_low[\"noSW_desc\"].iloc[trainset_size:,]\n",
    "y_test = data_low[\"target\"].iloc[trainset_size:,]\n",
    "\n",
    "X_train = vectorizer.fit_transform(X_train)\n",
    "X_test = vectorizer.transform(X_test)\n",
    "nb_classifier = MultinomialNB().fit(X_train, y_train)\n",
    "\n",
    "vocabulary = np.array([t for t, i in sorted(vectorizer.vocabulary_.iteritems(), key=itemgetter(1))])\n",
    "topN = np.argsort(nb_classifier.coef_[0])[-N:]\n",
    "print(\"\\nThe top %d most informative features for low salary: \\n%s\" % (N, \" \".join(vocabulary[topN])))"
   ]
  },
  {
   "cell_type": "markdown",
   "metadata": {},
   "source": [
    "### B4.  Use the job descriptions without lemmatiztion and stopword removal. Add parts-of-speech bigrams to the bag-of-words, and run a new classification model. Does the accuracy increase over the results in B1?  "
   ]
  },
  {
   "cell_type": "markdown",
   "metadata": {},
   "source": [
    "Adding parts-of-speech bigrams increases the accuracy of the classification model from 79.85% to 82.4%. This is expected as bigrams can capture sentiments more accurately than individual words."
   ]
  },
  {
   "cell_type": "code",
   "execution_count": 52,
   "metadata": {
    "ExecuteTime": {
     "end_time": "2017-09-11T17:41:52.844000Z",
     "start_time": "2017-09-11T17:41:52.807000Z"
    },
    "collapsed": true
   },
   "outputs": [],
   "source": [
    "bigram_vectorizer = CountVectorizer(ngram_range=(1, 2),\n",
    "                                     token_pattern=r'\\b\\w+\\b', min_df=1)"
   ]
  },
  {
   "cell_type": "code",
   "execution_count": 53,
   "metadata": {
    "ExecuteTime": {
     "end_time": "2017-09-11T17:42:04.951000Z",
     "start_time": "2017-09-11T17:41:52.852000Z"
    },
    "collapsed": true
   },
   "outputs": [],
   "source": [
    "trainset_size = int(round(len(data_sel)*0.80))\n",
    "X = bigram_vectorizer.fit_transform(data_sel[\"FullDescription\"])\n",
    "\n",
    "X_train = X[1:trainset_size,]\n",
    "y_train = data_sel[\"target\"].iloc[1:trainset_size,]\n",
    "\n",
    "X_test = X[trainset_size:,]\n",
    "y_test = data_sel[\"target\"].iloc[trainset_size:,]"
   ]
  },
  {
   "cell_type": "code",
   "execution_count": 54,
   "metadata": {
    "ExecuteTime": {
     "end_time": "2017-09-11T17:42:05.131000Z",
     "start_time": "2017-09-11T17:42:04.954000Z"
    }
   },
   "outputs": [
    {
     "name": "stdout",
     "output_type": "stream",
     "text": [
      "The accuracy for this classifier is 0.824\n"
     ]
    },
    {
     "data": {
      "text/plain": [
       "array([[ 278,  229],\n",
       "       [ 123, 1370]])"
      ]
     },
     "execution_count": 54,
     "metadata": {},
     "output_type": "execute_result"
    }
   ],
   "source": [
    "nb_classifier = MultinomialNB().fit(X_train, y_train)\n",
    "\n",
    "y_nb_predicted = nb_classifier.predict(X_test)\n",
    "print('The accuracy for this classifier is ' + str(metrics.accuracy_score(y_test, y_nb_predicted)))\n",
    "metrics.confusion_matrix(y_test, y_nb_predicted)"
   ]
  }
 ],
 "metadata": {
  "kernelspec": {
   "display_name": "Python 2",
   "language": "python",
   "name": "python2"
  },
  "language_info": {
   "codemirror_mode": {
    "name": "ipython",
    "version": 2
   },
   "file_extension": ".py",
   "mimetype": "text/x-python",
   "name": "python",
   "nbconvert_exporter": "python",
   "pygments_lexer": "ipython2",
   "version": "2.7.13"
  },
  "latex_envs": {
   "LaTeX_envs_menu_present": true,
   "autocomplete": true,
   "bibliofile": "biblio.bib",
   "cite_by": "apalike",
   "current_citInitial": 1,
   "eqLabelWithNumbers": true,
   "eqNumInitial": 1,
   "hotkeys": {
    "equation": "Ctrl-E",
    "itemize": "Ctrl-I"
   },
   "labels_anchors": false,
   "latex_user_defs": false,
   "report_style_numbering": false,
   "user_envs_cfg": false
  },
  "varInspector": {
   "cols": {
    "lenName": 16,
    "lenType": 16,
    "lenVar": 40
   },
   "kernels_config": {
    "python": {
     "delete_cmd_postfix": "",
     "delete_cmd_prefix": "del ",
     "library": "var_list.py",
     "varRefreshCmd": "print(var_dic_list())"
    },
    "r": {
     "delete_cmd_postfix": ") ",
     "delete_cmd_prefix": "rm(",
     "library": "var_list.r",
     "varRefreshCmd": "cat(var_dic_list()) "
    }
   },
   "types_to_exclude": [
    "module",
    "function",
    "builtin_function_or_method",
    "instance",
    "_Feature"
   ],
   "window_display": false
  }
 },
 "nbformat": 4,
 "nbformat_minor": 2
}
