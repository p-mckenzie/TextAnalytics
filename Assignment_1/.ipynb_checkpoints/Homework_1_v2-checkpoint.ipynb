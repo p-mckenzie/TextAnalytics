{
 "cells": [
  {
   "cell_type": "markdown",
   "metadata": {},
   "source": [
    "# Text Analytics - Assignment 1 (Salary Prediction)\n",
    "\n",
    "## Nick Fleder, Bryan Lanier, Paige McKenzie, Aishwarya Srikanth, and Meyappan Subbaiah "
   ]
  },
  {
   "cell_type": "markdown",
   "metadata": {},
   "source": [
    "### Load Data"
   ]
  },
  {
   "cell_type": "code",
   "execution_count": 77,
   "metadata": {
    "ExecuteTime": {
     "end_time": "2017-09-11T17:30:30.899000Z",
     "start_time": "2017-09-11T17:30:25.147000Z"
    }
   },
   "outputs": [
    {
     "data": {
      "text/html": [
       "<div>\n",
       "<style>\n",
       "    .dataframe thead tr:only-child th {\n",
       "        text-align: right;\n",
       "    }\n",
       "\n",
       "    .dataframe thead th {\n",
       "        text-align: left;\n",
       "    }\n",
       "\n",
       "    .dataframe tbody tr th {\n",
       "        vertical-align: top;\n",
       "    }\n",
       "</style>\n",
       "<table border=\"1\" class=\"dataframe\">\n",
       "  <thead>\n",
       "    <tr style=\"text-align: right;\">\n",
       "      <th></th>\n",
       "      <th>Id</th>\n",
       "      <th>Title</th>\n",
       "      <th>FullDescription</th>\n",
       "      <th>LocationRaw</th>\n",
       "      <th>LocationNormalized</th>\n",
       "      <th>ContractType</th>\n",
       "      <th>ContractTime</th>\n",
       "      <th>Company</th>\n",
       "      <th>Category</th>\n",
       "      <th>SalaryRaw</th>\n",
       "      <th>SalaryNormalized</th>\n",
       "      <th>SourceName</th>\n",
       "    </tr>\n",
       "  </thead>\n",
       "  <tbody>\n",
       "    <tr>\n",
       "      <th>179687</th>\n",
       "      <td>71565145</td>\n",
       "      <td>SAS Administrator  London  ****K</td>\n",
       "      <td>SAS Administrator  London  ****k My client, ar...</td>\n",
       "      <td>City London South East</td>\n",
       "      <td>London</td>\n",
       "      <td>NaN</td>\n",
       "      <td>permanent</td>\n",
       "      <td>Annapurna</td>\n",
       "      <td>IT Jobs</td>\n",
       "      <td>45000 - 55000 per annum + benefits</td>\n",
       "      <td>50000</td>\n",
       "      <td>cwjobs.co.uk</td>\n",
       "    </tr>\n",
       "    <tr>\n",
       "      <th>18497</th>\n",
       "      <td>67016578</td>\n",
       "      <td>Retail Director</td>\n",
       "      <td>Job Title: Retail Director Location: Midlands ...</td>\n",
       "      <td>South East</td>\n",
       "      <td>South East London</td>\n",
       "      <td>NaN</td>\n",
       "      <td>NaN</td>\n",
       "      <td>COREcruitment International</td>\n",
       "      <td>Hospitality &amp; Catering Jobs</td>\n",
       "      <td>85000-110000 Per Annum 85,000 to 110,000 plus ...</td>\n",
       "      <td>97500</td>\n",
       "      <td>caterer.com</td>\n",
       "    </tr>\n",
       "    <tr>\n",
       "      <th>86382</th>\n",
       "      <td>69090255</td>\n",
       "      <td>Private Client Solcitor</td>\n",
       "      <td>Private Client Solicitor  2 years PQE  East Gr...</td>\n",
       "      <td>Tonbridge</td>\n",
       "      <td>Tonbridge</td>\n",
       "      <td>NaN</td>\n",
       "      <td>permanent</td>\n",
       "      <td>Select Appointments</td>\n",
       "      <td>Legal Jobs</td>\n",
       "      <td>40K</td>\n",
       "      <td>40000</td>\n",
       "      <td>legalprospects.com</td>\n",
       "    </tr>\n",
       "    <tr>\n",
       "      <th>12805</th>\n",
       "      <td>66576936</td>\n",
       "      <td>Territory Development Manager</td>\n",
       "      <td>****mh**** Devon &amp; Cornwall Excellent opportun...</td>\n",
       "      <td>Devon, South West</td>\n",
       "      <td>Devon</td>\n",
       "      <td>NaN</td>\n",
       "      <td>permanent</td>\n",
       "      <td>NaN</td>\n",
       "      <td>Retail Jobs</td>\n",
       "      <td>22000 per annum + Car Allowance, Mobile, Laptop</td>\n",
       "      <td>22000</td>\n",
       "      <td>jobs.telegraph.co.uk</td>\n",
       "    </tr>\n",
       "    <tr>\n",
       "      <th>203497</th>\n",
       "      <td>71941287</td>\n",
       "      <td>White Goods/Domestic Appliance Engineer</td>\n",
       "      <td>Position: White Goods/Domestic Appliance Engin...</td>\n",
       "      <td>Shrewsbury Shropshire West Midlands</td>\n",
       "      <td>Shrewsbury</td>\n",
       "      <td>NaN</td>\n",
       "      <td>permanent</td>\n",
       "      <td>NaN</td>\n",
       "      <td>IT Jobs</td>\n",
       "      <td>24000</td>\n",
       "      <td>24000</td>\n",
       "      <td>technojobs.co.uk</td>\n",
       "    </tr>\n",
       "  </tbody>\n",
       "</table>\n",
       "</div>"
      ],
      "text/plain": [
       "              Id                                    Title  \\\n",
       "179687  71565145         SAS Administrator  London  ****K   \n",
       "18497   67016578                          Retail Director   \n",
       "86382   69090255                  Private Client Solcitor   \n",
       "12805   66576936            Territory Development Manager   \n",
       "203497  71941287  White Goods/Domestic Appliance Engineer   \n",
       "\n",
       "                                          FullDescription  \\\n",
       "179687  SAS Administrator  London  ****k My client, ar...   \n",
       "18497   Job Title: Retail Director Location: Midlands ...   \n",
       "86382   Private Client Solicitor  2 years PQE  East Gr...   \n",
       "12805   ****mh**** Devon & Cornwall Excellent opportun...   \n",
       "203497  Position: White Goods/Domestic Appliance Engin...   \n",
       "\n",
       "                                LocationRaw LocationNormalized ContractType  \\\n",
       "179687               City London South East             London          NaN   \n",
       "18497                            South East  South East London          NaN   \n",
       "86382                             Tonbridge          Tonbridge          NaN   \n",
       "12805                     Devon, South West              Devon          NaN   \n",
       "203497  Shrewsbury Shropshire West Midlands         Shrewsbury          NaN   \n",
       "\n",
       "       ContractTime                      Company                     Category  \\\n",
       "179687    permanent                    Annapurna                      IT Jobs   \n",
       "18497           NaN  COREcruitment International  Hospitality & Catering Jobs   \n",
       "86382     permanent         Select Appointments                    Legal Jobs   \n",
       "12805     permanent                          NaN                  Retail Jobs   \n",
       "203497    permanent                          NaN                      IT Jobs   \n",
       "\n",
       "                                                SalaryRaw  SalaryNormalized  \\\n",
       "179687                 45000 - 55000 per annum + benefits             50000   \n",
       "18497   85000-110000 Per Annum 85,000 to 110,000 plus ...             97500   \n",
       "86382                                                 40K             40000   \n",
       "12805     22000 per annum + Car Allowance, Mobile, Laptop             22000   \n",
       "203497                                              24000             24000   \n",
       "\n",
       "                  SourceName  \n",
       "179687          cwjobs.co.uk  \n",
       "18497            caterer.com  \n",
       "86382     legalprospects.com  \n",
       "12805   jobs.telegraph.co.uk  \n",
       "203497      technojobs.co.uk  "
      ]
     },
     "execution_count": 77,
     "metadata": {},
     "output_type": "execute_result"
    }
   ],
   "source": [
    "import pandas as pd\n",
    "data_raw = pd.read_csv(\"Train_rev1.csv\").sample(n=10000,random_state=1)\n",
    "data_raw.head()"
   ]
  },
  {
   "cell_type": "code",
   "execution_count": 78,
   "metadata": {
    "ExecuteTime": {
     "end_time": "2017-09-11T17:30:30.926000Z",
     "start_time": "2017-09-11T17:30:30.903000Z"
    }
   },
   "outputs": [
    {
     "data": {
      "text/html": [
       "<div>\n",
       "<style>\n",
       "    .dataframe thead tr:only-child th {\n",
       "        text-align: right;\n",
       "    }\n",
       "\n",
       "    .dataframe thead th {\n",
       "        text-align: left;\n",
       "    }\n",
       "\n",
       "    .dataframe tbody tr th {\n",
       "        vertical-align: top;\n",
       "    }\n",
       "</style>\n",
       "<table border=\"1\" class=\"dataframe\">\n",
       "  <thead>\n",
       "    <tr style=\"text-align: right;\">\n",
       "      <th></th>\n",
       "      <th>FullDescription</th>\n",
       "      <th>SalaryNormalized</th>\n",
       "    </tr>\n",
       "  </thead>\n",
       "  <tbody>\n",
       "    <tr>\n",
       "      <th>179687</th>\n",
       "      <td>SAS Administrator  London  ****k My client, ar...</td>\n",
       "      <td>50000</td>\n",
       "    </tr>\n",
       "    <tr>\n",
       "      <th>18497</th>\n",
       "      <td>Job Title: Retail Director Location: Midlands ...</td>\n",
       "      <td>97500</td>\n",
       "    </tr>\n",
       "    <tr>\n",
       "      <th>86382</th>\n",
       "      <td>Private Client Solicitor  2 years PQE  East Gr...</td>\n",
       "      <td>40000</td>\n",
       "    </tr>\n",
       "    <tr>\n",
       "      <th>12805</th>\n",
       "      <td>****mh**** Devon &amp; Cornwall Excellent opportun...</td>\n",
       "      <td>22000</td>\n",
       "    </tr>\n",
       "    <tr>\n",
       "      <th>203497</th>\n",
       "      <td>Position: White Goods/Domestic Appliance Engin...</td>\n",
       "      <td>24000</td>\n",
       "    </tr>\n",
       "  </tbody>\n",
       "</table>\n",
       "</div>"
      ],
      "text/plain": [
       "                                          FullDescription  SalaryNormalized\n",
       "179687  SAS Administrator  London  ****k My client, ar...             50000\n",
       "18497   Job Title: Retail Director Location: Midlands ...             97500\n",
       "86382   Private Client Solicitor  2 years PQE  East Gr...             40000\n",
       "12805   ****mh**** Devon & Cornwall Excellent opportun...             22000\n",
       "203497  Position: White Goods/Domestic Appliance Engin...             24000"
      ]
     },
     "execution_count": 78,
     "metadata": {},
     "output_type": "execute_result"
    }
   ],
   "source": [
    "data_sel = data_raw[[\"FullDescription\",\"SalaryNormalized\"]]\n",
    "data_sel.head()"
   ]
  },
  {
   "cell_type": "markdown",
   "metadata": {},
   "source": [
    "### A1. What are the top 5 parts of speech in this corpus of job descriptions? How frequently do they appear?"
   ]
  },
  {
   "cell_type": "code",
   "execution_count": 79,
   "metadata": {
    "ExecuteTime": {
     "end_time": "2017-09-11T17:30:30.945000Z",
     "start_time": "2017-09-11T17:30:30.932000Z"
    },
    "collapsed": true
   },
   "outputs": [],
   "source": [
    "from nltk import pos_tag, word_tokenize\n",
    "def remove_weird_char(string):\n",
    "    import re\n",
    "    string = string.lower()\n",
    "    words = string.split()\n",
    "    refined = []\n",
    "    for i in words:\n",
    "        refined.append(re.sub(\"[^\\w]+\", \" \", i))\n",
    "    sentence = ' '.join([word for word in refined])\n",
    "    return(sentence)"
   ]
  },
  {
   "cell_type": "code",
   "execution_count": 80,
   "metadata": {
    "ExecuteTime": {
     "end_time": "2017-09-11T17:30:30.960000Z",
     "start_time": "2017-09-11T17:30:30.949000Z"
    },
    "collapsed": true
   },
   "outputs": [],
   "source": [
    "from nltk.corpus import stopwords\n",
    "cachedStopWords = stopwords.words(\"english\")\n",
    "def rmStopWords(text):\n",
    "        text = ' '.join([word for word in text.split() if word not in cachedStopWords])\n",
    "        return(text)"
   ]
  },
  {
   "cell_type": "code",
   "execution_count": 81,
   "metadata": {
    "ExecuteTime": {
     "end_time": "2017-09-11T17:30:36.608000Z",
     "start_time": "2017-09-11T17:30:30.964000Z"
    }
   },
   "outputs": [
    {
     "name": "stderr",
     "output_type": "stream",
     "text": [
      "C:\\Users\\Meyappan\\Anaconda2\\lib\\site-packages\\ipykernel_launcher.py:1: SettingWithCopyWarning: \n",
      "A value is trying to be set on a copy of a slice from a DataFrame.\n",
      "Try using .loc[row_indexer,col_indexer] = value instead\n",
      "\n",
      "See the caveats in the documentation: http://pandas.pydata.org/pandas-docs/stable/indexing.html#indexing-view-versus-copy\n",
      "  \"\"\"Entry point for launching an IPython kernel.\n"
     ]
    }
   ],
   "source": [
    "data_sel[\"FullDescription\"] = data_sel[\"FullDescription\"].apply(remove_weird_char)"
   ]
  },
  {
   "cell_type": "code",
   "execution_count": 82,
   "metadata": {
    "ExecuteTime": {
     "end_time": "2017-09-11T17:33:05.670000Z",
     "start_time": "2017-09-11T17:30:36.612000Z"
    }
   },
   "outputs": [
    {
     "data": {
      "text/plain": [
       "NN     642103\n",
       "JJ     285228\n",
       "IN     261208\n",
       "NNS    205464\n",
       "DT     202514\n",
       "Name: POS, dtype: int64"
      ]
     },
     "execution_count": 82,
     "metadata": {},
     "output_type": "execute_result"
    }
   ],
   "source": [
    "#slice dataframe to get relevant column\n",
    "job_desc = data_sel['FullDescription'].str.cat(sep=\" \")\n",
    "\n",
    "#tokenize, tag, and turn into a dataframe\n",
    "pos_df = pd.DataFrame(pos_tag(word_tokenize(job_desc)), columns = ['Word', 'POS'])\n",
    "pos_df['POS'].value_counts()[:5]"
   ]
  },
  {
   "cell_type": "code",
   "execution_count": 83,
   "metadata": {
    "ExecuteTime": {
     "end_time": "2017-09-11T17:33:05.679000Z",
     "start_time": "2017-09-11T17:33:05.674000Z"
    },
    "collapsed": true
   },
   "outputs": [],
   "source": [
    "### Another way to do this. \n",
    "#job_descp = data_sel[\"FullDescription\"].str.cat(sep = \" \")\n",
    "#job_words_token = word_tokenize(job_descp)\n",
    "#from collections import Counter\n",
    "#def count_pos_tag(w_token):\n",
    "#    tags = pos_tag(w_token)\n",
    "#    return(dict(Counter(tag for word,tag in tags)))\n",
    "#total_cnt = count_pos_tag(job_words_token)\n",
    "#for key, value in sorted(total_cnt.iteritems(), key=lambda (k,v): (v,k),reverse=True):\n",
    "#    print (key, value)"
   ]
  },
  {
   "cell_type": "code",
   "execution_count": 84,
   "metadata": {
    "ExecuteTime": {
     "end_time": "2017-09-11T17:33:06.369000Z",
     "start_time": "2017-09-11T17:33:05.683000Z"
    },
    "collapsed": true
   },
   "outputs": [],
   "source": [
    "## Note to self its the most common 100 words. \n",
    "zipfs_df = pos_df[\"Word\"].value_counts()[:100].to_frame().reset_index()\n",
    "zipfs_df.columns = [\"word\",\"count\"]"
   ]
  },
  {
   "cell_type": "code",
   "execution_count": 85,
   "metadata": {
    "ExecuteTime": {
     "end_time": "2017-09-11T17:33:06.382000Z",
     "start_time": "2017-09-11T17:33:06.373000Z"
    },
    "collapsed": true
   },
   "outputs": [],
   "source": [
    "zipfs_df[\"predicted_values\"] = max(zipfs_df[\"count\"])/(zipfs_df.index+1)"
   ]
  },
  {
   "cell_type": "code",
   "execution_count": 86,
   "metadata": {
    "ExecuteTime": {
     "end_time": "2017-09-11T17:33:06.624000Z",
     "start_time": "2017-09-11T17:33:06.386000Z"
    }
   },
   "outputs": [
    {
     "data": {
      "image/png": "[encoded data removed]",
      "text/plain": [
       "<matplotlib.figure.Figure at 0x43210080>"
      ]
     },
     "metadata": {},
     "output_type": "display_data"
    }
   ],
   "source": [
    "import matplotlib.pyplot as plt\n",
    "%matplotlib inline\n",
    "\n",
    "fig = zipfs_df[\"count\"].plot(color=\"blue\",label=\"Actual Count\")\n",
    "fig = zipfs_df[\"predicted_values\"].plot(color=\"red\",label=\"Zipfs Prediction\")\n",
    "plt.xlabel(\"Rank\")\n",
    "plt.ylabel(\"Count\")\n",
    "fig.legend()\n",
    "plt.show()"
   ]
  },
  {
   "cell_type": "code",
   "execution_count": 87,
   "metadata": {
    "ExecuteTime": {
     "end_time": "2017-09-11T17:33:06.638000Z",
     "start_time": "2017-09-11T17:33:06.629000Z"
    },
    "collapsed": true
   },
   "outputs": [],
   "source": [
    "from nltk.corpus import stopwords\n",
    "cachedStopWords = stopwords.words(\"english\")\n",
    "def rmStopWords(text):\n",
    "        text = ' '.join([word for word in text.split() if word not in cachedStopWords])\n",
    "        return(text)"
   ]
  },
  {
   "cell_type": "code",
   "execution_count": 88,
   "metadata": {
    "ExecuteTime": {
     "end_time": "2017-09-11T17:33:54.574000Z",
     "start_time": "2017-09-11T17:33:06.643000Z"
    },
    "collapsed": true
   },
   "outputs": [],
   "source": [
    "job_desc_clean = rmStopWords(job_desc)"
   ]
  },
  {
   "cell_type": "code",
   "execution_count": 89,
   "metadata": {
    "ExecuteTime": {
     "end_time": "2017-09-11T17:33:54.600000Z",
     "start_time": "2017-09-11T17:33:54.577000Z"
    },
    "collapsed": true
   },
   "outputs": [],
   "source": [
    "from nltk.corpus import wordnet as wn\n",
    "\n",
    "def is_noun(tag):\n",
    "    return tag in ['NN', 'NNS', 'NNP', 'NNPS']\n",
    "\n",
    "\n",
    "def is_verb(tag):\n",
    "    return tag in ['VB', 'VBD', 'VBG', 'VBN', 'VBP', 'VBZ']\n",
    "\n",
    "\n",
    "def is_adverb(tag):\n",
    "    return tag in ['RB', 'RBR', 'RBS']\n",
    "\n",
    "\n",
    "def is_adjective(tag):\n",
    "    return tag in ['JJ', 'JJR', 'JJS']\n",
    "\n",
    "\n",
    "def penn_to_wn(tag):\n",
    "    if is_adjective(tag):\n",
    "        return wn.ADJ\n",
    "    elif is_noun(tag):\n",
    "        return wn.NOUN\n",
    "    elif is_adverb(tag):\n",
    "        return wn.ADV\n",
    "    elif is_verb(tag):\n",
    "        return wn.VERB\n",
    "    return None"
   ]
  },
  {
   "cell_type": "code",
   "execution_count": 90,
   "metadata": {
    "ExecuteTime": {
     "end_time": "2017-09-11T17:36:10.862000Z",
     "start_time": "2017-09-11T17:33:54.605000Z"
    }
   },
   "outputs": [],
   "source": [
    "from nltk.stem import WordNetLemmatizer\n",
    "\n",
    "job_desc_lem_df = pd.DataFrame(pos_tag(word_tokenize(job_desc_clean)), columns = ['Word', 'POS'])\n",
    "job_desc_lem_df[\"wn\"] = job_desc_lem_df[\"POS\"].apply(penn_to_wn)"
   ]
  },
  {
   "cell_type": "code",
   "execution_count": 91,
   "metadata": {
    "ExecuteTime": {
     "end_time": "2017-09-11T17:37:45.108000Z",
     "start_time": "2017-09-11T17:36:10.866000Z"
    },
    "collapsed": true
   },
   "outputs": [],
   "source": [
    "def lem(row):\n",
    "    lemma = WordNetLemmatizer()\n",
    "    if(row[2] == None):\n",
    "        return(lemma.lemmatize(row[0]))\n",
    "    return(lemma.lemmatize(row[0],row[2]))\n",
    "job_desc_lem_df[\"lem_word\"] = job_desc_lem_df.apply(lem,axis=1)"
   ]
  },
  {
   "cell_type": "code",
   "execution_count": 92,
   "metadata": {
    "ExecuteTime": {
     "end_time": "2017-09-11T17:37:45.655000Z",
     "start_time": "2017-09-11T17:37:45.111000Z"
    }
   },
   "outputs": [
    {
     "data": {
      "text/plain": [
       "work          21109\n",
       "experience    19437\n",
       "role          12467\n",
       "team          12360\n",
       "client        11344\n",
       "business      10836\n",
       "service       10080\n",
       "skill          9446\n",
       "manager        8698\n",
       "within         8627\n",
       "Name: lem_word, dtype: int64"
      ]
     },
     "execution_count": 92,
     "metadata": {},
     "output_type": "execute_result"
    }
   ],
   "source": [
    "job_desc_lem_df[\"lem_word\"].value_counts()[:10]"
   ]
  },
  {
   "cell_type": "markdown",
   "metadata": {},
   "source": [
    "### B1"
   ]
  },
  {
   "cell_type": "code",
   "execution_count": 93,
   "metadata": {
    "ExecuteTime": {
     "end_time": "2017-09-11T17:37:45.960000Z",
     "start_time": "2017-09-11T17:37:45.660000Z"
    }
   },
   "outputs": [
    {
     "name": "stderr",
     "output_type": "stream",
     "text": [
      "C:\\Users\\Meyappan\\Anaconda2\\lib\\site-packages\\ipykernel_launcher.py:2: SettingWithCopyWarning: \n",
      "A value is trying to be set on a copy of a slice from a DataFrame.\n",
      "Try using .loc[row_indexer,col_indexer] = value instead\n",
      "\n",
      "See the caveats in the documentation: http://pandas.pydata.org/pandas-docs/stable/indexing.html#indexing-view-versus-copy\n",
      "  \n"
     ]
    },
    {
     "data": {
      "text/html": [
       "<div>\n",
       "<style>\n",
       "    .dataframe thead tr:only-child th {\n",
       "        text-align: right;\n",
       "    }\n",
       "\n",
       "    .dataframe thead th {\n",
       "        text-align: left;\n",
       "    }\n",
       "\n",
       "    .dataframe tbody tr th {\n",
       "        vertical-align: top;\n",
       "    }\n",
       "</style>\n",
       "<table border=\"1\" class=\"dataframe\">\n",
       "  <thead>\n",
       "    <tr style=\"text-align: right;\">\n",
       "      <th></th>\n",
       "      <th>FullDescription</th>\n",
       "      <th>SalaryNormalized</th>\n",
       "      <th>target</th>\n",
       "    </tr>\n",
       "  </thead>\n",
       "  <tbody>\n",
       "    <tr>\n",
       "      <th>179687</th>\n",
       "      <td>sas administrator london  k my client  are a s...</td>\n",
       "      <td>50000</td>\n",
       "      <td>high</td>\n",
       "    </tr>\n",
       "    <tr>\n",
       "      <th>18497</th>\n",
       "      <td>job title  retail director location  midlands ...</td>\n",
       "      <td>97500</td>\n",
       "      <td>high</td>\n",
       "    </tr>\n",
       "    <tr>\n",
       "      <th>86382</th>\n",
       "      <td>private client solicitor 2 years pqe east grin...</td>\n",
       "      <td>40000</td>\n",
       "      <td>low</td>\n",
       "    </tr>\n",
       "    <tr>\n",
       "      <th>12805</th>\n",
       "      <td>mh  devon   cornwall excellent opportunity to...</td>\n",
       "      <td>22000</td>\n",
       "      <td>low</td>\n",
       "    </tr>\n",
       "    <tr>\n",
       "      <th>203497</th>\n",
       "      <td>position  white goods domestic appliance engin...</td>\n",
       "      <td>24000</td>\n",
       "      <td>low</td>\n",
       "    </tr>\n",
       "  </tbody>\n",
       "</table>\n",
       "</div>"
      ],
      "text/plain": [
       "                                          FullDescription  SalaryNormalized  \\\n",
       "179687  sas administrator london  k my client  are a s...             50000   \n",
       "18497   job title  retail director location  midlands ...             97500   \n",
       "86382   private client solicitor 2 years pqe east grin...             40000   \n",
       "12805    mh  devon   cornwall excellent opportunity to...             22000   \n",
       "203497  position  white goods domestic appliance engin...             24000   \n",
       "\n",
       "       target  \n",
       "179687   high  \n",
       "18497    high  \n",
       "86382     low  \n",
       "12805     low  \n",
       "203497    low  "
      ]
     },
     "execution_count": 93,
     "metadata": {},
     "output_type": "execute_result"
    }
   ],
   "source": [
    "import numpy as np\n",
    "data_sel['target'] = np.where(data_sel['SalaryNormalized']>=data_sel[\"SalaryNormalized\"].quantile(0.75), 'high', 'low')\n",
    "data_sel.head()"
   ]
  },
  {
   "cell_type": "code",
   "execution_count": 94,
   "metadata": {
    "ExecuteTime": {
     "end_time": "2017-09-11T17:37:48.816000Z",
     "start_time": "2017-09-11T17:37:45.965000Z"
    },
    "collapsed": true
   },
   "outputs": [],
   "source": [
    "from sklearn.naive_bayes import MultinomialNB\n",
    "from sklearn.feature_extraction.text import CountVectorizer\n",
    "from sklearn import metrics\n",
    "from operator import itemgetter\n",
    "from sklearn.metrics import classification_report\n",
    "\n",
    "\n",
    "vectorizer = CountVectorizer()\n",
    "\n",
    "\n",
    "trainset_size = int(round(len(data_sel)*0.80))\n",
    "X_train = data_sel[\"FullDescription\"].iloc[1:trainset_size,]\n",
    "y_train = data_sel[\"target\"].iloc[1:trainset_size,]\n",
    "\n",
    "X_test = data_sel[\"FullDescription\"].iloc[trainset_size:,]\n",
    "y_test = data_sel[\"target\"].iloc[trainset_size:,]\n",
    "\n",
    "X_train = vectorizer.fit_transform(X_train)\n",
    "X_test = vectorizer.transform(X_test)"
   ]
  },
  {
   "cell_type": "code",
   "execution_count": 95,
   "metadata": {
    "ExecuteTime": {
     "end_time": "2017-09-11T17:37:48.884000Z",
     "start_time": "2017-09-11T17:37:48.820000Z"
    },
    "collapsed": true
   },
   "outputs": [],
   "source": [
    "nb_classifier = MultinomialNB().fit(X_train, y_train)\n",
    "\n",
    "y_nb_predicted = nb_classifier.predict(X_test)"
   ]
  },
  {
   "cell_type": "code",
   "execution_count": 96,
   "metadata": {
    "ExecuteTime": {
     "end_time": "2017-09-11T17:37:48.910000Z",
     "start_time": "2017-09-11T17:37:48.887000Z"
    }
   },
   "outputs": [
    {
     "name": "stdout",
     "output_type": "stream",
     "text": [
      "The accuracy for this classifier is 0.7985\n"
     ]
    },
    {
     "data": {
      "text/plain": [
       "array([[ 361,  146],\n",
       "       [ 257, 1236]])"
      ]
     },
     "execution_count": 96,
     "metadata": {},
     "output_type": "execute_result"
    }
   ],
   "source": [
    "print('The accuracy for this classifier is ' + str(metrics.accuracy_score(y_test, y_nb_predicted)))\n",
    "metrics.confusion_matrix(y_test, y_nb_predicted)"
   ]
  },
  {
   "cell_type": "markdown",
   "metadata": {},
   "source": [
    "### B2 \n",
    "\n",
    "Speculation thoughts: Most likely worse.\n",
    "\n",
    "Add more details"
   ]
  },
  {
   "cell_type": "code",
   "execution_count": 97,
   "metadata": {
    "ExecuteTime": {
     "end_time": "2017-09-11T17:37:48.923000Z",
     "start_time": "2017-09-11T17:37:48.915000Z"
    },
    "collapsed": true
   },
   "outputs": [],
   "source": [
    "def sent_lem(sentence):\n",
    "    lemma = WordNetLemmatizer()\n",
    "    lem_words = [lemma.lemmatize(i,j[0].lower()) if j[0].lower() in ['a','n','v'] else lemma.lemmatize(i) for i,j in pos_tag(word_tokenize(sentence))]\n",
    "    return(' '.join(lem_words))"
   ]
  },
  {
   "cell_type": "code",
   "execution_count": 98,
   "metadata": {
    "ExecuteTime": {
     "end_time": "2017-09-11T17:40:53.955000Z",
     "start_time": "2017-09-11T17:37:48.928000Z"
    }
   },
   "outputs": [
    {
     "name": "stderr",
     "output_type": "stream",
     "text": [
      "C:\\Users\\Meyappan\\Anaconda2\\lib\\site-packages\\ipykernel_launcher.py:1: SettingWithCopyWarning: \n",
      "A value is trying to be set on a copy of a slice from a DataFrame.\n",
      "Try using .loc[row_indexer,col_indexer] = value instead\n",
      "\n",
      "See the caveats in the documentation: http://pandas.pydata.org/pandas-docs/stable/indexing.html#indexing-view-versus-copy\n",
      "  \"\"\"Entry point for launching an IPython kernel.\n"
     ]
    }
   ],
   "source": [
    "data_sel[\"lem_desc\"] = data_sel[\"FullDescription\"].apply(sent_lem)"
   ]
  },
  {
   "cell_type": "code",
   "execution_count": 99,
   "metadata": {
    "ExecuteTime": {
     "end_time": "2017-09-11T17:40:56.988000Z",
     "start_time": "2017-09-11T17:40:53.961000Z"
    },
    "collapsed": true
   },
   "outputs": [],
   "source": [
    "vectorizer = CountVectorizer()\n",
    "\n",
    "\n",
    "trainset_size = int(round(len(data_sel)*0.80))\n",
    "X_train = data_sel[\"lem_desc\"].iloc[1:trainset_size,]\n",
    "y_train = data_sel[\"target\"].iloc[1:trainset_size,]\n",
    "\n",
    "X_test = data_sel[\"lem_desc\"].iloc[trainset_size:,]\n",
    "y_test = data_sel[\"target\"].iloc[trainset_size:,]\n",
    "\n",
    "X_train = vectorizer.fit_transform(X_train)\n",
    "X_test = vectorizer.transform(X_test)"
   ]
  },
  {
   "cell_type": "code",
   "execution_count": 100,
   "metadata": {
    "ExecuteTime": {
     "end_time": "2017-09-11T17:40:57.048000Z",
     "start_time": "2017-09-11T17:40:56.994000Z"
    },
    "collapsed": true
   },
   "outputs": [],
   "source": [
    "nb_classifier = MultinomialNB().fit(X_train, y_train)\n",
    "\n",
    "y_nb_predicted = nb_classifier.predict(X_test)"
   ]
  },
  {
   "cell_type": "code",
   "execution_count": 101,
   "metadata": {
    "ExecuteTime": {
     "end_time": "2017-09-11T17:40:57.080000Z",
     "start_time": "2017-09-11T17:40:57.054000Z"
    }
   },
   "outputs": [
    {
     "name": "stdout",
     "output_type": "stream",
     "text": [
      "The accuracy for this classifier is 0.796\n"
     ]
    },
    {
     "data": {
      "text/plain": [
       "array([[ 359,  148],\n",
       "       [ 260, 1233]])"
      ]
     },
     "execution_count": 101,
     "metadata": {},
     "output_type": "execute_result"
    }
   ],
   "source": [
    "print('The accuracy for this classifier is ' + str(metrics.accuracy_score(y_test, y_nb_predicted)))\n",
    "metrics.confusion_matrix(y_test, y_nb_predicted)"
   ]
  },
  {
   "cell_type": "markdown",
   "metadata": {},
   "source": [
    "#### B3\n",
    "\n",
    "Note: we think that high paying jobs have too many stopwords? "
   ]
  },
  {
   "cell_type": "code",
   "execution_count": 102,
   "metadata": {
    "ExecuteTime": {
     "end_time": "2017-09-11T17:41:48.040000Z",
     "start_time": "2017-09-11T17:40:57.084000Z"
    }
   },
   "outputs": [
    {
     "name": "stderr",
     "output_type": "stream",
     "text": [
      "C:\\Users\\Meyappan\\Anaconda2\\lib\\site-packages\\ipykernel_launcher.py:1: SettingWithCopyWarning: \n",
      "A value is trying to be set on a copy of a slice from a DataFrame.\n",
      "Try using .loc[row_indexer,col_indexer] = value instead\n",
      "\n",
      "See the caveats in the documentation: http://pandas.pydata.org/pandas-docs/stable/indexing.html#indexing-view-versus-copy\n",
      "  \"\"\"Entry point for launching an IPython kernel.\n"
     ]
    }
   ],
   "source": [
    "data_sel[\"noSW_desc\"] = data_sel[\"FullDescription\"].apply(rmStopWords)"
   ]
  },
  {
   "cell_type": "code",
   "execution_count": 103,
   "metadata": {
    "ExecuteTime": {
     "end_time": "2017-09-11T17:41:50.196000Z",
     "start_time": "2017-09-11T17:41:48.045000Z"
    },
    "collapsed": true
   },
   "outputs": [],
   "source": [
    "vectorizer = CountVectorizer()\n",
    "\n",
    "\n",
    "trainset_size = int(round(len(data_sel)*0.80))\n",
    "X_train = data_sel[\"noSW_desc\"].iloc[1:trainset_size,]\n",
    "y_train = data_sel[\"target\"].iloc[1:trainset_size,]\n",
    "\n",
    "X_test = data_sel[\"noSW_desc\"].iloc[trainset_size:,]\n",
    "y_test = data_sel[\"target\"].iloc[trainset_size:,]\n",
    "\n",
    "X_train = vectorizer.fit_transform(X_train)\n",
    "X_test = vectorizer.transform(X_test)"
   ]
  },
  {
   "cell_type": "code",
   "execution_count": 104,
   "metadata": {
    "ExecuteTime": {
     "end_time": "2017-09-11T17:41:50.277000Z",
     "start_time": "2017-09-11T17:41:50.201000Z"
    }
   },
   "outputs": [
    {
     "name": "stdout",
     "output_type": "stream",
     "text": [
      "The accuracy for this classifier is 0.7965\n"
     ]
    },
    {
     "data": {
      "text/plain": [
       "array([[ 373,  134],\n",
       "       [ 273, 1220]])"
      ]
     },
     "execution_count": 104,
     "metadata": {},
     "output_type": "execute_result"
    }
   ],
   "source": [
    "nb_classifier = MultinomialNB().fit(X_train, y_train)\n",
    "\n",
    "y_nb_predicted = nb_classifier.predict(X_test)\n",
    "print('The accuracy for this classifier is ' + str(metrics.accuracy_score(y_test, y_nb_predicted)))\n",
    "metrics.confusion_matrix(y_test, y_nb_predicted)"
   ]
  },
  {
   "cell_type": "markdown",
   "metadata": {},
   "source": [
    "### Top 10 Words\n",
    "\n",
    "Also show the top 10 words (excluding stopwords) that are most indicative of (i) high salary, and (ii) low salary. "
   ]
  },
  {
   "cell_type": "code",
   "execution_count": 105,
   "metadata": {
    "ExecuteTime": {
     "end_time": "2017-09-11T17:41:50.973000Z",
     "start_time": "2017-09-11T17:41:50.282000Z"
    }
   },
   "outputs": [],
   "source": [
    "data_hi = data_sel.loc[data_sel[\"target\"] == 'high']\n",
    "data_low = data_sel.loc[data_sel['target'] == 'low']\n",
    "\n",
    "vectorizer = CountVectorizer()\n",
    "\n",
    "trainset_size = int(round(len(data_hi)*0.80))\n",
    "X_train = data_hi[\"noSW_desc\"].iloc[1:trainset_size,]\n",
    "y_train = data_hi[\"target\"].iloc[1:trainset_size,]\n",
    "\n",
    "X_test = data_hi[\"noSW_desc\"].iloc[trainset_size:,]\n",
    "y_test = data_hi[\"target\"].iloc[trainset_size:,]\n",
    "\n",
    "X_train = vectorizer.fit_transform(X_train)\n",
    "X_test = vectorizer.transform(X_test)\n",
    "nb_classifier = MultinomialNB().fit(X_train, y_train)"
   ]
  },
  {
   "cell_type": "code",
   "execution_count": 106,
   "metadata": {
    "ExecuteTime": {
     "end_time": "2017-09-11T17:41:51.031000Z",
     "start_time": "2017-09-11T17:41:50.979000Z"
    }
   },
   "outputs": [
    {
     "name": "stdout",
     "output_type": "stream",
     "text": [
      "\n",
      "The top 10 most informative features for high salary: \n",
      "manager client within skills work management team role business experience\n"
     ]
    }
   ],
   "source": [
    "N = 10\n",
    "vocabulary = np.array([t for t, i in sorted(vectorizer.vocabulary_.iteritems(), key=itemgetter(1))])\n",
    "topN = np.argsort(nb_classifier.coef_[0])[-N:]\n",
    "print(\"\\nThe top %d most informative features for high salary: \\n%s\" % (N, \" \".join(vocabulary[topN])))"
   ]
  },
  {
   "cell_type": "code",
   "execution_count": 107,
   "metadata": {
    "ExecuteTime": {
     "end_time": "2017-09-11T17:41:52.718000Z",
     "start_time": "2017-09-11T17:41:51.036000Z"
    },
    "collapsed": true
   },
   "outputs": [],
   "source": [
    "vectorizer = CountVectorizer()\n",
    "\n",
    "trainset_size = int(round(len(data_low)*0.80))\n",
    "X_train = data_low[\"noSW_desc\"].iloc[1:trainset_size,]\n",
    "y_train = data_low[\"target\"].iloc[1:trainset_size,]\n",
    "\n",
    "X_test = data_low[\"noSW_desc\"].iloc[trainset_size:,]\n",
    "y_test = data_low[\"target\"].iloc[trainset_size:,]\n",
    "\n",
    "X_train = vectorizer.fit_transform(X_train)\n",
    "X_test = vectorizer.transform(X_test)\n",
    "nb_classifier = MultinomialNB().fit(X_train, y_train)"
   ]
  },
  {
   "cell_type": "code",
   "execution_count": 108,
   "metadata": {
    "ExecuteTime": {
     "end_time": "2017-09-11T17:41:52.803000Z",
     "start_time": "2017-09-11T17:41:52.722000Z"
    }
   },
   "outputs": [
    {
     "name": "stdout",
     "output_type": "stream",
     "text": [
      "\n",
      "The top 10 most informative features for low salary: \n",
      "client within business working sales skills team role work experience\n"
     ]
    }
   ],
   "source": [
    "vocabulary = np.array([t for t, i in sorted(vectorizer.vocabulary_.iteritems(), key=itemgetter(1))])\n",
    "topN = np.argsort(nb_classifier.coef_[0])[-N:]\n",
    "print(\"\\nThe top %d most informative features for low salary: \\n%s\" % (N, \" \".join(vocabulary[topN])))"
   ]
  },
  {
   "cell_type": "markdown",
   "metadata": {},
   "source": [
    "#### B4"
   ]
  },
  {
   "cell_type": "code",
   "execution_count": 109,
   "metadata": {
    "ExecuteTime": {
     "end_time": "2017-09-11T17:41:52.844000Z",
     "start_time": "2017-09-11T17:41:52.807000Z"
    },
    "collapsed": true
   },
   "outputs": [],
   "source": [
    "bigram_vectorizer = CountVectorizer(ngram_range=(1, 2),\n",
    "                                     token_pattern=r'\\b\\w+\\b', min_df=1)"
   ]
  },
  {
   "cell_type": "code",
   "execution_count": 110,
   "metadata": {
    "ExecuteTime": {
     "end_time": "2017-09-11T17:42:04.951000Z",
     "start_time": "2017-09-11T17:41:52.852000Z"
    },
    "collapsed": true
   },
   "outputs": [],
   "source": [
    "trainset_size = int(round(len(data_sel)*0.80))\n",
    "X = bigram_vectorizer.fit_transform(data_sel[\"FullDescription\"])\n",
    "\n",
    "X_train = X[1:trainset_size,]\n",
    "y_train = data_sel[\"target\"].iloc[1:trainset_size,]\n",
    "\n",
    "X_test = X[trainset_size:,]\n",
    "y_test = data_sel[\"target\"].iloc[trainset_size:,]"
   ]
  },
  {
   "cell_type": "code",
   "execution_count": 111,
   "metadata": {
    "ExecuteTime": {
     "end_time": "2017-09-11T17:42:05.131000Z",
     "start_time": "2017-09-11T17:42:04.954000Z"
    }
   },
   "outputs": [
    {
     "name": "stdout",
     "output_type": "stream",
     "text": [
      "The accuracy for this classifier is 0.824\n"
     ]
    },
    {
     "data": {
      "text/plain": [
       "array([[ 278,  229],\n",
       "       [ 123, 1370]])"
      ]
     },
     "execution_count": 111,
     "metadata": {},
     "output_type": "execute_result"
    }
   ],
   "source": [
    "nb_classifier = MultinomialNB().fit(X_train, y_train)\n",
    "\n",
    "y_nb_predicted = nb_classifier.predict(X_test)\n",
    "print('The accuracy for this classifier is ' + str(metrics.accuracy_score(y_test, y_nb_predicted)))\n",
    "metrics.confusion_matrix(y_test, y_nb_predicted)"
   ]
  }
 ],
 "metadata": {
  "kernelspec": {
   "display_name": "Python 2",
   "language": "python",
   "name": "python2"
  },
  "language_info": {
   "codemirror_mode": {
    "name": "ipython",
    "version": 2
   },
   "file_extension": ".py",
   "mimetype": "text/x-python",
   "name": "python",
   "nbconvert_exporter": "python",
   "pygments_lexer": "ipython2",
   "version": "2.7.11"
  },
  "latex_envs": {
   "LaTeX_envs_menu_present": true,
   "autocomplete": true,
   "bibliofile": "biblio.bib",
   "cite_by": "apalike",
   "current_citInitial": 1,
   "eqLabelWithNumbers": true,
   "eqNumInitial": 1,
   "hotkeys": {
    "equation": "Ctrl-E",
    "itemize": "Ctrl-I"
   },
   "labels_anchors": false,
   "latex_user_defs": false,
   "report_style_numbering": false,
   "user_envs_cfg": false
  },
  "varInspector": {
   "cols": {
    "lenName": 16,
    "lenType": 16,
    "lenVar": 40
   },
   "kernels_config": {
    "python": {
     "delete_cmd_postfix": "",
     "delete_cmd_prefix": "del ",
     "library": "var_list.py",
     "varRefreshCmd": "print(var_dic_list())"
    },
    "r": {
     "delete_cmd_postfix": ") ",
     "delete_cmd_prefix": "rm(",
     "library": "var_list.r",
     "varRefreshCmd": "cat(var_dic_list()) "
    }
   },
   "types_to_exclude": [
    "module",
    "function",
    "builtin_function_or_method",
    "instance",
    "_Feature"
   ],
   "window_display": false
  }
 },
 "nbformat": 4,
 "nbformat_minor": 2
}
